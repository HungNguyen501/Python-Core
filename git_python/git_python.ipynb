{
 "cells": [
  {
   "cell_type": "code",
   "execution_count": 1,
   "metadata": {},
   "outputs": [],
   "source": [
    "import git"
   ]
  },
  {
   "cell_type": "markdown",
   "metadata": {},
   "source": [
    "## References\n",
    "- [Working with Git Repositories in Python](https://www.devdungeon.com/content/working-git-repositories-python).\n",
    "- [GitPython Tutorial](https://gitpython.readthedocs.io/en/stable/tutorial.html)."
   ]
  },
  {
   "cell_type": "code",
   "execution_count": 18,
   "metadata": {},
   "outputs": [],
   "source": [
    "warehouse_repo = git.Repo(\"../../\")"
   ]
  },
  {
   "cell_type": "markdown",
   "metadata": {},
   "source": [
    "## CONFIGURE USER.NAME AND USER.MAIL"
   ]
  },
  {
   "cell_type": "code",
   "execution_count": 19,
   "metadata": {},
   "outputs": [
    {
     "name": "stdout",
     "output_type": "stream",
     "text": [
      "hungnd8@vng.com.vn\n",
      "hungnd8\n"
     ]
    }
   ],
   "source": [
    "\"\"\"\n",
    "# Configure user.name and user.email\n",
    "with repo.config_writer() as git_config:\n",
    "    git_config.set_value('user', 'email', 'someone@example.com')\n",
    "    git_config.set_value('user', 'name', 'John Doe')\n",
    "\"\"\"\n",
    "\n",
    "# To check configuration values, use `config_reader()`\n",
    "with warehouse_repo.config_reader() as git_config:\n",
    "    print(git_config.get_value('user', 'email'))\n",
    "    print(git_config.get_value('user', 'name'))"
   ]
  },
  {
   "cell_type": "markdown",
   "metadata": {},
   "source": [
    "## CHECK IF A REPO HAS CHANGES"
   ]
  },
  {
   "cell_type": "code",
   "execution_count": 20,
   "metadata": {},
   "outputs": [
    {
     "data": {
      "text/plain": [
       "True"
      ]
     },
     "execution_count": 20,
     "metadata": {},
     "output_type": "execute_result"
    }
   ],
   "source": [
    "# Check untracked files\n",
    "warehouse_repo.is_dirty(untracked_files=True)"
   ]
  },
  {
   "cell_type": "markdown",
   "metadata": {},
   "source": [
    "## GET A DIFF OF FILE CHANGES"
   ]
  },
  {
   "cell_type": "code",
   "execution_count": 95,
   "metadata": {},
   "outputs": [
    {
     "name": "stdout",
     "output_type": "stream",
     "text": [
      "changed file: python/GitPython/git-python.ipynb\n",
      "changed file: D\n",
      "changed file: True\n",
      "changed file: python/requirements.txt\n",
      "changed file: M\n",
      "changed file: False\n"
     ]
    }
   ],
   "source": [
    "for item in warehouse_repo.index.diff(\"HEAD~1\"):\n",
    "    print(f\"changed file: {item.a_path}\")\n",
    "    print(f\"changed file: {item.change_type}\")\n",
    "    print(f\"changed file: {item.deleted_file}\")\n",
    "for item in warehouse_repo.untracked_files:\n",
    "    print(f\"untracked file: {item}\")"
   ]
  },
  {
   "cell_type": "markdown",
   "metadata": {},
   "source": [
    "## ADD AND COMMIT FILES"
   ]
  },
  {
   "cell_type": "code",
   "execution_count": 52,
   "metadata": {},
   "outputs": [
    {
     "data": {
      "text/plain": [
       "f1365d3cca4cbb7e5973c9b17c03d79d4749a09a 5ec1e447534b6e212af86e1595592d5bbfef26a7 hungnd8 <hungnd8@vng.com.vn> 1712484562 +0700\tgitpython test"
      ]
     },
     "execution_count": 52,
     "metadata": {},
     "output_type": "execute_result"
    }
   ],
   "source": [
    "logs = warehouse_repo.head.reference.log()\n",
    "last_commit = logs[-1]\n",
    "last_commit"
   ]
  },
  {
   "cell_type": "code",
   "execution_count": 53,
   "metadata": {},
   "outputs": [
    {
     "data": {
      "text/plain": [
       "'gitpython test'"
      ]
     },
     "execution_count": 53,
     "metadata": {},
     "output_type": "execute_result"
    }
   ],
   "source": [
    "last_commit.message"
   ]
  },
  {
   "cell_type": "code",
   "execution_count": 25,
   "metadata": {},
   "outputs": [
    {
     "data": {
      "text/plain": [
       "<git.Commit \"5ec1e447534b6e212af86e1595592d5bbfef26a7\">"
      ]
     },
     "execution_count": 25,
     "metadata": {},
     "output_type": "execute_result"
    }
   ],
   "source": [
    "# Provide a list of the files to stage\n",
    "list_files = [\"python/requirements.txt\"]\n",
    "warehouse_repo.index.add(list_files)\n",
    "# Provide a commit message\n",
    "warehouse_repo.index.commit('gitpython test')"
   ]
  },
  {
   "cell_type": "code",
   "execution_count": 54,
   "metadata": {},
   "outputs": [
    {
     "data": {
      "text/plain": [
       "<git.HEAD \"HEAD\">"
      ]
     },
     "execution_count": 54,
     "metadata": {},
     "output_type": "execute_result"
    }
   ],
   "source": [
    "# Git reset soft\n",
    "warehouse_repo.head.reset(commit=\"HEAD~1\")"
   ]
  },
  {
   "cell_type": "markdown",
   "metadata": {},
   "source": [
    "## WORK WITH REMOTE REPOSITORIES"
   ]
  },
  {
   "cell_type": "code",
   "execution_count": 26,
   "metadata": {},
   "outputs": [
    {
     "name": "stdout",
     "output_type": "stream",
     "text": [
      "Remote name: origin\n",
      "Remote URL: git@github.com:HungNguyen501/mrroot501-warehouse.git\n"
     ]
    }
   ],
   "source": [
    "# Reference a remote by its name as part of the object\n",
    "print(f'Remote name: {warehouse_repo.remotes.origin.name}')\n",
    "print(f'Remote URL: {warehouse_repo.remotes.origin.url}')"
   ]
  },
  {
   "cell_type": "code",
   "execution_count": 27,
   "metadata": {},
   "outputs": [
    {
     "name": "stdout",
     "output_type": "stream",
     "text": [
      "[<git.remote.FetchInfo object at 0x116224950>]\n"
     ]
    }
   ],
   "source": [
    "# Delete a remote\n",
    "# repo.delete_remote('myremote')\n",
    "\n",
    "# Pull from remote repo\n",
    "print(warehouse_repo.remotes.origin.pull())\n",
    "# Push changes\n",
    "# print(repo.remotes.origin.push())"
   ]
  },
  {
   "cell_type": "markdown",
   "metadata": {},
   "source": [
    "## CREATE AND SWITCH BRANCHES"
   ]
  },
  {
   "cell_type": "code",
   "execution_count": 28,
   "metadata": {},
   "outputs": [
    {
     "name": "stdout",
     "output_type": "stream",
     "text": [
      "main\n"
     ]
    }
   ],
   "source": [
    "# List all branches\n",
    "for branch in warehouse_repo.branches:\n",
    "    print(branch)"
   ]
  },
  {
   "cell_type": "code",
   "execution_count": 30,
   "metadata": {},
   "outputs": [
    {
     "data": {
      "text/plain": [
       "'Your branch is ahead of \\'origin/main\\' by 1 commit.\\n  (use \"git push\" to publish your local commits)'"
      ]
     },
     "execution_count": 30,
     "metadata": {},
     "output_type": "execute_result"
    }
   ],
   "source": [
    "# Create a new branch\n",
    "# repo.git.branch('my_new_branch')\n",
    "# You need to check out the branch after creating it if you want to use it\n",
    "# repo.git.checkout('my_new_branch3')\n",
    "\n",
    "# To checkout master again:\n",
    "warehouse_repo.git.checkout('main')"
   ]
  },
  {
   "cell_type": "code",
   "execution_count": null,
   "metadata": {},
   "outputs": [],
   "source": []
  },
  {
   "cell_type": "code",
   "execution_count": null,
   "metadata": {},
   "outputs": [],
   "source": []
  },
  {
   "cell_type": "code",
   "execution_count": null,
   "metadata": {},
   "outputs": [],
   "source": []
  },
  {
   "cell_type": "code",
   "execution_count": null,
   "metadata": {},
   "outputs": [],
   "source": []
  }
 ],
 "metadata": {
  "kernelspec": {
   "display_name": "Python 3",
   "language": "python",
   "name": "python3"
  },
  "language_info": {
   "codemirror_mode": {
    "name": "ipython",
    "version": 3
   },
   "file_extension": ".py",
   "mimetype": "text/x-python",
   "name": "python",
   "nbconvert_exporter": "python",
   "pygments_lexer": "ipython3",
   "version": "3.11.6"
  }
 },
 "nbformat": 4,
 "nbformat_minor": 2
}
