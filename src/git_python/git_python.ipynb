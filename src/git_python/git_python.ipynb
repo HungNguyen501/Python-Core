{
 "cells": [
  {
   "cell_type": "code",
   "execution_count": 2,
   "metadata": {},
   "outputs": [],
   "source": [
    "import git"
   ]
  },
  {
   "cell_type": "markdown",
   "metadata": {},
   "source": [
    "## References\n",
    "\n",
    "- [Working with Git Repositories in Python](https://www.devdungeon.com/content/working-git-repositories-python).\n",
    "- [GitPython Tutorial](https://gitpython.readthedocs.io/en/stable/tutorial.html).\n"
   ]
  },
  {
   "cell_type": "code",
   "execution_count": 3,
   "metadata": {},
   "outputs": [],
   "source": [
    "repo = git.Repo(\"../../\")"
   ]
  },
  {
   "cell_type": "code",
   "execution_count": 4,
   "metadata": {},
   "outputs": [
    {
     "data": {
      "text/plain": [
       "'feature/update-ci'"
      ]
     },
     "execution_count": 4,
     "metadata": {},
     "output_type": "execute_result"
    }
   ],
   "source": [
    "repo.active_branch.name"
   ]
  },
  {
   "cell_type": "markdown",
   "metadata": {},
   "source": [
    "## CONFIGURE USER.NAME AND USER.MAIL\n"
   ]
  },
  {
   "cell_type": "code",
   "execution_count": 10,
   "metadata": {},
   "outputs": [
    {
     "name": "stdout",
     "output_type": "stream",
     "text": [
      "hungnd8@vng.com.vn\n",
      "hungnd8\n"
     ]
    }
   ],
   "source": [
    "\"\"\"\n",
    "# Configure user.name and user.email\n",
    "with repo.config_writer() as git_config:\n",
    "    git_config.set_value('user', 'email', 'someone@example.com')\n",
    "    git_config.set_value('user', 'name', 'John Doe')\n",
    "\"\"\"\n",
    "\n",
    "# To check configuration values, use `config_reader()`\n",
    "with repo.config_reader() as git_config:\n",
    "    print(git_config.get_value('user', 'email'))\n",
    "    print(git_config.get_value('user', 'name'))"
   ]
  },
  {
   "cell_type": "markdown",
   "metadata": {},
   "source": [
    "## CHECK IF A REPO HAS CHANGES\n"
   ]
  },
  {
   "cell_type": "code",
   "execution_count": 11,
   "metadata": {},
   "outputs": [
    {
     "data": {
      "text/plain": [
       "True"
      ]
     },
     "execution_count": 11,
     "metadata": {},
     "output_type": "execute_result"
    }
   ],
   "source": [
    "# Check untracked files\n",
    "repo.is_dirty(untracked_files=True)"
   ]
  },
  {
   "cell_type": "markdown",
   "metadata": {},
   "source": [
    "## GET A DIFF OF FILE CHANGES\n"
   ]
  },
  {
   "cell_type": "code",
   "execution_count": 12,
   "metadata": {},
   "outputs": [
    {
     "name": "stdout",
     "output_type": "stream",
     "text": [
      "changed file: .github/workflows/github-ci.yml\n",
      "changed file: D\n",
      "changed file: True\n",
      "changed file: convention_checking.sh\n",
      "changed file: M\n",
      "changed file: False\n",
      "changed file: requirements.txt\n",
      "changed file: M\n",
      "changed file: False\n",
      "untracked file: src/__init__.py\n",
      "untracked file: src/data_hub/__init__.py\n",
      "untracked file: src/data_hub/datahub.py\n",
      "untracked file: src/data_hub/tests/test_datahub.py\n",
      "untracked file: src/git_python/git_ci.py\n",
      "untracked file: src/git_python/git_python.ipynb\n",
      "untracked file: src/hdfs_tree_paths/__init__.py\n",
      "untracked file: src/hdfs_tree_paths/hdfs_tree_paths.py\n",
      "untracked file: src/hdfs_tree_paths/tests/__init__.py\n",
      "untracked file: src/hdfs_tree_paths/tests/test_hdfs_tree_paths.py\n",
      "untracked file: src/schema_registry/__init__.py\n",
      "untracked file: src/schema_registry/schema-registry.md\n",
      "untracked file: src/schema_registry/schema_registry.py\n",
      "untracked file: src/unittest_async/README.md\n",
      "untracked file: src/unittest_async/__init__.py\n",
      "untracked file: src/unittest_async/data/fictional_events.json\n",
      "untracked file: src/unittest_async/data/output.txt\n",
      "untracked file: src/unittest_async/main.py\n",
      "untracked file: src/unittest_async/tests/__init__.py\n",
      "untracked file: src/unittest_async/tests/test_main.py\n",
      "untracked file: src/web_crawler/data/gold_prices/.dummy\n",
      "untracked file: src/web_crawler/data/gold_prices/20240401-20150101.csv\n",
      "untracked file: src/web_crawler/data/gold_prices/20240407-20240401.csv\n",
      "untracked file: src/web_crawler/data/gold_prices/20240409-20240408.csv\n",
      "untracked file: src/web_crawler/gold_prices.ipynb\n"
     ]
    }
   ],
   "source": [
    "for item in repo.index.diff(\"HEAD~1\"):\n",
    "    print(f\"changed file: {item.a_path}\")\n",
    "    print(f\"changed file: {item.change_type}\")\n",
    "    print(f\"changed file: {item.deleted_file}\")\n",
    "for item in repo.untracked_files:\n",
    "    print(f\"untracked file: {item}\")"
   ]
  },
  {
   "cell_type": "markdown",
   "metadata": {},
   "source": [
    "## ADD AND COMMIT FILES\n"
   ]
  },
  {
   "cell_type": "code",
   "execution_count": 13,
   "metadata": {},
   "outputs": [
    {
     "data": {
      "text/plain": [
       "0000000000000000000000000000000000000000 e9e3bb5ee363b9c8109eb239ea82fac370702aa0 hungnd8 <hungnd8@vng.com.vn> 1713954233 +0700\tbranch: Created from HEAD"
      ]
     },
     "execution_count": 13,
     "metadata": {},
     "output_type": "execute_result"
    }
   ],
   "source": [
    "logs = repo.head.reference.log()\n",
    "last_commit = logs[-1]\n",
    "last_commit"
   ]
  },
  {
   "cell_type": "code",
   "execution_count": 14,
   "metadata": {},
   "outputs": [
    {
     "data": {
      "text/plain": [
       "'branch: Created from HEAD'"
      ]
     },
     "execution_count": 14,
     "metadata": {},
     "output_type": "execute_result"
    }
   ],
   "source": [
    "last_commit.message"
   ]
  },
  {
   "cell_type": "code",
   "execution_count": 27,
   "metadata": {},
   "outputs": [],
   "source": [
    "# Provide a list of the files to stage\n",
    "# list_files = [\"python/requirements.txt\"]\n",
    "# repo.index.add(list_files)\n",
    "# # Provide a commit message\n",
    "# repo.index.commit('gitpython test')"
   ]
  },
  {
   "cell_type": "code",
   "execution_count": null,
   "metadata": {},
   "outputs": [
    {
     "data": {
      "text/plain": [
       "<git.HEAD \"HEAD\">"
      ]
     },
     "execution_count": 54,
     "metadata": {},
     "output_type": "execute_result"
    }
   ],
   "source": [
    "# Git reset soft\n",
    "repo.head.reset(commit=\"HEAD~1\")"
   ]
  },
  {
   "cell_type": "markdown",
   "metadata": {},
   "source": [
    "## WORK WITH REMOTE REPOSITORIES\n"
   ]
  },
  {
   "cell_type": "code",
   "execution_count": 16,
   "metadata": {},
   "outputs": [
    {
     "name": "stdout",
     "output_type": "stream",
     "text": [
      "Remote name: origin\n",
      "Remote URL: git@github.com:HungNguyen501/Python-Core.git\n"
     ]
    }
   ],
   "source": [
    "# Reference a remote by its name as part of the object\n",
    "print(f'Remote name: {repo.remotes.origin.name}')\n",
    "print(f'Remote URL: {repo.remotes.origin.url}')"
   ]
  },
  {
   "cell_type": "code",
   "execution_count": 17,
   "metadata": {},
   "outputs": [
    {
     "name": "stdout",
     "output_type": "stream",
     "text": [
      "[<git.remote.FetchInfo object at 0x11fae18a0>, <git.remote.FetchInfo object at 0x11fae1760>, <git.remote.FetchInfo object at 0x11fae1ad0>]\n"
     ]
    }
   ],
   "source": [
    "# Delete a remote\n",
    "# repo.delete_remote('myremote')\n",
    "\n",
    "# Pull from remote repo\n",
    "print(repo.remotes.origin.pull())\n",
    "# Push changes\n",
    "# print(repo.remotes.origin.push())"
   ]
  },
  {
   "cell_type": "markdown",
   "metadata": {},
   "source": [
    "## CREATE AND SWITCH BRANCHES\n"
   ]
  },
  {
   "cell_type": "code",
   "execution_count": 18,
   "metadata": {},
   "outputs": [
    {
     "name": "stdout",
     "output_type": "stream",
     "text": [
      "feature/update-ci\n",
      "github-action\n",
      "main\n"
     ]
    }
   ],
   "source": [
    "# List all branches\n",
    "for branch in repo.branches:\n",
    "    print(branch)"
   ]
  },
  {
   "cell_type": "code",
   "execution_count": 19,
   "metadata": {},
   "outputs": [
    {
     "data": {
      "text/plain": [
       "\"M\\tconvention_checking.sh\\nD\\tdata_hub/__init__.py\\nD\\tdata_hub/datahub.py\\nD\\tdata_hub/tests/test_datahub.py\\nD\\tgit_python/git_python.ipynb\\nD\\thdfs_tree_paths/__init__.py\\nD\\thdfs_tree_paths/hdfs_tree_paths.py\\nD\\thdfs_tree_paths/tests/__init__.py\\nD\\thdfs_tree_paths/tests/test_hdfs_tree_paths.py\\nD\\tschema_registry/schema-registry.md\\nD\\tschema_registry/schema_registry.py\\nM\\tsetup.cfg\\nD\\tunittest_async/README.md\\nD\\tunittest_async/__init__.py\\nD\\tunittest_async/data/fictional_events.json\\nD\\tunittest_async/data/output.txt\\nD\\tunittest_async/main.py\\nD\\tunittest_async/tests/__init__.py\\nD\\tunittest_async/tests/test_main.py\\nD\\tweb_crawler/data/gold_prices/.dummy\\nD\\tweb_crawler/data/gold_prices/20240401-20150101.csv\\nD\\tweb_crawler/data/gold_prices/20240407-20240401.csv\\nD\\tweb_crawler/data/gold_prices/20240409-20240408.csv\\nD\\tweb_crawler/gold_prices.ipynb\\nYour branch is up to date with 'origin/main'.\""
      ]
     },
     "execution_count": 19,
     "metadata": {},
     "output_type": "execute_result"
    }
   ],
   "source": [
    "# Create a new branch\n",
    "# repo.git.branch('my_new_branch')\n",
    "# You need to check out the branch after creating it if you want to use it\n",
    "# repo.git.checkout('my_new_branch3')\n",
    "\n",
    "# To checkout master again:\n",
    "repo.git.checkout('main')"
   ]
  },
  {
   "cell_type": "markdown",
   "metadata": {},
   "source": [
    "# Check changed files in a commit\n"
   ]
  },
  {
   "cell_type": "code",
   "execution_count": 5,
   "metadata": {},
   "outputs": [
    {
     "data": {
      "text/plain": [
       "[<git.Commit \"cdf3f2083d57f96488283c07dfcf0724fc9c17cd\">,\n",
       " <git.Commit \"3aa2169db8b620839cf4212cdaf8760bf37719b5\">,\n",
       " <git.Commit \"f027849f4fcc7ab53031448d2991d767da15c7fa\">,\n",
       " <git.Commit \"a2b60efebfd221b48cb7d283bb4ed6c4624e68a2\">,\n",
       " <git.Commit \"817323f964c95ef2235922f0e56fb6848b7f68ba\">]"
      ]
     },
     "execution_count": 5,
     "metadata": {},
     "output_type": "execute_result"
    }
   ],
   "source": [
    "list_commits = list(repo.iter_commits())\n",
    "list_commits[:5]"
   ]
  },
  {
   "cell_type": "code",
   "execution_count": 25,
   "metadata": {},
   "outputs": [
    {
     "data": {
      "text/plain": [
       "<generator object Commit._iter_from_process_or_stream at 0x1385fb400>"
      ]
     },
     "execution_count": 25,
     "metadata": {},
     "output_type": "execute_result"
    }
   ],
   "source": [
    "commits = repo.iter_commits()\n",
    "commits"
   ]
  },
  {
   "cell_type": "code",
   "execution_count": 26,
   "metadata": {},
   "outputs": [
    {
     "data": {
      "text/plain": [
       "'cdf3f2083d57f96488283c07dfcf0724fc9c17cd'"
      ]
     },
     "execution_count": 26,
     "metadata": {},
     "output_type": "execute_result"
    }
   ],
   "source": [
    "str(next(commits))"
   ]
  },
  {
   "cell_type": "code",
   "execution_count": 27,
   "metadata": {},
   "outputs": [
    {
     "data": {
      "text/plain": [
       "'3aa2169db8b620839cf4212cdaf8760bf37719b5'"
      ]
     },
     "execution_count": 27,
     "metadata": {},
     "output_type": "execute_result"
    }
   ],
   "source": [
    "str(next(commits))"
   ]
  },
  {
   "cell_type": "code",
   "execution_count": 12,
   "metadata": {},
   "outputs": [
    {
     "data": {
      "text/plain": [
       "'cdf3f2083d57f96488283c07dfcf0724fc9c17cd'"
      ]
     },
     "execution_count": 12,
     "metadata": {},
     "output_type": "execute_result"
    }
   ],
   "source": [
    "str(list_commits[0])"
   ]
  },
  {
   "cell_type": "code",
   "execution_count": 31,
   "metadata": {},
   "outputs": [],
   "source": [
    "changes = list_commits[0].stats.files"
   ]
  },
  {
   "cell_type": "code",
   "execution_count": 38,
   "metadata": {},
   "outputs": [
    {
     "data": {
      "text/plain": [
       "['convention_checking.sh',\n",
       " 'data_hub/__init__.py',\n",
       " 'data_hub/datahub.py',\n",
       " 'data_hub/tests/test_datahub.py',\n",
       " 'git_python/git_python.ipynb',\n",
       " 'hdfs_tree_paths/__init__.py',\n",
       " 'hdfs_tree_paths/hdfs_tree_paths.py',\n",
       " 'hdfs_tree_paths/tests/__init__.py',\n",
       " 'hdfs_tree_paths/tests/test_hdfs_tree_paths.py',\n",
       " 'schema_registry/schema-registry.md',\n",
       " 'schema_registry/schema_registry.py',\n",
       " 'setup.cfg',\n",
       " 'src/__init__.py',\n",
       " 'src/data_hub/__init__.py',\n",
       " 'src/data_hub/datahub.py',\n",
       " 'src/data_hub/tests/test_datahub.py',\n",
       " 'src/git_python/git_ci.py',\n",
       " 'src/git_python/git_python.ipynb',\n",
       " 'src/hdfs_tree_paths/__init__.py',\n",
       " 'src/hdfs_tree_paths/hdfs_tree_paths.py',\n",
       " 'src/hdfs_tree_paths/tests/__init__.py',\n",
       " 'src/hdfs_tree_paths/tests/test_hdfs_tree_paths.py',\n",
       " 'src/schema_registry/__init__.py',\n",
       " 'src/schema_registry/schema-registry.md',\n",
       " 'src/schema_registry/schema_registry.py',\n",
       " 'src/unittest_async/README.md',\n",
       " 'src/unittest_async/__init__.py',\n",
       " 'src/unittest_async/data/fictional_events.json',\n",
       " 'src/unittest_async/data/output.txt',\n",
       " 'src/unittest_async/main.py',\n",
       " 'src/unittest_async/tests/__init__.py',\n",
       " 'src/unittest_async/tests/test_main.py',\n",
       " 'src/web_crawler/data/gold_prices/.dummy',\n",
       " 'src/web_crawler/data/gold_prices/20240401-20150101.csv',\n",
       " 'src/web_crawler/data/gold_prices/20240407-20240401.csv',\n",
       " 'src/web_crawler/data/gold_prices/20240409-20240408.csv',\n",
       " 'src/web_crawler/gold_prices.ipynb',\n",
       " 'unittest_async/README.md',\n",
       " 'unittest_async/__init__.py',\n",
       " 'unittest_async/data/fictional_events.json',\n",
       " 'unittest_async/data/output.txt',\n",
       " 'unittest_async/main.py',\n",
       " 'unittest_async/tests/__init__.py',\n",
       " 'unittest_async/tests/test_main.py',\n",
       " 'web_crawler/data/gold_prices/.dummy',\n",
       " 'web_crawler/data/gold_prices/20240401-20150101.csv',\n",
       " 'web_crawler/data/gold_prices/20240407-20240401.csv',\n",
       " 'web_crawler/data/gold_prices/20240409-20240408.csv',\n",
       " 'web_crawler/gold_prices.ipynb']"
      ]
     },
     "execution_count": 38,
     "metadata": {},
     "output_type": "execute_result"
    }
   ],
   "source": [
    "list(changes.keys())"
   ]
  },
  {
   "cell_type": "code",
   "execution_count": 37,
   "metadata": {},
   "outputs": [
    {
     "data": {
      "text/plain": [
       "{'data_hub',\n",
       " 'git_python',\n",
       " 'hdfs_tree_paths',\n",
       " 'schema_registry',\n",
       " 'src',\n",
       " 'unittest_async',\n",
       " 'web_crawler'}"
      ]
     },
     "execution_count": 37,
     "metadata": {},
     "output_type": "execute_result"
    }
   ],
   "source": [
    "list_ascendant_dir = set([item.split(\"/\")[0] for item in list(changes.keys()) if not \".\" in item.split(\"/\")[0]])\n",
    "list_ascendant_dir"
   ]
  },
  {
   "cell_type": "code",
   "execution_count": 9,
   "metadata": {},
   "outputs": [
    {
     "data": {
      "text/plain": [
       "str"
      ]
     },
     "execution_count": 9,
     "metadata": {},
     "output_type": "execute_result"
    }
   ],
   "source": [
    "diff = repo.git.diff('HEAD~1..HEAD', name_only=True)\n",
    "type(diff)"
   ]
  },
  {
   "cell_type": "code",
   "execution_count": 10,
   "metadata": {},
   "outputs": [
    {
     "data": {
      "text/plain": [
       "['convention_checking.sh',\n",
       " 'git_python/git_python.ipynb',\n",
       " 'setup.cfg',\n",
       " 'src/__init__.py',\n",
       " 'src/data_hub/__init__.py',\n",
       " 'src/data_hub/datahub.py',\n",
       " 'src/data_hub/tests/test_datahub.py',\n",
       " 'src/git_python/git_ci.py',\n",
       " 'src/git_python/git_python.ipynb',\n",
       " 'src/hdfs_tree_paths/__init__.py',\n",
       " 'src/hdfs_tree_paths/hdfs_tree_paths.py',\n",
       " 'src/hdfs_tree_paths/tests/__init__.py',\n",
       " 'src/hdfs_tree_paths/tests/test_hdfs_tree_paths.py',\n",
       " 'src/schema_registry/__init__.py',\n",
       " 'src/schema_registry/schema-registry.md',\n",
       " 'src/schema_registry/schema_registry.py',\n",
       " 'src/unittest_async/README.md',\n",
       " 'src/unittest_async/__init__.py',\n",
       " 'src/unittest_async/data/fictional_events.json',\n",
       " 'src/unittest_async/data/output.txt',\n",
       " 'src/unittest_async/main.py',\n",
       " 'src/unittest_async/tests/__init__.py',\n",
       " 'src/unittest_async/tests/test_main.py',\n",
       " 'src/web_crawler/data/gold_prices/.dummy',\n",
       " 'src/web_crawler/data/gold_prices/20240401-20150101.csv',\n",
       " 'src/web_crawler/data/gold_prices/20240407-20240401.csv',\n",
       " 'src/web_crawler/data/gold_prices/20240409-20240408.csv',\n",
       " 'src/web_crawler/gold_prices.ipynb']"
      ]
     },
     "execution_count": 10,
     "metadata": {},
     "output_type": "execute_result"
    }
   ],
   "source": [
    "diff.splitlines()"
   ]
  },
  {
   "cell_type": "code",
   "execution_count": 29,
   "metadata": {},
   "outputs": [
    {
     "data": {
      "text/plain": [
       "['.github/workflows/github-ci.yml',\n",
       " 'src/git_python/git_ci.py',\n",
       " 'src/git_python/git_python.ipynb',\n",
       " 'src/git_python/tests/test_git_ci.py']"
      ]
     },
     "execution_count": 29,
     "metadata": {},
     "output_type": "execute_result"
    }
   ],
   "source": [
    "repo.git.diff(\"3aa2169db8b620839cf4212cdaf8760bf37719b5\", \"cdf3f2083d57f96488283c07dfcf0724fc9c17cd\", name_only=True).splitlines()"
   ]
  },
  {
   "cell_type": "code",
   "execution_count": 31,
   "metadata": {},
   "outputs": [
    {
     "data": {
      "text/plain": [
       "{'.github/workflows/github-ci.yml': {'insertions': 1,\n",
       "  'deletions': 1,\n",
       "  'lines': 2},\n",
       " 'src/git_python/git_ci.py': {'insertions': 7, 'deletions': 10, 'lines': 17},\n",
       " 'src/git_python/git_python.ipynb': {'insertions': 79,\n",
       "  'deletions': 15,\n",
       "  'lines': 94},\n",
       " 'src/git_python/tests/test_git_ci.py': {'insertions': 6,\n",
       "  'deletions': 3,\n",
       "  'lines': 9}}"
      ]
     },
     "execution_count": 31,
     "metadata": {},
     "output_type": "execute_result"
    }
   ],
   "source": [
    "commit = repo.commit(\"d3185b74b8b9a1a5f50c162f9ee3af482823a16b\")\n",
    "commit.stats.files"
   ]
  },
  {
   "cell_type": "code",
   "execution_count": 32,
   "metadata": {},
   "outputs": [
    {
     "data": {
      "text/plain": [
       "dict_keys"
      ]
     },
     "execution_count": 32,
     "metadata": {},
     "output_type": "execute_result"
    }
   ],
   "source": [
    "type(commit.stats.files.keys())"
   ]
  },
  {
   "cell_type": "code",
   "execution_count": null,
   "metadata": {},
   "outputs": [],
   "source": [
    "dict_keys()"
   ]
  },
  {
   "cell_type": "code",
   "execution_count": null,
   "metadata": {},
   "outputs": [],
   "source": []
  },
  {
   "cell_type": "code",
   "execution_count": null,
   "metadata": {},
   "outputs": [],
   "source": []
  },
  {
   "cell_type": "code",
   "execution_count": null,
   "metadata": {},
   "outputs": [],
   "source": []
  },
  {
   "cell_type": "code",
   "execution_count": null,
   "metadata": {},
   "outputs": [],
   "source": []
  }
 ],
 "metadata": {
  "kernelspec": {
   "display_name": "Python 3",
   "language": "python",
   "name": "python3"
  },
  "language_info": {
   "codemirror_mode": {
    "name": "ipython",
    "version": 3
   },
   "file_extension": ".py",
   "mimetype": "text/x-python",
   "name": "python",
   "nbconvert_exporter": "python",
   "pygments_lexer": "ipython3",
   "version": "3.11.6"
  }
 },
 "nbformat": 4,
 "nbformat_minor": 2
}
