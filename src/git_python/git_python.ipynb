{
 "cells": [
  {
   "cell_type": "code",
   "execution_count": 1,
   "metadata": {},
   "outputs": [],
   "source": [
    "import git"
   ]
  },
  {
   "cell_type": "markdown",
   "metadata": {},
   "source": [
    "## References\n",
    "\n",
    "- [Working with Git Repositories in Python](https://www.devdungeon.com/content/working-git-repositories-python).\n",
    "- [GitPython Tutorial](https://gitpython.readthedocs.io/en/stable/tutorial.html).\n"
   ]
  },
  {
   "cell_type": "code",
   "execution_count": 9,
   "metadata": {},
   "outputs": [],
   "source": [
    "repo = git.Repo(\"../../\")"
   ]
  },
  {
   "cell_type": "markdown",
   "metadata": {},
   "source": [
    "## CONFIGURE USER.NAME AND USER.MAIL\n"
   ]
  },
  {
   "cell_type": "code",
   "execution_count": 10,
   "metadata": {},
   "outputs": [
    {
     "name": "stdout",
     "output_type": "stream",
     "text": [
      "hungnd8@vng.com.vn\n",
      "hungnd8\n"
     ]
    }
   ],
   "source": [
    "\"\"\"\n",
    "# Configure user.name and user.email\n",
    "with repo.config_writer() as git_config:\n",
    "    git_config.set_value('user', 'email', 'someone@example.com')\n",
    "    git_config.set_value('user', 'name', 'John Doe')\n",
    "\"\"\"\n",
    "\n",
    "# To check configuration values, use `config_reader()`\n",
    "with repo.config_reader() as git_config:\n",
    "    print(git_config.get_value('user', 'email'))\n",
    "    print(git_config.get_value('user', 'name'))"
   ]
  },
  {
   "cell_type": "markdown",
   "metadata": {},
   "source": [
    "## CHECK IF A REPO HAS CHANGES\n"
   ]
  },
  {
   "cell_type": "code",
   "execution_count": 11,
   "metadata": {},
   "outputs": [
    {
     "data": {
      "text/plain": [
       "True"
      ]
     },
     "execution_count": 11,
     "metadata": {},
     "output_type": "execute_result"
    }
   ],
   "source": [
    "# Check untracked files\n",
    "repo.is_dirty(untracked_files=True)"
   ]
  },
  {
   "cell_type": "markdown",
   "metadata": {},
   "source": [
    "## GET A DIFF OF FILE CHANGES\n"
   ]
  },
  {
   "cell_type": "code",
   "execution_count": 12,
   "metadata": {},
   "outputs": [
    {
     "name": "stdout",
     "output_type": "stream",
     "text": [
      "changed file: .github/workflows/github-ci.yml\n",
      "changed file: D\n",
      "changed file: True\n",
      "changed file: convention_checking.sh\n",
      "changed file: M\n",
      "changed file: False\n",
      "changed file: requirements.txt\n",
      "changed file: M\n",
      "changed file: False\n",
      "untracked file: src/__init__.py\n",
      "untracked file: src/data_hub/__init__.py\n",
      "untracked file: src/data_hub/datahub.py\n",
      "untracked file: src/data_hub/tests/test_datahub.py\n",
      "untracked file: src/git_python/git_ci.py\n",
      "untracked file: src/git_python/git_python.ipynb\n",
      "untracked file: src/hdfs_tree_paths/__init__.py\n",
      "untracked file: src/hdfs_tree_paths/hdfs_tree_paths.py\n",
      "untracked file: src/hdfs_tree_paths/tests/__init__.py\n",
      "untracked file: src/hdfs_tree_paths/tests/test_hdfs_tree_paths.py\n",
      "untracked file: src/schema_registry/__init__.py\n",
      "untracked file: src/schema_registry/schema-registry.md\n",
      "untracked file: src/schema_registry/schema_registry.py\n",
      "untracked file: src/unittest_async/README.md\n",
      "untracked file: src/unittest_async/__init__.py\n",
      "untracked file: src/unittest_async/data/fictional_events.json\n",
      "untracked file: src/unittest_async/data/output.txt\n",
      "untracked file: src/unittest_async/main.py\n",
      "untracked file: src/unittest_async/tests/__init__.py\n",
      "untracked file: src/unittest_async/tests/test_main.py\n",
      "untracked file: src/web_crawler/data/gold_prices/.dummy\n",
      "untracked file: src/web_crawler/data/gold_prices/20240401-20150101.csv\n",
      "untracked file: src/web_crawler/data/gold_prices/20240407-20240401.csv\n",
      "untracked file: src/web_crawler/data/gold_prices/20240409-20240408.csv\n",
      "untracked file: src/web_crawler/gold_prices.ipynb\n"
     ]
    }
   ],
   "source": [
    "for item in repo.index.diff(\"HEAD~1\"):\n",
    "    print(f\"changed file: {item.a_path}\")\n",
    "    print(f\"changed file: {item.change_type}\")\n",
    "    print(f\"changed file: {item.deleted_file}\")\n",
    "for item in repo.untracked_files:\n",
    "    print(f\"untracked file: {item}\")"
   ]
  },
  {
   "cell_type": "markdown",
   "metadata": {},
   "source": [
    "## ADD AND COMMIT FILES\n"
   ]
  },
  {
   "cell_type": "code",
   "execution_count": 13,
   "metadata": {},
   "outputs": [
    {
     "data": {
      "text/plain": [
       "0000000000000000000000000000000000000000 e9e3bb5ee363b9c8109eb239ea82fac370702aa0 hungnd8 <hungnd8@vng.com.vn> 1713954233 +0700\tbranch: Created from HEAD"
      ]
     },
     "execution_count": 13,
     "metadata": {},
     "output_type": "execute_result"
    }
   ],
   "source": [
    "logs = repo.head.reference.log()\n",
    "last_commit = logs[-1]\n",
    "last_commit"
   ]
  },
  {
   "cell_type": "code",
   "execution_count": 14,
   "metadata": {},
   "outputs": [
    {
     "data": {
      "text/plain": [
       "'branch: Created from HEAD'"
      ]
     },
     "execution_count": 14,
     "metadata": {},
     "output_type": "execute_result"
    }
   ],
   "source": [
    "last_commit.message"
   ]
  },
  {
   "cell_type": "code",
   "execution_count": 15,
   "metadata": {},
   "outputs": [
    {
     "ename": "FileNotFoundError",
     "evalue": "[Errno 2] No such file or directory: 'python/requirements.txt'",
     "output_type": "error",
     "traceback": [
      "\u001b[0;31m---------------------------------------------------------------------------\u001b[0m",
      "\u001b[0;31mFileNotFoundError\u001b[0m                         Traceback (most recent call last)",
      "Cell \u001b[0;32mIn[15], line 3\u001b[0m\n\u001b[1;32m      1\u001b[0m \u001b[38;5;66;03m# Provide a list of the files to stage\u001b[39;00m\n\u001b[1;32m      2\u001b[0m list_files \u001b[38;5;241m=\u001b[39m [\u001b[38;5;124m\"\u001b[39m\u001b[38;5;124mpython/requirements.txt\u001b[39m\u001b[38;5;124m\"\u001b[39m]\n\u001b[0;32m----> 3\u001b[0m \u001b[43mrepo\u001b[49m\u001b[38;5;241;43m.\u001b[39;49m\u001b[43mindex\u001b[49m\u001b[38;5;241;43m.\u001b[39;49m\u001b[43madd\u001b[49m\u001b[43m(\u001b[49m\u001b[43mlist_files\u001b[49m\u001b[43m)\u001b[49m\n\u001b[1;32m      4\u001b[0m \u001b[38;5;66;03m# Provide a commit message\u001b[39;00m\n\u001b[1;32m      5\u001b[0m repo\u001b[38;5;241m.\u001b[39mindex\u001b[38;5;241m.\u001b[39mcommit(\u001b[38;5;124m'\u001b[39m\u001b[38;5;124mgitpython test\u001b[39m\u001b[38;5;124m'\u001b[39m)\n",
      "File \u001b[0;32m/opt/homebrew/lib/python3.11/site-packages/git/index/base.py:885\u001b[0m, in \u001b[0;36mIndexFile.add\u001b[0;34m(self, items, force, fprogress, path_rewriter, write, write_extension_data)\u001b[0m\n\u001b[1;32m    881\u001b[0m \u001b[38;5;66;03m# This code needs a working tree, so we try not to run it unless required.\u001b[39;00m\n\u001b[1;32m    882\u001b[0m \u001b[38;5;66;03m# That way, we are OK on a bare repository as well.\u001b[39;00m\n\u001b[1;32m    883\u001b[0m \u001b[38;5;66;03m# If there are no paths, the rewriter has nothing to do either.\u001b[39;00m\n\u001b[1;32m    884\u001b[0m \u001b[38;5;28;01mif\u001b[39;00m paths:\n\u001b[0;32m--> 885\u001b[0m     entries_added\u001b[38;5;241m.\u001b[39mextend(\u001b[38;5;28;43mself\u001b[39;49m\u001b[38;5;241;43m.\u001b[39;49m\u001b[43m_entries_for_paths\u001b[49m\u001b[43m(\u001b[49m\u001b[43mpaths\u001b[49m\u001b[43m,\u001b[49m\u001b[43m \u001b[49m\u001b[43mpath_rewriter\u001b[49m\u001b[43m,\u001b[49m\u001b[43m \u001b[49m\u001b[43mfprogress\u001b[49m\u001b[43m,\u001b[49m\u001b[43m \u001b[49m\u001b[43mentries\u001b[49m\u001b[43m)\u001b[49m)\n\u001b[1;32m    887\u001b[0m \u001b[38;5;66;03m# HANDLE ENTRIES\u001b[39;00m\n\u001b[1;32m    888\u001b[0m \u001b[38;5;28;01mif\u001b[39;00m entries:\n",
      "File \u001b[0;32m/opt/homebrew/lib/python3.11/site-packages/git/util.py:176\u001b[0m, in \u001b[0;36munbare_repo.<locals>.wrapper\u001b[0;34m(self, *args, **kwargs)\u001b[0m\n\u001b[1;32m    174\u001b[0m     \u001b[38;5;28;01mraise\u001b[39;00m InvalidGitRepositoryError(\u001b[38;5;124m\"\u001b[39m\u001b[38;5;124mMethod \u001b[39m\u001b[38;5;124m'\u001b[39m\u001b[38;5;132;01m%s\u001b[39;00m\u001b[38;5;124m'\u001b[39m\u001b[38;5;124m cannot operate on bare repositories\u001b[39m\u001b[38;5;124m\"\u001b[39m \u001b[38;5;241m%\u001b[39m func\u001b[38;5;241m.\u001b[39m\u001b[38;5;18m__name__\u001b[39m)\n\u001b[1;32m    175\u001b[0m \u001b[38;5;66;03m# END bare method\u001b[39;00m\n\u001b[0;32m--> 176\u001b[0m \u001b[38;5;28;01mreturn\u001b[39;00m \u001b[43mfunc\u001b[49m\u001b[43m(\u001b[49m\u001b[38;5;28;43mself\u001b[39;49m\u001b[43m,\u001b[49m\u001b[43m \u001b[49m\u001b[38;5;241;43m*\u001b[39;49m\u001b[43margs\u001b[49m\u001b[43m,\u001b[49m\u001b[43m \u001b[49m\u001b[38;5;241;43m*\u001b[39;49m\u001b[38;5;241;43m*\u001b[39;49m\u001b[43mkwargs\u001b[49m\u001b[43m)\u001b[49m\n",
      "File \u001b[0;32m/opt/homebrew/lib/python3.11/site-packages/git/index/util.py:111\u001b[0m, in \u001b[0;36mgit_working_dir.<locals>.set_git_working_dir\u001b[0;34m(self, *args, **kwargs)\u001b[0m\n\u001b[1;32m    109\u001b[0m os\u001b[38;5;241m.\u001b[39mchdir(\u001b[38;5;28mstr\u001b[39m(\u001b[38;5;28mself\u001b[39m\u001b[38;5;241m.\u001b[39mrepo\u001b[38;5;241m.\u001b[39mworking_tree_dir))\n\u001b[1;32m    110\u001b[0m \u001b[38;5;28;01mtry\u001b[39;00m:\n\u001b[0;32m--> 111\u001b[0m     \u001b[38;5;28;01mreturn\u001b[39;00m \u001b[43mfunc\u001b[49m\u001b[43m(\u001b[49m\u001b[38;5;28;43mself\u001b[39;49m\u001b[43m,\u001b[49m\u001b[43m \u001b[49m\u001b[38;5;241;43m*\u001b[39;49m\u001b[43margs\u001b[49m\u001b[43m,\u001b[49m\u001b[43m \u001b[49m\u001b[38;5;241;43m*\u001b[39;49m\u001b[38;5;241;43m*\u001b[39;49m\u001b[43mkwargs\u001b[49m\u001b[43m)\u001b[49m\n\u001b[1;32m    112\u001b[0m \u001b[38;5;28;01mfinally\u001b[39;00m:\n\u001b[1;32m    113\u001b[0m     os\u001b[38;5;241m.\u001b[39mchdir(cur_wd)\n",
      "File \u001b[0;32m/opt/homebrew/lib/python3.11/site-packages/git/index/base.py:745\u001b[0m, in \u001b[0;36mIndexFile._entries_for_paths\u001b[0;34m(self, paths, path_rewriter, fprogress, entries)\u001b[0m\n\u001b[1;32m    743\u001b[0m \u001b[38;5;28;01massert\u001b[39;00m \u001b[38;5;28mlen\u001b[39m(entries_added) \u001b[38;5;241m==\u001b[39m \u001b[38;5;241m0\u001b[39m\n\u001b[1;32m    744\u001b[0m \u001b[38;5;28;01mfor\u001b[39;00m filepath \u001b[38;5;129;01min\u001b[39;00m \u001b[38;5;28mself\u001b[39m\u001b[38;5;241m.\u001b[39m_iter_expand_paths(paths):\n\u001b[0;32m--> 745\u001b[0m     entries_added\u001b[38;5;241m.\u001b[39mappend(\u001b[38;5;28;43mself\u001b[39;49m\u001b[38;5;241;43m.\u001b[39;49m\u001b[43m_store_path\u001b[49m\u001b[43m(\u001b[49m\u001b[43mfilepath\u001b[49m\u001b[43m,\u001b[49m\u001b[43m \u001b[49m\u001b[43mfprogress\u001b[49m\u001b[43m)\u001b[49m)\n\u001b[1;32m    746\u001b[0m \u001b[38;5;66;03m# END for each filepath\u001b[39;00m\n\u001b[1;32m    747\u001b[0m \u001b[38;5;66;03m# END path handling\u001b[39;00m\n\u001b[1;32m    748\u001b[0m \u001b[38;5;28;01mreturn\u001b[39;00m entries_added\n",
      "File \u001b[0;32m/opt/homebrew/lib/python3.11/site-packages/git/index/base.py:689\u001b[0m, in \u001b[0;36mIndexFile._store_path\u001b[0;34m(self, filepath, fprogress)\u001b[0m\n\u001b[1;32m    682\u001b[0m \u001b[38;5;28;01mdef\u001b[39;00m \u001b[38;5;21m_store_path\u001b[39m(\u001b[38;5;28mself\u001b[39m, filepath: PathLike, fprogress: Callable) \u001b[38;5;241m-\u001b[39m\u001b[38;5;241m>\u001b[39m BaseIndexEntry:\n\u001b[1;32m    683\u001b[0m \u001b[38;5;250m    \u001b[39m\u001b[38;5;124;03m\"\"\"Store file at filepath in the database and return the base index entry.\u001b[39;00m\n\u001b[1;32m    684\u001b[0m \n\u001b[1;32m    685\u001b[0m \u001b[38;5;124;03m    :note:\u001b[39;00m\n\u001b[1;32m    686\u001b[0m \u001b[38;5;124;03m        This needs the :func:`~git.index.util.git_working_dir` decorator active!\u001b[39;00m\n\u001b[1;32m    687\u001b[0m \u001b[38;5;124;03m        This must be ensured in the calling code.\u001b[39;00m\n\u001b[1;32m    688\u001b[0m \u001b[38;5;124;03m    \"\"\"\u001b[39;00m\n\u001b[0;32m--> 689\u001b[0m     st \u001b[38;5;241m=\u001b[39m \u001b[43mos\u001b[49m\u001b[38;5;241;43m.\u001b[39;49m\u001b[43mlstat\u001b[49m\u001b[43m(\u001b[49m\u001b[43mfilepath\u001b[49m\u001b[43m)\u001b[49m  \u001b[38;5;66;03m# Handles non-symlinks as well.\u001b[39;00m\n\u001b[1;32m    690\u001b[0m     \u001b[38;5;28;01mif\u001b[39;00m S_ISLNK(st\u001b[38;5;241m.\u001b[39mst_mode):\n\u001b[1;32m    691\u001b[0m         \u001b[38;5;66;03m# In PY3, readlink is a string, but we need bytes.\u001b[39;00m\n\u001b[1;32m    692\u001b[0m         \u001b[38;5;66;03m# In PY2, it was just OS encoded bytes, we assumed UTF-8.\u001b[39;00m\n\u001b[1;32m    693\u001b[0m         open_stream: Callable[[], BinaryIO] \u001b[38;5;241m=\u001b[39m \u001b[38;5;28;01mlambda\u001b[39;00m: BytesIO(force_bytes(os\u001b[38;5;241m.\u001b[39mreadlink(filepath), encoding\u001b[38;5;241m=\u001b[39mdefenc))\n",
      "\u001b[0;31mFileNotFoundError\u001b[0m: [Errno 2] No such file or directory: 'python/requirements.txt'"
     ]
    }
   ],
   "source": [
    "# Provide a list of the files to stage\n",
    "list_files = [\"python/requirements.txt\"]\n",
    "repo.index.add(list_files)\n",
    "# Provide a commit message\n",
    "repo.index.commit('gitpython test')"
   ]
  },
  {
   "cell_type": "code",
   "execution_count": null,
   "metadata": {},
   "outputs": [
    {
     "data": {
      "text/plain": [
       "<git.HEAD \"HEAD\">"
      ]
     },
     "execution_count": 54,
     "metadata": {},
     "output_type": "execute_result"
    }
   ],
   "source": [
    "# Git reset soft\n",
    "repo.head.reset(commit=\"HEAD~1\")"
   ]
  },
  {
   "cell_type": "markdown",
   "metadata": {},
   "source": [
    "## WORK WITH REMOTE REPOSITORIES\n"
   ]
  },
  {
   "cell_type": "code",
   "execution_count": 16,
   "metadata": {},
   "outputs": [
    {
     "name": "stdout",
     "output_type": "stream",
     "text": [
      "Remote name: origin\n",
      "Remote URL: git@github.com:HungNguyen501/Python-Core.git\n"
     ]
    }
   ],
   "source": [
    "# Reference a remote by its name as part of the object\n",
    "print(f'Remote name: {repo.remotes.origin.name}')\n",
    "print(f'Remote URL: {repo.remotes.origin.url}')"
   ]
  },
  {
   "cell_type": "code",
   "execution_count": 17,
   "metadata": {},
   "outputs": [
    {
     "name": "stdout",
     "output_type": "stream",
     "text": [
      "[<git.remote.FetchInfo object at 0x11fae18a0>, <git.remote.FetchInfo object at 0x11fae1760>, <git.remote.FetchInfo object at 0x11fae1ad0>]\n"
     ]
    }
   ],
   "source": [
    "# Delete a remote\n",
    "# repo.delete_remote('myremote')\n",
    "\n",
    "# Pull from remote repo\n",
    "print(repo.remotes.origin.pull())\n",
    "# Push changes\n",
    "# print(repo.remotes.origin.push())"
   ]
  },
  {
   "cell_type": "markdown",
   "metadata": {},
   "source": [
    "## CREATE AND SWITCH BRANCHES\n"
   ]
  },
  {
   "cell_type": "code",
   "execution_count": 18,
   "metadata": {},
   "outputs": [
    {
     "name": "stdout",
     "output_type": "stream",
     "text": [
      "feature/update-ci\n",
      "github-action\n",
      "main\n"
     ]
    }
   ],
   "source": [
    "# List all branches\n",
    "for branch in repo.branches:\n",
    "    print(branch)"
   ]
  },
  {
   "cell_type": "code",
   "execution_count": 19,
   "metadata": {},
   "outputs": [
    {
     "data": {
      "text/plain": [
       "\"M\\tconvention_checking.sh\\nD\\tdata_hub/__init__.py\\nD\\tdata_hub/datahub.py\\nD\\tdata_hub/tests/test_datahub.py\\nD\\tgit_python/git_python.ipynb\\nD\\thdfs_tree_paths/__init__.py\\nD\\thdfs_tree_paths/hdfs_tree_paths.py\\nD\\thdfs_tree_paths/tests/__init__.py\\nD\\thdfs_tree_paths/tests/test_hdfs_tree_paths.py\\nD\\tschema_registry/schema-registry.md\\nD\\tschema_registry/schema_registry.py\\nM\\tsetup.cfg\\nD\\tunittest_async/README.md\\nD\\tunittest_async/__init__.py\\nD\\tunittest_async/data/fictional_events.json\\nD\\tunittest_async/data/output.txt\\nD\\tunittest_async/main.py\\nD\\tunittest_async/tests/__init__.py\\nD\\tunittest_async/tests/test_main.py\\nD\\tweb_crawler/data/gold_prices/.dummy\\nD\\tweb_crawler/data/gold_prices/20240401-20150101.csv\\nD\\tweb_crawler/data/gold_prices/20240407-20240401.csv\\nD\\tweb_crawler/data/gold_prices/20240409-20240408.csv\\nD\\tweb_crawler/gold_prices.ipynb\\nYour branch is up to date with 'origin/main'.\""
      ]
     },
     "execution_count": 19,
     "metadata": {},
     "output_type": "execute_result"
    }
   ],
   "source": [
    "# Create a new branch\n",
    "# repo.git.branch('my_new_branch')\n",
    "# You need to check out the branch after creating it if you want to use it\n",
    "# repo.git.checkout('my_new_branch3')\n",
    "\n",
    "# To checkout master again:\n",
    "repo.git.checkout('main')"
   ]
  },
  {
   "cell_type": "markdown",
   "metadata": {},
   "source": [
    "# Check changed files in a commit\n"
   ]
  },
  {
   "cell_type": "code",
   "execution_count": 23,
   "metadata": {},
   "outputs": [
    {
     "data": {
      "text/plain": [
       "[<git.Commit \"e9e3bb5ee363b9c8109eb239ea82fac370702aa0\">,\n",
       " <git.Commit \"1c9e7783ecaadf21a55a7e07fe7f349a2853f781\">,\n",
       " <git.Commit \"c8ea7e3a1f83840a9ab42501935e025770368a7e\">,\n",
       " <git.Commit \"1d06a8472aea0cc2cb1fd71951ed518393a393e1\">,\n",
       " <git.Commit \"207f3b3dddcf97f58190cab991d445dea607b9ad\">]"
      ]
     },
     "execution_count": 23,
     "metadata": {},
     "output_type": "execute_result"
    }
   ],
   "source": [
    "list_commits = list(repo.iter_commits())\n",
    "list_commits[:5]"
   ]
  },
  {
   "cell_type": "code",
   "execution_count": 25,
   "metadata": {},
   "outputs": [
    {
     "data": {
      "text/plain": [
       "{'schema_registry/schema-registry.md': {'insertions': 1,\n",
       "  'deletions': 0,\n",
       "  'lines': 1},\n",
       " 'schema_registry/schema_registry.py': {'insertions': 68,\n",
       "  'deletions': 0,\n",
       "  'lines': 68}}"
      ]
     },
     "execution_count": 25,
     "metadata": {},
     "output_type": "execute_result"
    }
   ],
   "source": [
    "list_commits[1].stats.files"
   ]
  },
  {
   "cell_type": "code",
   "execution_count": null,
   "metadata": {},
   "outputs": [],
   "source": []
  },
  {
   "cell_type": "code",
   "execution_count": null,
   "metadata": {},
   "outputs": [],
   "source": []
  },
  {
   "cell_type": "code",
   "execution_count": null,
   "metadata": {},
   "outputs": [],
   "source": []
  },
  {
   "cell_type": "code",
   "execution_count": null,
   "metadata": {},
   "outputs": [],
   "source": []
  },
  {
   "cell_type": "code",
   "execution_count": null,
   "metadata": {},
   "outputs": [],
   "source": []
  },
  {
   "cell_type": "code",
   "execution_count": null,
   "metadata": {},
   "outputs": [],
   "source": []
  },
  {
   "cell_type": "code",
   "execution_count": null,
   "metadata": {},
   "outputs": [],
   "source": []
  }
 ],
 "metadata": {
  "kernelspec": {
   "display_name": "Python 3",
   "language": "python",
   "name": "python3"
  },
  "language_info": {
   "codemirror_mode": {
    "name": "ipython",
    "version": 3
   },
   "file_extension": ".py",
   "mimetype": "text/x-python",
   "name": "python",
   "nbconvert_exporter": "python",
   "pygments_lexer": "ipython3",
   "version": "3.11.6"
  }
 },
 "nbformat": 4,
 "nbformat_minor": 2
}
