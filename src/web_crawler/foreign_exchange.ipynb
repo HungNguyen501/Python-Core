{
 "cells": [
  {
   "cell_type": "code",
   "execution_count": 1,
   "metadata": {},
   "outputs": [
    {
     "data": {
      "text/html": [
       "\n",
       "<style>\n",
       "    * {\n",
       "        font-family: monospace;\n",
       "        font-size: 12px;\n",
       "        line-height: normal;\n",
       "    }\n",
       "</style>\n"
      ],
      "text/plain": [
       "<IPython.core.display.HTML object>"
      ]
     },
     "execution_count": 1,
     "metadata": {},
     "output_type": "execute_result"
    }
   ],
   "source": [
    "from IPython.core.display import HTML\n",
    "HTML(r\"\"\"\n",
    "<style>\n",
    "    * {\n",
    "        font-family: monospace;\n",
    "        font-size: 12px;\n",
    "        line-height: normal;\n",
    "    }\n",
    "</style>\n",
    "\"\"\")"
   ]
  },
  {
   "cell_type": "code",
   "execution_count": 3,
   "metadata": {},
   "outputs": [],
   "source": [
    "from datetime import datetime, timedelta\n",
    "from typing import List\n",
    "import matplotlib.pyplot as plt\n",
    "import re\n",
    "import requests\n",
    "import xmltodict\n",
    "\n",
    "from tabulate import tabulate\n",
    "from crawler_engine import crawl_url\n",
    "import numpy as np\n",
    "import pandas as pd\n",
    "import pandasql as psql\n",
    "import seaborn as sns"
   ]
  },
  {
   "cell_type": "markdown",
   "metadata": {},
   "source": [
    "# Crawl data"
   ]
  },
  {
   "cell_type": "code",
   "execution_count": 4,
   "metadata": {},
   "outputs": [
    {
     "name": "stdout",
     "output_type": "stream",
     "text": [
      "https://www.vietinbank.vn/web/home/vn/ty-gia?theDate=18/06/2024\n"
     ]
    }
   ],
   "source": [
    "def format_url(event_date: datetime):\n",
    "    return f\"https://www.vietinbank.vn/web/home/vn/ty-gia?theDate={event_date.strftime('%d/%m/%Y')}\"\n",
    "\n",
    "today = datetime.now()\n",
    "print(format_url(event_date=today))"
   ]
  },
  {
   "cell_type": "code",
   "execution_count": 33,
   "metadata": {},
   "outputs": [],
   "source": [
    "def transform_data(data: str, list_records: List[str], event_date: datetime):\n",
    "    price_table_pattern = r\"<table id=\\\"hor-ex-b\\\".*?<\\/tr><\\/tr><\\/td><\\/table>\"\n",
    "    currency_pattern = r\"<tr class=\\\"ex-.*?<\\/tr>\"\n",
    "    if matched_data := re.findall(pattern=price_table_pattern, string=data.replace(\"\\r\", \" \").replace(\"\\n\", \" \").replace(\"\\t\", \" \")):\n",
    "        price_table = matched_data[0]\n",
    "    else:\n",
    "        return\n",
    "\n",
    "    for matched_string in re.findall(pattern=currency_pattern, string=price_table,):\n",
    "        if \"&\" in matched_string:\n",
    "            # Record containing & shows currency conversion with EUR, USD pieces priced smaller than 50, 100\n",
    "            # Skip these records\n",
    "            continue\n",
    "        matched_string = matched_string.replace(\"#\", \"\")  # Record containing & shows currency conversion with EUR, USD pieces priced 50, 100\n",
    "        tbl = xmltodict.parse(xml_input=matched_string, encoding=\"utf-8\")\n",
    "        currency, central_rate, cash, bank_transfer, sell_price, *_ = [i[\"#text\"].replace(\",\", \".\") for i in tbl[\"tr\"][\"td\"]]\n",
    "        list_records.append([event_date.strftime('%Y%m%d'), currency, central_rate, cash, bank_transfer, sell_price])\n",
    "    "
   ]
  },
  {
   "cell_type": "code",
   "execution_count": 100,
   "metadata": {},
   "outputs": [],
   "source": [
    "\"\"\"\n",
    "    Date range should be less than 30 days unless IP is banned\n",
    "\"\"\"\n",
    "start_date = datetime(year=2024, month=1, day=1)\n",
    "end_date = datetime(year=2024, month=1, day=31)\n",
    "# end_date = datetime.now()\n",
    "foreign_exchange_data = await crawl_url(start_date=start_date, end_date=end_date, format_url=format_url, transform_data=transform_data,)"
   ]
  },
  {
   "cell_type": "code",
   "execution_count": 101,
   "metadata": {},
   "outputs": [],
   "source": [
    "df_foreign_exchange_data = pd.DataFrame(\n",
    "    data=foreign_exchange_data,\n",
    "    columns=[\"event_date\", \"currency\", \"central_rate\", \"cash\", \"bank_transfer\", \"sell_price\"]\n",
    ")"
   ]
  },
  {
   "cell_type": "code",
   "execution_count": 102,
   "metadata": {},
   "outputs": [
    {
     "data": {
      "text/html": [
       "<div>\n",
       "<style scoped>\n",
       "    .dataframe tbody tr th:only-of-type {\n",
       "        vertical-align: middle;\n",
       "    }\n",
       "\n",
       "    .dataframe tbody tr th {\n",
       "        vertical-align: top;\n",
       "    }\n",
       "\n",
       "    .dataframe thead th {\n",
       "        text-align: right;\n",
       "    }\n",
       "</style>\n",
       "<table border=\"1\" class=\"dataframe\">\n",
       "  <thead>\n",
       "    <tr style=\"text-align: right;\">\n",
       "      <th></th>\n",
       "      <th>event_date</th>\n",
       "      <th>currency</th>\n",
       "      <th>central_rate</th>\n",
       "      <th>cash</th>\n",
       "      <th>bank_transfer</th>\n",
       "      <th>sell_price</th>\n",
       "    </tr>\n",
       "  </thead>\n",
       "  <tbody>\n",
       "    <tr>\n",
       "      <th>0</th>\n",
       "      <td>20240111</td>\n",
       "      <td>AUD</td>\n",
       "      <td>-</td>\n",
       "      <td>15.974</td>\n",
       "      <td>15.994</td>\n",
       "      <td>16.594</td>\n",
       "    </tr>\n",
       "    <tr>\n",
       "      <th>1</th>\n",
       "      <td>20240111</td>\n",
       "      <td>CAD</td>\n",
       "      <td>-</td>\n",
       "      <td>17.911</td>\n",
       "      <td>17.921</td>\n",
       "      <td>18.621</td>\n",
       "    </tr>\n",
       "    <tr>\n",
       "      <th>2</th>\n",
       "      <td>20240111</td>\n",
       "      <td>CHF</td>\n",
       "      <td>-</td>\n",
       "      <td>28.102</td>\n",
       "      <td>28.122</td>\n",
       "      <td>29.072</td>\n",
       "    </tr>\n",
       "    <tr>\n",
       "      <th>3</th>\n",
       "      <td>20240111</td>\n",
       "      <td>CNY</td>\n",
       "      <td>-</td>\n",
       "      <td>-</td>\n",
       "      <td>3.346</td>\n",
       "      <td>3.486</td>\n",
       "    </tr>\n",
       "    <tr>\n",
       "      <th>4</th>\n",
       "      <td>20240111</td>\n",
       "      <td>DKK</td>\n",
       "      <td>-</td>\n",
       "      <td>-</td>\n",
       "      <td>3.505</td>\n",
       "      <td>3.675</td>\n",
       "    </tr>\n",
       "  </tbody>\n",
       "</table>\n",
       "</div>"
      ],
      "text/plain": [
       "  event_date currency central_rate    cash bank_transfer sell_price\n",
       "0   20240111      AUD            -  15.974        15.994     16.594\n",
       "1   20240111      CAD            -  17.911        17.921     18.621\n",
       "2   20240111      CHF            -  28.102        28.122     29.072\n",
       "3   20240111      CNY            -       -         3.346      3.486\n",
       "4   20240111      DKK            -       -         3.505      3.675"
      ]
     },
     "execution_count": 102,
     "metadata": {},
     "output_type": "execute_result"
    }
   ],
   "source": [
    "df_foreign_exchange_data.head(n=5)"
   ]
  },
  {
   "cell_type": "code",
   "execution_count": 103,
   "metadata": {},
   "outputs": [
    {
     "data": {
      "text/html": [
       "<div>\n",
       "<style scoped>\n",
       "    .dataframe tbody tr th:only-of-type {\n",
       "        vertical-align: middle;\n",
       "    }\n",
       "\n",
       "    .dataframe tbody tr th {\n",
       "        vertical-align: top;\n",
       "    }\n",
       "\n",
       "    .dataframe thead th {\n",
       "        text-align: right;\n",
       "    }\n",
       "</style>\n",
       "<table border=\"1\" class=\"dataframe\">\n",
       "  <thead>\n",
       "    <tr style=\"text-align: right;\">\n",
       "      <th></th>\n",
       "      <th>event_date</th>\n",
       "      <th>currency</th>\n",
       "      <th>central_rate</th>\n",
       "      <th>cash</th>\n",
       "      <th>bank_transfer</th>\n",
       "      <th>sell_price</th>\n",
       "    </tr>\n",
       "  </thead>\n",
       "  <tbody>\n",
       "    <tr>\n",
       "      <th>366</th>\n",
       "      <td>20240131</td>\n",
       "      <td>KRW</td>\n",
       "      <td>0.000</td>\n",
       "      <td>16.150</td>\n",
       "      <td>16.350</td>\n",
       "      <td>20.150</td>\n",
       "    </tr>\n",
       "    <tr>\n",
       "      <th>373</th>\n",
       "      <td>20240131</td>\n",
       "      <td>USD</td>\n",
       "      <td>23.991</td>\n",
       "      <td>24.170</td>\n",
       "      <td>24.210</td>\n",
       "      <td>24.630</td>\n",
       "    </tr>\n",
       "    <tr>\n",
       "      <th>371</th>\n",
       "      <td>20240131</td>\n",
       "      <td>SGD</td>\n",
       "      <td>0.000</td>\n",
       "      <td>17.695</td>\n",
       "      <td>17.705</td>\n",
       "      <td>18.505</td>\n",
       "    </tr>\n",
       "    <tr>\n",
       "      <th>370</th>\n",
       "      <td>20240131</td>\n",
       "      <td>SEK</td>\n",
       "      <td>0.000</td>\n",
       "      <td>0.000</td>\n",
       "      <td>2.286</td>\n",
       "      <td>2.421</td>\n",
       "    </tr>\n",
       "    <tr>\n",
       "      <th>369</th>\n",
       "      <td>20240131</td>\n",
       "      <td>NZD</td>\n",
       "      <td>0.000</td>\n",
       "      <td>14.752</td>\n",
       "      <td>14.762</td>\n",
       "      <td>15.342</td>\n",
       "    </tr>\n",
       "  </tbody>\n",
       "</table>\n",
       "</div>"
      ],
      "text/plain": [
       "     event_date currency  central_rate    cash  bank_transfer  sell_price\n",
       "366    20240131      KRW         0.000  16.150         16.350      20.150\n",
       "373    20240131      USD        23.991  24.170         24.210      24.630\n",
       "371    20240131      SGD         0.000  17.695         17.705      18.505\n",
       "370    20240131      SEK         0.000   0.000          2.286       2.421\n",
       "369    20240131      NZD         0.000  14.752         14.762      15.342"
      ]
     },
     "execution_count": 103,
     "metadata": {},
     "output_type": "execute_result"
    }
   ],
   "source": [
    "df_foreign_exchange_data[[\"central_rate\", \"cash\", \"bank_transfer\", \"sell_price\"]] = df_foreign_exchange_data[[\"central_rate\", \"cash\", \"bank_transfer\", \"sell_price\"]] \\\n",
    "    .replace(\"-\", \"0\")\n",
    "df_foreign_exchange_data = df_foreign_exchange_data.astype({\n",
    "    \"event_date\": int,\n",
    "    \"central_rate\": float,\n",
    "    \"cash\": float,\n",
    "    \"bank_transfer\": float,\n",
    "    \"sell_price\": float,\n",
    "}).sort_values(by=\"event_date\", ascending=False)\n",
    "df_foreign_exchange_data.head(n=5)"
   ]
  },
  {
   "cell_type": "code",
   "execution_count": 104,
   "metadata": {},
   "outputs": [
    {
     "name": "stdout",
     "output_type": "stream",
     "text": [
      "<class 'pandas.core.frame.DataFrame'>\n",
      "Index: 459 entries, 366 to 401\n",
      "Data columns (total 6 columns):\n",
      " #   Column         Non-Null Count  Dtype  \n",
      "---  ------         --------------  -----  \n",
      " 0   event_date     459 non-null    int64  \n",
      " 1   currency       459 non-null    object \n",
      " 2   central_rate   459 non-null    float64\n",
      " 3   cash           459 non-null    float64\n",
      " 4   bank_transfer  459 non-null    float64\n",
      " 5   sell_price     459 non-null    float64\n",
      "dtypes: float64(4), int64(1), object(1)\n",
      "memory usage: 25.1+ KB\n"
     ]
    }
   ],
   "source": [
    "df_foreign_exchange_data.info()"
   ]
  },
  {
   "cell_type": "code",
   "execution_count": 105,
   "metadata": {},
   "outputs": [],
   "source": [
    "df_foreign_exchange_data.to_csv(path_or_buf=f\"./data/foreign_exchange/{start_date.strftime('%Y%m%d')}_{end_date.strftime('%Y%m%d')}.csv\", index=False)"
   ]
  },
  {
   "cell_type": "markdown",
   "metadata": {},
   "source": [
    "# Visualize data"
   ]
  },
  {
   "cell_type": "code",
   "execution_count": 70,
   "metadata": {},
   "outputs": [
    {
     "name": "stdout",
     "output_type": "stream",
     "text": [
      "-rw-r--r--  1 lap14443  staff    16K Jun 18 15:51 data/foreign_exchange/20240401_20240430.csv\n",
      "-rw-r--r--  1 lap14443  staff    16K Jun 18 15:48 data/foreign_exchange/20240501_20240531.csv\n",
      "-rw-r--r--  1 lap14443  staff   8.4K Jun 18 15:47 data/foreign_exchange/20240601_20240618.csv\n"
     ]
    }
   ],
   "source": [
    "%%bash\n",
    "ls -lah data/foreign_exchange/*.csv"
   ]
  },
  {
   "cell_type": "code",
   "execution_count": 123,
   "metadata": {},
   "outputs": [],
   "source": [
    "li_data = []\n",
    "li_files = [\n",
    "    \"data/foreign_exchange/20240101_20240131.csv\",\n",
    "    \"data/foreign_exchange/20240201_20240229.csv\",\n",
    "    \"data/foreign_exchange/20240301_20240331.csv\",\n",
    "    \"data/foreign_exchange/20240401_20240430.csv\",\n",
    "    \"data/foreign_exchange/20240501_20240531.csv\",\n",
    "    \"data/foreign_exchange/20240601_20240618.csv\",\n",
    "]\n",
    "for i in li_files:\n",
    "    li_data.append(pd.read_csv(filepath_or_buffer=i))\n",
    "df_foreign_exchange_data = pd.concat(li_data, axis=0, ignore_index=True)"
   ]
  },
  {
   "cell_type": "code",
   "execution_count": 124,
   "metadata": {},
   "outputs": [],
   "source": [
    "# print(df_foreign_exchange_data.shape)\n",
    "# df_foreign_exchange_data.info()"
   ]
  },
  {
   "cell_type": "code",
   "execution_count": 125,
   "metadata": {},
   "outputs": [
    {
     "name": "stdout",
     "output_type": "stream",
     "text": [
      "['AUD', 'CAD', 'CHF', 'CNY', 'DKK', 'EUR', 'GBP', 'HKD', 'JPY', 'KRW', 'LAK', 'NOK', 'NZD', 'SEK', 'SGD', 'THB', 'USD']\n"
     ]
    }
   ],
   "source": [
    "currencies = sorted(set(df_foreign_exchange_data[\"currency\"].values))\n",
    "print(currencies)"
   ]
  },
  {
   "cell_type": "markdown",
   "metadata": {},
   "source": [
    "## USD"
   ]
  },
  {
   "cell_type": "code",
   "execution_count": 131,
   "metadata": {},
   "outputs": [
    {
     "data": {
      "text/html": [
       "<div>\n",
       "<style scoped>\n",
       "    .dataframe tbody tr th:only-of-type {\n",
       "        vertical-align: middle;\n",
       "    }\n",
       "\n",
       "    .dataframe tbody tr th {\n",
       "        vertical-align: top;\n",
       "    }\n",
       "\n",
       "    .dataframe thead th {\n",
       "        text-align: right;\n",
       "    }\n",
       "</style>\n",
       "<table border=\"1\" class=\"dataframe\">\n",
       "  <thead>\n",
       "    <tr style=\"text-align: right;\">\n",
       "      <th></th>\n",
       "      <th>event_date</th>\n",
       "      <th>bank_transfer</th>\n",
       "    </tr>\n",
       "  </thead>\n",
       "  <tbody>\n",
       "    <tr>\n",
       "      <th>0</th>\n",
       "      <td>20240618</td>\n",
       "      <td>25.251</td>\n",
       "    </tr>\n",
       "    <tr>\n",
       "      <th>1</th>\n",
       "      <td>20240617</td>\n",
       "      <td>25.251</td>\n",
       "    </tr>\n",
       "    <tr>\n",
       "      <th>2</th>\n",
       "      <td>20240614</td>\n",
       "      <td>25.229</td>\n",
       "    </tr>\n",
       "    <tr>\n",
       "      <th>3</th>\n",
       "      <td>20240613</td>\n",
       "      <td>25.145</td>\n",
       "    </tr>\n",
       "    <tr>\n",
       "      <th>4</th>\n",
       "      <td>20240612</td>\n",
       "      <td>25.213</td>\n",
       "    </tr>\n",
       "    <tr>\n",
       "      <th>5</th>\n",
       "      <td>20240611</td>\n",
       "      <td>25.213</td>\n",
       "    </tr>\n",
       "    <tr>\n",
       "      <th>6</th>\n",
       "      <td>20240610</td>\n",
       "      <td>25.143</td>\n",
       "    </tr>\n",
       "    <tr>\n",
       "      <th>7</th>\n",
       "      <td>20240608</td>\n",
       "      <td>25.105</td>\n",
       "    </tr>\n",
       "    <tr>\n",
       "      <th>8</th>\n",
       "      <td>20240607</td>\n",
       "      <td>25.105</td>\n",
       "    </tr>\n",
       "    <tr>\n",
       "      <th>9</th>\n",
       "      <td>20240606</td>\n",
       "      <td>25.143</td>\n",
       "    </tr>\n",
       "    <tr>\n",
       "      <th>10</th>\n",
       "      <td>20240605</td>\n",
       "      <td>25.140</td>\n",
       "    </tr>\n",
       "    <tr>\n",
       "      <th>11</th>\n",
       "      <td>20240604</td>\n",
       "      <td>25.195</td>\n",
       "    </tr>\n",
       "    <tr>\n",
       "      <th>12</th>\n",
       "      <td>20240603</td>\n",
       "      <td>25.160</td>\n",
       "    </tr>\n",
       "    <tr>\n",
       "      <th>13</th>\n",
       "      <td>20240601</td>\n",
       "      <td>25.165</td>\n",
       "    </tr>\n",
       "    <tr>\n",
       "      <th>14</th>\n",
       "      <td>20240531</td>\n",
       "      <td>25.165</td>\n",
       "    </tr>\n",
       "    <tr>\n",
       "      <th>15</th>\n",
       "      <td>20240530</td>\n",
       "      <td>25.220</td>\n",
       "    </tr>\n",
       "    <tr>\n",
       "      <th>16</th>\n",
       "      <td>20240529</td>\n",
       "      <td>25.220</td>\n",
       "    </tr>\n",
       "    <tr>\n",
       "      <th>17</th>\n",
       "      <td>20240528</td>\n",
       "      <td>25.170</td>\n",
       "    </tr>\n",
       "    <tr>\n",
       "      <th>18</th>\n",
       "      <td>20240527</td>\n",
       "      <td>25.170</td>\n",
       "    </tr>\n",
       "    <tr>\n",
       "      <th>19</th>\n",
       "      <td>20240525</td>\n",
       "      <td>25.187</td>\n",
       "    </tr>\n",
       "    <tr>\n",
       "      <th>20</th>\n",
       "      <td>20240524</td>\n",
       "      <td>25.187</td>\n",
       "    </tr>\n",
       "    <tr>\n",
       "      <th>21</th>\n",
       "      <td>20240523</td>\n",
       "      <td>25.257</td>\n",
       "    </tr>\n",
       "    <tr>\n",
       "      <th>22</th>\n",
       "      <td>20240522</td>\n",
       "      <td>25.263</td>\n",
       "    </tr>\n",
       "    <tr>\n",
       "      <th>23</th>\n",
       "      <td>20240521</td>\n",
       "      <td>25.263</td>\n",
       "    </tr>\n",
       "    <tr>\n",
       "      <th>24</th>\n",
       "      <td>20240520</td>\n",
       "      <td>25.150</td>\n",
       "    </tr>\n",
       "  </tbody>\n",
       "</table>\n",
       "</div>"
      ],
      "text/plain": [
       "    event_date  bank_transfer\n",
       "0     20240618         25.251\n",
       "1     20240617         25.251\n",
       "2     20240614         25.229\n",
       "3     20240613         25.145\n",
       "4     20240612         25.213\n",
       "5     20240611         25.213\n",
       "6     20240610         25.143\n",
       "7     20240608         25.105\n",
       "8     20240607         25.105\n",
       "9     20240606         25.143\n",
       "10    20240605         25.140\n",
       "11    20240604         25.195\n",
       "12    20240603         25.160\n",
       "13    20240601         25.165\n",
       "14    20240531         25.165\n",
       "15    20240530         25.220\n",
       "16    20240529         25.220\n",
       "17    20240528         25.170\n",
       "18    20240527         25.170\n",
       "19    20240525         25.187\n",
       "20    20240524         25.187\n",
       "21    20240523         25.257\n",
       "22    20240522         25.263\n",
       "23    20240521         25.263\n",
       "24    20240520         25.150"
      ]
     },
     "execution_count": 131,
     "metadata": {},
     "output_type": "execute_result"
    }
   ],
   "source": [
    "# Last 30 days\n",
    "query_date = int((datetime.now() - timedelta(days=30)).strftime(\"%Y%m%d\"))\n",
    "df_usd = df_foreign_exchange_data.query(f\"event_date >= {query_date} and currency == 'USD'\").reset_index(drop=True) \\\n",
    "    .sort_values(by=[\"event_date\"], ascending=False) \\\n",
    "    .reset_index(drop=True) \\\n",
    "    [['event_date', 'central_rate', 'cash', 'bank_transfer', 'sell_price']]\n",
    "df_usd[[\"event_date\", \"bank_transfer\"]].head(n=100)"
   ]
  },
  {
   "cell_type": "code",
   "execution_count": null,
   "metadata": {},
   "outputs": [],
   "source": []
  },
  {
   "cell_type": "code",
   "execution_count": null,
   "metadata": {},
   "outputs": [],
   "source": []
  }
 ],
 "metadata": {
  "kernelspec": {
   "display_name": "Python 3",
   "language": "python",
   "name": "python3"
  },
  "language_info": {
   "codemirror_mode": {
    "name": "ipython",
    "version": 3
   },
   "file_extension": ".py",
   "mimetype": "text/x-python",
   "name": "python",
   "nbconvert_exporter": "python",
   "pygments_lexer": "ipython3",
   "version": "3.11.9"
  }
 },
 "nbformat": 4,
 "nbformat_minor": 2
}
