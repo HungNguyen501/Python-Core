{
 "cells": [
  {
   "cell_type": "code",
   "execution_count": 16,
   "metadata": {},
   "outputs": [
    {
     "data": {
      "text/html": [
       "\n",
       "<style>\n",
       "    * {\n",
       "        font-family: monospace;\n",
       "        font-size: 12px;\n",
       "        line-height: normal;\n",
       "    }\n",
       "</style>\n"
      ],
      "text/plain": [
       "<IPython.core.display.HTML object>"
      ]
     },
     "execution_count": 16,
     "metadata": {},
     "output_type": "execute_result"
    }
   ],
   "source": [
    "from IPython.core.display import HTML\n",
    "HTML(r\"\"\"\n",
    "<style>\n",
    "    * {\n",
    "        font-family: monospace;\n",
    "        font-size: 12px;\n",
    "        line-height: normal;\n",
    "    }\n",
    "</style>\n",
    "\"\"\")"
   ]
  },
  {
   "cell_type": "markdown",
   "metadata": {},
   "source": [
    "# Import this"
   ]
  },
  {
   "cell_type": "code",
   "execution_count": 26,
   "metadata": {},
   "outputs": [],
   "source": [
    "from datetime import timedelta\n",
    "import base64\n",
    "import json\n",
    "import logging\n",
    "import requests\n",
    "\n",
    "import pandas as pd\n",
    "import pyarrow as pa\n",
    "import pyarrow.parquet as pq\n",
    "import pyarrow.parquet.encryption as pe\n",
    "from pyarrow.tests.parquet.encryption import InMemoryKmsClient\n",
    "\n",
    "logger = logging.getLogger(__name__)"
   ]
  },
  {
   "cell_type": "markdown",
   "metadata": {},
   "source": [
    "# KMS Client"
   ]
  },
  {
   "cell_type": "markdown",
   "metadata": {},
   "source": [
    "## Mock Client"
   ]
  },
  {
   "cell_type": "code",
   "execution_count": 18,
   "metadata": {},
   "outputs": [],
   "source": [
    "# secret 128-bit AES key\n",
    "footer_key = b\"1234567890123450\"\n",
    "pii1_key = b\"2345678901234501\"\n",
    "pii2_key = b\"3456789012345012\"\n",
    "\n",
    "mock_kms_connection_config = pe.KmsConnectionConfig(\n",
    "    kms_instance_id=\"python_client\",\n",
    "    kms_instance_url=\"https://URL1\",\n",
    "    key_access_token=\"MyToken\",\n",
    "    custom_kms_conf={\n",
    "        \"parquet_footer_key\": footer_key.decode(\"UTF-8\"),\n",
    "        \"confidential_encrypt_pii1\": pii1_key.decode(\"UTF-8\"),\n",
    "        \"confidential_encrypt_pii2\": pii2_key.decode(\"UTF-8\"),\n",
    "    }\n",
    ")\n",
    "\n",
    "def mock_kms_factory(kms_connection_configuration):\n",
    "    return InMemoryKmsClient(kms_connection_configuration)"
   ]
  },
  {
   "cell_type": "code",
   "execution_count": 19,
   "metadata": {},
   "outputs": [
    {
     "data": {
      "text/plain": [
       "b'MjM0NTY3ODkwMTIzNDUwMWhlbGxv'"
      ]
     },
     "execution_count": 19,
     "metadata": {},
     "output_type": "execute_result"
    }
   ],
   "source": [
    "mock_kms_client = mock_kms_factory(mock_kms_connection_config)\n",
    "text1 = mock_kms_client.wrap_key(key_bytes=\"hello\".encode(), master_key_identifier=\"confidential_encrypt_pii1\")\n",
    "text1"
   ]
  },
  {
   "cell_type": "code",
   "execution_count": 20,
   "metadata": {},
   "outputs": [
    {
     "data": {
      "text/plain": [
       "b'hello'"
      ]
     },
     "execution_count": 20,
     "metadata": {},
     "output_type": "execute_result"
    }
   ],
   "source": [
    "mock_kms_client.unwrap_key(wrapped_key=text1, master_key_identifier=\"confidential_encrypt_pii1\")"
   ]
  },
  {
   "cell_type": "code",
   "execution_count": 21,
   "metadata": {},
   "outputs": [],
   "source": [
    "mock_encryption_config = pe.EncryptionConfiguration(\n",
    "    cache_lifetime=timedelta(minutes=10.0),\n",
    "    column_keys={\n",
    "       \"confidential_encrypt_pii1\": [\"name\"],\n",
    "       \"confidential_encrypt_pii2\": [\"birth_day\"],\n",
    "    },\n",
    "    data_key_length_bits=128,\n",
    "    double_wrapping=True,\n",
    "    encryption_algorithm=\"AES_GCM_V1\",\n",
    "    footer_key=\"parquet_footer_key\",\n",
    "    plaintext_footer=True,\n",
    ")\n",
    "crypto_factory = pe.CryptoFactory(mock_kms_factory)\n",
    "file_encryption_properties = crypto_factory.file_encryption_properties(\n",
    "    mock_kms_connection_config,\n",
    "    mock_encryption_config,\n",
    ")"
   ]
  },
  {
   "cell_type": "code",
   "execution_count": 22,
   "metadata": {},
   "outputs": [
    {
     "name": "stdout",
     "output_type": "stream",
     "text": [
      "    name   birth_day favorite_color\n",
      "0   john  1990-01-01            red\n",
      "1    bob  1990-01-01         purple\n",
      "2  alice  1990-01-01           navy\n",
      "name: string\n",
      "birth_day: string\n",
      "favorite_color: string\n",
      "-- schema metadata --\n",
      "pandas: '{\"index_columns\": [{\"kind\": \"range\", \"name\": null, \"start\": 0, \"' + 613\n"
     ]
    }
   ],
   "source": [
    "data = {\n",
    "    'name': [\"john\", \"bob\", \"alice\"],\n",
    "    'birth_day': [\"1990-01-01\", \"1990-01-01\", \"1990-01-01\"],\n",
    "    'favorite_color': [\"red\", \"purple\", \"navy\"]\n",
    "}\n",
    "df = pd.DataFrame(data=data)\n",
    "print(df.head())\n",
    "table = pa.Table.from_pandas(df)\n",
    "print(table.schema)"
   ]
  },
  {
   "cell_type": "code",
   "execution_count": 23,
   "metadata": {},
   "outputs": [],
   "source": [
    "mock_file = \"./data/mock_data.parquet\"\n",
    "with pq.ParquetWriter(\n",
    "    where=mock_file,\n",
    "    schema=table.schema,\n",
    "    encryption_properties=file_encryption_properties,\n",
    ") as writer:\n",
    "    writer.write_table(table)"
   ]
  },
  {
   "cell_type": "code",
   "execution_count": 24,
   "metadata": {},
   "outputs": [],
   "source": [
    "decryption_config = pe.DecryptionConfiguration(cache_lifetime=timedelta(minutes=10.0))\n",
    "file_decryption_properties = crypto_factory.file_decryption_properties(\n",
    "    mock_kms_connection_config,\n",
    "    decryption_config,\n",
    ")\n",
    "result = pq.ParquetFile(\n",
    "    source=mock_file,\n",
    "    decryption_properties=file_decryption_properties,\n",
    ")"
   ]
  },
  {
   "cell_type": "code",
   "execution_count": 25,
   "metadata": {},
   "outputs": [
    {
     "data": {
      "text/html": [
       "<div>\n",
       "<style scoped>\n",
       "    .dataframe tbody tr th:only-of-type {\n",
       "        vertical-align: middle;\n",
       "    }\n",
       "\n",
       "    .dataframe tbody tr th {\n",
       "        vertical-align: top;\n",
       "    }\n",
       "\n",
       "    .dataframe thead th {\n",
       "        text-align: right;\n",
       "    }\n",
       "</style>\n",
       "<table border=\"1\" class=\"dataframe\">\n",
       "  <thead>\n",
       "    <tr style=\"text-align: right;\">\n",
       "      <th></th>\n",
       "      <th>name</th>\n",
       "      <th>birth_day</th>\n",
       "      <th>favorite_color</th>\n",
       "    </tr>\n",
       "  </thead>\n",
       "  <tbody>\n",
       "    <tr>\n",
       "      <th>0</th>\n",
       "      <td>john</td>\n",
       "      <td>1990-01-01</td>\n",
       "      <td>red</td>\n",
       "    </tr>\n",
       "    <tr>\n",
       "      <th>1</th>\n",
       "      <td>bob</td>\n",
       "      <td>1990-01-01</td>\n",
       "      <td>purple</td>\n",
       "    </tr>\n",
       "    <tr>\n",
       "      <th>2</th>\n",
       "      <td>alice</td>\n",
       "      <td>1990-01-01</td>\n",
       "      <td>navy</td>\n",
       "    </tr>\n",
       "  </tbody>\n",
       "</table>\n",
       "</div>"
      ],
      "text/plain": [
       "    name   birth_day favorite_color\n",
       "0   john  1990-01-01            red\n",
       "1    bob  1990-01-01         purple\n",
       "2  alice  1990-01-01           navy"
      ]
     },
     "execution_count": 25,
     "metadata": {},
     "output_type": "execute_result"
    }
   ],
   "source": [
    "result.read().to_pandas()"
   ]
  },
  {
   "cell_type": "markdown",
   "metadata": {},
   "source": [
    "## Vault Client"
   ]
  },
  {
   "cell_type": "code",
   "execution_count": 267,
   "metadata": {},
   "outputs": [],
   "source": [
    "class VaultClient(pe.KmsClient):\n",
    "    \"\"\"An example of a KmsClient implementation with master keys\n",
    "    managed by Hashicorp Vault KMS.\n",
    "    See Vault documentation: https://www.vaultproject.io/api/secret/transit\n",
    "    Not for production use!\n",
    "    \"\"\"\n",
    "    JSON_MEDIA_TYPE = \"application/json; charset=utf-8\"\n",
    "    DEFAULT_TRANSIT_ENGINE = \"/v1/transit/\"\n",
    "    WRAP_ENDPOINT = \"encrypt/\"\n",
    "    UNWRAP_ENDPOINT = \"decrypt/\"\n",
    "    TOKEN_HEADER = \"X-Vault-Token\"\n",
    "\n",
    "    def __init__(self, kms_connection_config):\n",
    "        \"\"\"Create a VaultClient instance.\n",
    "\n",
    "        Parameters\n",
    "        ----------\n",
    "        kms_connection_config : KmsConnectionConfig\n",
    "           configuration parameters to connect to vault,\n",
    "           e.g. URL and access token\n",
    "        \"\"\"\n",
    "        pe.KmsClient.__init__(self)\n",
    "        self.kms_url = kms_connection_config.kms_instance_url + \\\n",
    "            VaultClient.DEFAULT_TRANSIT_ENGINE\n",
    "        self.kms_connection_config = kms_connection_config\n",
    "\n",
    "    def wrap_key(self, key_bytes, master_key_identifier):\n",
    "        \"\"\"Call Vault to wrap key key_bytes with key\n",
    "        identified by master_key_identifier.\"\"\"\n",
    "        endpoint = self.kms_url + VaultClient.WRAP_ENDPOINT\n",
    "        headers = {VaultClient.TOKEN_HEADER:\n",
    "                   self.kms_connection_config.key_access_token}\n",
    "        r = requests.post(endpoint + master_key_identifier,\n",
    "                          headers=headers,\n",
    "                          data={'plaintext': base64.b64encode(key_bytes)})\n",
    "        r.raise_for_status()\n",
    "        r_dict = r.json()\n",
    "        wrapped_key = r_dict['data']['ciphertext']\n",
    "        return wrapped_key\n",
    "\n",
    "    def unwrap_key(self, wrapped_key, master_key_identifier):\n",
    "        \"\"\"Call Vault to unwrap wrapped_key with key\n",
    "        identified by master_key_identifier\"\"\"\n",
    "        endpoint = self.kms_url + VaultClient.UNWRAP_ENDPOINT\n",
    "        headers = {VaultClient.TOKEN_HEADER:\n",
    "                   self.kms_connection_config.key_access_token}\n",
    "        r = requests.post(endpoint + master_key_identifier,\n",
    "                          headers=headers,\n",
    "                          data={'ciphertext': wrapped_key})\n",
    "        r.raise_for_status()\n",
    "        r_dict = r.json()\n",
    "        plaintext = r_dict['data']['plaintext']\n",
    "        key_bytes = base64.b64decode(plaintext)\n",
    "        return key_bytes\n",
    "\n",
    "kms_connection_config = pe.KmsConnectionConfig(\n",
    "    # kms_instance_url=\"https://datainfra-dp-masking-api.zalopay.vn/\",\n",
    "    # key_access_token=\"30338e4118d17773515f9e11d0fcf415ff5d344d\",\n",
    ")\n",
    "\n",
    "def kms_factory(kms_connection_configuration):\n",
    "    return VaultClient(kms_connection_configuration)"
   ]
  },
  {
   "cell_type": "markdown",
   "metadata": {},
   "source": [
    "## AWS KMS Client"
   ]
  },
  {
   "cell_type": "code",
   "execution_count": 38,
   "metadata": {},
   "outputs": [],
   "source": [
    "from src.parquet_modular_encryption.pme_utils import (\n",
    "    kms_factory,\n",
    "    connect_to_hdfs,\n",
    "    decrypt_file,\n",
    "    encrypt_to_file,\n",
    ")"
   ]
  },
  {
   "cell_type": "code",
   "execution_count": 39,
   "metadata": {},
   "outputs": [],
   "source": [
    "with open(file=\"/Users/lap14443/secret_keys/pme_key.json\", mode=\"r\") as fi:\n",
    "    secret_keys = json.load(fp=fi)\n",
    "kms_connection_config = pe.KmsConnectionConfig(\n",
    "    custom_kms_conf={\n",
    "        \"region_name\": secret_keys[\"region_name\"],\n",
    "        \"aws_access_key_id\": secret_keys[\"aws_access_key_id\"],\n",
    "        \"aws_secret_access_key\": secret_keys[\"aws_secret_access_key\"],\n",
    "    }\n",
    ")\n",
    "crypto_factory = pe.CryptoFactory(kms_factory)"
   ]
  },
  {
   "cell_type": "code",
   "execution_count": 31,
   "metadata": {},
   "outputs": [],
   "source": [
    "encryption_config = pe.EncryptionConfiguration(\n",
    "    footer_key=\"parquet_footer_key\",\n",
    "    encryption_algorithm=\"AES_GCM_V1\",\n",
    "    data_key_length_bits=128,\n",
    "    plaintext_footer=True,\n",
    "    double_wrapping=True,\n",
    "    column_keys={\n",
    "        \"confidential_encrypt_multiple\": [\"name\"],\n",
    "        \"confidential_encrypt_pii2\": [\"birth_day\"],\n",
    "        },\n",
    "    cache_lifetime=timedelta(minutes=10.0),\n",
    ")"
   ]
  },
  {
   "cell_type": "code",
   "execution_count": 19,
   "metadata": {},
   "outputs": [],
   "source": [
    "import os\n",
    "\n",
    "\n",
    "os.environ['HADOOP_CONF_DIR'] = '/usr/hdp/3.1.0.0-78/hadoop/etc/hadoop'\n",
    "os.environ[\"HADOOP_USER_NAME\"] = \"zdeploy\"\n",
    "hdfs = connect_to_hdfs(host=\"10.60.37.61\", port=8020, extra_conf={})"
   ]
  },
  {
   "cell_type": "code",
   "execution_count": 16,
   "metadata": {},
   "outputs": [
    {
     "name": "stdout",
     "output_type": "stream",
     "text": [
      "    name   birth_day favorite_color\n",
      "0   john  1990-01-01            red\n",
      "1    bob  1990-01-01         purple\n",
      "2  alice  1990-01-01           navy\n",
      "name: string\n",
      "birth_day: string\n",
      "favorite_color: string\n",
      "-- schema metadata --\n",
      "pandas: '{\"index_columns\": [{\"kind\": \"range\", \"name\": null, \"start\": 0, \"' + 613\n"
     ]
    }
   ],
   "source": [
    "import pandas as pd\n",
    "import pyarrow as pa\n",
    "\n",
    "\n",
    "data = {\n",
    "    'name': [\"john\", \"bob\", \"alice\"],\n",
    "    'birth_day': [\"1990-01-01\", \"1990-01-01\", \"1990-01-01\"],\n",
    "    'favorite_color': [\"red\", \"purple\", \"navy\"]\n",
    "}\n",
    "df = pd.DataFrame(data=data)\n",
    "print(df.head())\n",
    "table = pa.Table.from_pandas(df)\n",
    "print(table.schema)"
   ]
  },
  {
   "cell_type": "code",
   "execution_count": 17,
   "metadata": {},
   "outputs": [],
   "source": [
    "mock_file = \"/tmp/hungnd8/test_kms/mock.parquet\"\n",
    "with pq.ParquetWriter(\n",
    "    where=mock_file,\n",
    "    schema=table.schema,\n",
    "    encryption_properties=file_encryption_properties,\n",
    "    filesystem=hdfs,\n",
    ") as writer:\n",
    "    writer.write_table(table)"
   ]
  },
  {
   "cell_type": "code",
   "execution_count": 21,
   "metadata": {},
   "outputs": [
    {
     "name": "stdout",
     "output_type": "stream",
     "text": [
      "Found 3 items\n",
      "-rw-r--r--   3 zdeploy hdfs       6029 2024-05-10 17:21 hdfs://10.60.37.61:8020/tmp/hungnd8/test_kms/mock.parquet\n",
      "-rw-r--r--   3 zdeploy hdfs       6029 2024-05-10 15:00 hdfs://10.60.37.61:8020/tmp/hungnd8/test_kms/mock_2.parquet\n",
      "-rw-r--r--   3 zdeploy hdfs          0 2024-05-10 17:18 hdfs://10.60.37.61:8020/tmp/hungnd8/test_kms/mock_3.parquet\n"
     ]
    }
   ],
   "source": [
    "%%bash\n",
    "hdfs dfs -ls hdfs://10.60.37.61:8020//tmp/hungnd8/test_kms/"
   ]
  },
  {
   "cell_type": "code",
   "execution_count": 18,
   "metadata": {},
   "outputs": [],
   "source": [
    "df = decrypt_file(\n",
    "    location=mock_file,\n",
    "    crypto_factory=crypto_factory,\n",
    "    kms_connection_config=kms_connection_config,\n",
    "    fs=hdfs,\n",
    ").to_pandas()"
   ]
  },
  {
   "cell_type": "code",
   "execution_count": 20,
   "metadata": {},
   "outputs": [
    {
     "data": {
      "text/html": [
       "<div>\n",
       "<style scoped>\n",
       "    .dataframe tbody tr th:only-of-type {\n",
       "        vertical-align: middle;\n",
       "    }\n",
       "\n",
       "    .dataframe tbody tr th {\n",
       "        vertical-align: top;\n",
       "    }\n",
       "\n",
       "    .dataframe thead th {\n",
       "        text-align: right;\n",
       "    }\n",
       "</style>\n",
       "<table border=\"1\" class=\"dataframe\">\n",
       "  <thead>\n",
       "    <tr style=\"text-align: right;\">\n",
       "      <th></th>\n",
       "      <th>name</th>\n",
       "      <th>birth_day</th>\n",
       "      <th>favorite_color</th>\n",
       "    </tr>\n",
       "  </thead>\n",
       "  <tbody>\n",
       "    <tr>\n",
       "      <th>0</th>\n",
       "      <td>john</td>\n",
       "      <td>1990-01-01</td>\n",
       "      <td>red</td>\n",
       "    </tr>\n",
       "    <tr>\n",
       "      <th>1</th>\n",
       "      <td>bob</td>\n",
       "      <td>1990-01-01</td>\n",
       "      <td>purple</td>\n",
       "    </tr>\n",
       "    <tr>\n",
       "      <th>2</th>\n",
       "      <td>alice</td>\n",
       "      <td>1990-01-01</td>\n",
       "      <td>navy</td>\n",
       "    </tr>\n",
       "  </tbody>\n",
       "</table>\n",
       "</div>"
      ],
      "text/plain": [
       "    name   birth_day favorite_color\n",
       "0   john  1990-01-01            red\n",
       "1    bob  1990-01-01         purple\n",
       "2  alice  1990-01-01           navy"
      ]
     },
     "execution_count": 20,
     "metadata": {},
     "output_type": "execute_result"
    }
   ],
   "source": [
    "df.head()"
   ]
  },
  {
   "cell_type": "code",
   "execution_count": null,
   "metadata": {},
   "outputs": [],
   "source": []
  },
  {
   "cell_type": "code",
   "execution_count": null,
   "metadata": {},
   "outputs": [],
   "source": []
  },
  {
   "cell_type": "code",
   "execution_count": null,
   "metadata": {},
   "outputs": [],
   "source": []
  },
  {
   "cell_type": "code",
   "execution_count": null,
   "metadata": {},
   "outputs": [],
   "source": []
  }
 ],
 "metadata": {
  "kernelspec": {
   "display_name": "Python 3 (ipykernel)",
   "language": "python",
   "name": "python3"
  }
 },
 "nbformat": 4,
 "nbformat_minor": 2
}
