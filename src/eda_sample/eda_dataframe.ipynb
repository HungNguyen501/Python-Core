{
 "cells": [
  {
   "cell_type": "code",
   "execution_count": 1,
   "metadata": {},
   "outputs": [
    {
     "data": {
      "text/html": [
       "\n",
       "<style>\n",
       "    * {\n",
       "        font-family: monospace;\n",
       "        font-size: 12px;\n",
       "        line-height: normal;\n",
       "    }\n",
       "</style>\n"
      ],
      "text/plain": [
       "<IPython.core.display.HTML object>"
      ]
     },
     "execution_count": 1,
     "metadata": {},
     "output_type": "execute_result"
    }
   ],
   "source": [
    "from IPython.core.display import HTML\n",
    "HTML(r\"\"\"\n",
    "<style>\n",
    "    * {\n",
    "        font-family: monospace;\n",
    "        font-size: 12px;\n",
    "        line-height: normal;\n",
    "    }\n",
    "</style>\n",
    "\"\"\")"
   ]
  },
  {
   "cell_type": "code",
   "execution_count": 62,
   "metadata": {
    "collapsed": true
   },
   "outputs": [],
   "source": [
    "import pandas as pd\n",
    "import numpy as np"
   ]
  },
  {
   "cell_type": "markdown",
   "metadata": {
    "collapsed": false,
    "pycharm": {
     "name": "#%% md\n"
    }
   },
   "source": [
    "# Read dataframe"
   ]
  },
  {
   "cell_type": "code",
   "execution_count": 99,
   "metadata": {
    "collapsed": false,
    "pycharm": {
     "name": "#%%\n"
    }
   },
   "outputs": [
    {
     "data": {
      "text/html": [
       "<div>\n",
       "<style scoped>\n",
       "    .dataframe tbody tr th:only-of-type {\n",
       "        vertical-align: middle;\n",
       "    }\n",
       "\n",
       "    .dataframe tbody tr th {\n",
       "        vertical-align: top;\n",
       "    }\n",
       "\n",
       "    .dataframe thead th {\n",
       "        text-align: right;\n",
       "    }\n",
       "</style>\n",
       "<table border=\"1\" class=\"dataframe\">\n",
       "  <thead>\n",
       "    <tr style=\"text-align: right;\">\n",
       "      <th></th>\n",
       "      <th>msisdn</th>\n",
       "      <th>mother_system</th>\n",
       "      <th>af_partition_date</th>\n",
       "      <th>appsflyer_id</th>\n",
       "      <th>af_adset</th>\n",
       "      <th>campaign</th>\n",
       "      <th>event_name</th>\n",
       "      <th>event_time</th>\n",
       "      <th>media_source</th>\n",
       "      <th>original_url</th>\n",
       "      <th>quantity</th>\n",
       "      <th>check</th>\n",
       "    </tr>\n",
       "  </thead>\n",
       "  <tbody>\n",
       "    <tr>\n",
       "      <th>0</th>\n",
       "      <td>8.490192e+10</td>\n",
       "      <td>VTP</td>\n",
       "      <td>20220326</td>\n",
       "      <td>1646382907280-3863150</td>\n",
       "      <td>GIAONH1_KDVTPAY_VTP_KTM</td>\n",
       "      <td>VTPOST_BH</td>\n",
       "      <td>vtm_transaction_s2s_success</td>\n",
       "      <td>2022-03-26T11:16:28.000+07:00</td>\n",
       "      <td>VTPOST</td>\n",
       "      <td>https://vtmoney.onelink.me/314y?pid=VTPOST&amp;c=V...</td>\n",
       "      <td>40</td>\n",
       "      <td>1</td>\n",
       "    </tr>\n",
       "    <tr>\n",
       "      <th>1</th>\n",
       "      <td>8.490192e+10</td>\n",
       "      <td>VTP</td>\n",
       "      <td>20220304</td>\n",
       "      <td>1646382907280-3863150</td>\n",
       "      <td>GIAONH1_KDVTPAY_VTP_KTM</td>\n",
       "      <td>VTPOST_BH</td>\n",
       "      <td>qr_start</td>\n",
       "      <td>2022-03-04T19:47:18.000+07:00</td>\n",
       "      <td>VTPOST</td>\n",
       "      <td>https://vtmoney.onelink.me/314y?pid=VTPOST&amp;c=V...</td>\n",
       "      <td>49</td>\n",
       "      <td>0</td>\n",
       "    </tr>\n",
       "    <tr>\n",
       "      <th>2</th>\n",
       "      <td>8.490192e+10</td>\n",
       "      <td>VTP</td>\n",
       "      <td>20220304</td>\n",
       "      <td>1646382907280-3863150</td>\n",
       "      <td>GIAONH1_KDVTPAY_VTP_KTM</td>\n",
       "      <td>VTPOST_BH</td>\n",
       "      <td>transfer_success</td>\n",
       "      <td>2022-03-04T19:47:40.000+07:00</td>\n",
       "      <td>VTPOST</td>\n",
       "      <td>https://vtmoney.onelink.me/314y?pid=VTPOST&amp;c=V...</td>\n",
       "      <td>14</td>\n",
       "      <td>0</td>\n",
       "    </tr>\n",
       "    <tr>\n",
       "      <th>3</th>\n",
       "      <td>8.490192e+10</td>\n",
       "      <td>VTP</td>\n",
       "      <td>20220304</td>\n",
       "      <td>1646382907280-3863150</td>\n",
       "      <td>GIAONH1_KDVTPAY_VTP_KTM</td>\n",
       "      <td>VTPOST_BH</td>\n",
       "      <td>login_success</td>\n",
       "      <td>2022-03-04T19:47:12.000+07:00</td>\n",
       "      <td>VTPOST</td>\n",
       "      <td>https://vtmoney.onelink.me/314y?pid=VTPOST&amp;c=V...</td>\n",
       "      <td>94</td>\n",
       "      <td>0</td>\n",
       "    </tr>\n",
       "    <tr>\n",
       "      <th>4</th>\n",
       "      <td>8.490192e+10</td>\n",
       "      <td>VTP</td>\n",
       "      <td>20220304</td>\n",
       "      <td>1646382907280-3863150</td>\n",
       "      <td>GIAONH1_KDVTPAY_VTP_KTM</td>\n",
       "      <td>VTPOST_BH</td>\n",
       "      <td>click_tab_bar_screen_home</td>\n",
       "      <td>2022-03-04T19:47:17.000+07:00</td>\n",
       "      <td>VTPOST</td>\n",
       "      <td>https://vtmoney.onelink.me/314y?pid=VTPOST&amp;c=V...</td>\n",
       "      <td>4</td>\n",
       "      <td>0</td>\n",
       "    </tr>\n",
       "    <tr>\n",
       "      <th>5</th>\n",
       "      <td>8.490192e+10</td>\n",
       "      <td>VTP</td>\n",
       "      <td>20220304</td>\n",
       "      <td>1646382907280-3863150</td>\n",
       "      <td>GIAONH1_KDVTPAY_VTP_KTM</td>\n",
       "      <td>VTPOST_BH</td>\n",
       "      <td>login_success</td>\n",
       "      <td>2022-03-04T19:47:12.000+07:00</td>\n",
       "      <td>VTPOST</td>\n",
       "      <td>https://vtmoney.onelink.me/314y?pid=VTPOST&amp;c=V...</td>\n",
       "      <td>97</td>\n",
       "      <td>0</td>\n",
       "    </tr>\n",
       "    <tr>\n",
       "      <th>6</th>\n",
       "      <td>8.490192e+10</td>\n",
       "      <td>VTP</td>\n",
       "      <td>20220304</td>\n",
       "      <td>1646382907280-3863150</td>\n",
       "      <td>GIAONH1_KDVTPAY_VTP_KTM</td>\n",
       "      <td>VTPOST_BH</td>\n",
       "      <td>transfer_success</td>\n",
       "      <td>2022-03-04T20:41:39.000+07:00</td>\n",
       "      <td>VTPOST</td>\n",
       "      <td>https://vtmoney.onelink.me/314y?pid=VTPOST&amp;c=V...</td>\n",
       "      <td>76</td>\n",
       "      <td>0</td>\n",
       "    </tr>\n",
       "    <tr>\n",
       "      <th>7</th>\n",
       "      <td>8.490192e+10</td>\n",
       "      <td>VTP</td>\n",
       "      <td>20220304</td>\n",
       "      <td>1646382907280-3863150</td>\n",
       "      <td>GIAONH1_KDVTPAY_VTP_KTM</td>\n",
       "      <td>VTPOST_BH</td>\n",
       "      <td>login_start</td>\n",
       "      <td>2022-03-04T20:40:56.000+07:00</td>\n",
       "      <td>VTPOST</td>\n",
       "      <td>https://vtmoney.onelink.me/314y?pid=VTPOST&amp;c=V...</td>\n",
       "      <td>20</td>\n",
       "      <td>1</td>\n",
       "    </tr>\n",
       "    <tr>\n",
       "      <th>8</th>\n",
       "      <td>8.490192e+10</td>\n",
       "      <td>VTP</td>\n",
       "      <td>20220304</td>\n",
       "      <td>1646382907280-3863150</td>\n",
       "      <td>GIAONH1_KDVTPAY_VTP_KTM</td>\n",
       "      <td>VTPOST_BH</td>\n",
       "      <td>login_success</td>\n",
       "      <td>2022-03-04T20:41:03.000+07:00</td>\n",
       "      <td>VTPOST</td>\n",
       "      <td>https://vtmoney.onelink.me/314y?pid=VTPOST&amp;c=V...</td>\n",
       "      <td>46</td>\n",
       "      <td>0</td>\n",
       "    </tr>\n",
       "    <tr>\n",
       "      <th>9</th>\n",
       "      <td>8.490192e+10</td>\n",
       "      <td>VTP</td>\n",
       "      <td>20220304</td>\n",
       "      <td>1646382907280-3863150</td>\n",
       "      <td>GIAONH1_KDVTPAY_VTP_KTM</td>\n",
       "      <td>VTPOST_BH</td>\n",
       "      <td>transfer_success</td>\n",
       "      <td>2022-03-04T20:41:56.000+07:00</td>\n",
       "      <td>VTPOST</td>\n",
       "      <td>https://vtmoney.onelink.me/314y?pid=VTPOST&amp;c=V...</td>\n",
       "      <td>55</td>\n",
       "      <td>0</td>\n",
       "    </tr>\n",
       "  </tbody>\n",
       "</table>\n",
       "</div>"
      ],
      "text/plain": [
       "         msisdn mother_system  af_partition_date           appsflyer_id  \\\n",
       "0  8.490192e+10           VTP           20220326  1646382907280-3863150   \n",
       "1  8.490192e+10           VTP           20220304  1646382907280-3863150   \n",
       "2  8.490192e+10           VTP           20220304  1646382907280-3863150   \n",
       "3  8.490192e+10           VTP           20220304  1646382907280-3863150   \n",
       "4  8.490192e+10           VTP           20220304  1646382907280-3863150   \n",
       "5  8.490192e+10           VTP           20220304  1646382907280-3863150   \n",
       "6  8.490192e+10           VTP           20220304  1646382907280-3863150   \n",
       "7  8.490192e+10           VTP           20220304  1646382907280-3863150   \n",
       "8  8.490192e+10           VTP           20220304  1646382907280-3863150   \n",
       "9  8.490192e+10           VTP           20220304  1646382907280-3863150   \n",
       "\n",
       "                  af_adset   campaign                   event_name  \\\n",
       "0  GIAONH1_KDVTPAY_VTP_KTM  VTPOST_BH  vtm_transaction_s2s_success   \n",
       "1  GIAONH1_KDVTPAY_VTP_KTM  VTPOST_BH                     qr_start   \n",
       "2  GIAONH1_KDVTPAY_VTP_KTM  VTPOST_BH             transfer_success   \n",
       "3  GIAONH1_KDVTPAY_VTP_KTM  VTPOST_BH                login_success   \n",
       "4  GIAONH1_KDVTPAY_VTP_KTM  VTPOST_BH    click_tab_bar_screen_home   \n",
       "5  GIAONH1_KDVTPAY_VTP_KTM  VTPOST_BH                login_success   \n",
       "6  GIAONH1_KDVTPAY_VTP_KTM  VTPOST_BH             transfer_success   \n",
       "7  GIAONH1_KDVTPAY_VTP_KTM  VTPOST_BH                  login_start   \n",
       "8  GIAONH1_KDVTPAY_VTP_KTM  VTPOST_BH                login_success   \n",
       "9  GIAONH1_KDVTPAY_VTP_KTM  VTPOST_BH             transfer_success   \n",
       "\n",
       "                      event_time media_source  \\\n",
       "0  2022-03-26T11:16:28.000+07:00       VTPOST   \n",
       "1  2022-03-04T19:47:18.000+07:00       VTPOST   \n",
       "2  2022-03-04T19:47:40.000+07:00       VTPOST   \n",
       "3  2022-03-04T19:47:12.000+07:00       VTPOST   \n",
       "4  2022-03-04T19:47:17.000+07:00       VTPOST   \n",
       "5  2022-03-04T19:47:12.000+07:00       VTPOST   \n",
       "6  2022-03-04T20:41:39.000+07:00       VTPOST   \n",
       "7  2022-03-04T20:40:56.000+07:00       VTPOST   \n",
       "8  2022-03-04T20:41:03.000+07:00       VTPOST   \n",
       "9  2022-03-04T20:41:56.000+07:00       VTPOST   \n",
       "\n",
       "                                        original_url  quantity  check  \n",
       "0  https://vtmoney.onelink.me/314y?pid=VTPOST&c=V...        40      1  \n",
       "1  https://vtmoney.onelink.me/314y?pid=VTPOST&c=V...        49      0  \n",
       "2  https://vtmoney.onelink.me/314y?pid=VTPOST&c=V...        14      0  \n",
       "3  https://vtmoney.onelink.me/314y?pid=VTPOST&c=V...        94      0  \n",
       "4  https://vtmoney.onelink.me/314y?pid=VTPOST&c=V...         4      0  \n",
       "5  https://vtmoney.onelink.me/314y?pid=VTPOST&c=V...        97      0  \n",
       "6  https://vtmoney.onelink.me/314y?pid=VTPOST&c=V...        76      0  \n",
       "7  https://vtmoney.onelink.me/314y?pid=VTPOST&c=V...        20      1  \n",
       "8  https://vtmoney.onelink.me/314y?pid=VTPOST&c=V...        46      0  \n",
       "9  https://vtmoney.onelink.me/314y?pid=VTPOST&c=V...        55      0  "
      ]
     },
     "execution_count": 99,
     "metadata": {},
     "output_type": "execute_result"
    }
   ],
   "source": [
    "df_dataset = pd.read_csv('.//data//dataset.csv')\n",
    "df_dataset.head(n=10)"
   ]
  },
  {
   "cell_type": "code",
   "execution_count": 100,
   "metadata": {
    "collapsed": false,
    "pycharm": {
     "name": "#%%\n"
    }
   },
   "outputs": [
    {
     "name": "stdout",
     "output_type": "stream",
     "text": [
      "<class 'pandas.core.frame.DataFrame'>\n",
      "RangeIndex: 156517 entries, 0 to 156516\n",
      "Data columns (total 12 columns):\n",
      " #   Column             Non-Null Count   Dtype  \n",
      "---  ------             --------------   -----  \n",
      " 0   msisdn             102821 non-null  float64\n",
      " 1   mother_system      102821 non-null  object \n",
      " 2   af_partition_date  156517 non-null  int64  \n",
      " 3   appsflyer_id       111084 non-null  object \n",
      " 4   af_adset           155700 non-null  object \n",
      " 5   campaign           156429 non-null  object \n",
      " 6   event_name         156517 non-null  object \n",
      " 7   event_time         156517 non-null  object \n",
      " 8   media_source       156517 non-null  object \n",
      " 9   original_url       156265 non-null  object \n",
      " 10  quantity           156517 non-null  int64  \n",
      " 11  check              156517 non-null  int64  \n",
      "dtypes: float64(1), int64(3), object(8)\n",
      "memory usage: 14.3+ MB\n"
     ]
    }
   ],
   "source": [
    "df_dataset.info()"
   ]
  },
  {
   "cell_type": "markdown",
   "metadata": {
    "collapsed": false,
    "pycharm": {
     "name": "#%% md\n"
    }
   },
   "source": [
    "# 1. Strucure Investigation"
   ]
  },
  {
   "cell_type": "code",
   "execution_count": 104,
   "metadata": {
    "collapsed": false,
    "pycharm": {
     "name": "#%%\n"
    }
   },
   "outputs": [
    {
     "data": {
      "text/plain": [
       "(156517, 12)"
      ]
     },
     "execution_count": 104,
     "metadata": {},
     "output_type": "execute_result"
    }
   ],
   "source": [
    "df_dataset.shape"
   ]
  },
  {
   "cell_type": "code",
   "execution_count": 105,
   "metadata": {
    "collapsed": false,
    "pycharm": {
     "name": "#%%\n"
    }
   },
   "outputs": [
    {
     "data": {
      "text/plain": [
       "object     8\n",
       "int64      3\n",
       "float64    1\n",
       "dtype: int64"
      ]
     },
     "execution_count": 105,
     "metadata": {},
     "output_type": "execute_result"
    }
   ],
   "source": [
    "pd.value_counts(df_dataset.dtypes)"
   ]
  },
  {
   "cell_type": "markdown",
   "metadata": {
    "collapsed": false,
    "pycharm": {
     "name": "#%% md\n"
    }
   },
   "source": [
    "## 1.1 Structure of non-numerical features"
   ]
  },
  {
   "cell_type": "code",
   "execution_count": 106,
   "metadata": {
    "collapsed": false,
    "pycharm": {
     "name": "#%%\n"
    }
   },
   "outputs": [
    {
     "data": {
      "text/html": [
       "<div>\n",
       "<style scoped>\n",
       "    .dataframe tbody tr th:only-of-type {\n",
       "        vertical-align: middle;\n",
       "    }\n",
       "\n",
       "    .dataframe tbody tr th {\n",
       "        vertical-align: top;\n",
       "    }\n",
       "\n",
       "    .dataframe thead th {\n",
       "        text-align: right;\n",
       "    }\n",
       "</style>\n",
       "<table border=\"1\" class=\"dataframe\">\n",
       "  <thead>\n",
       "    <tr style=\"text-align: right;\">\n",
       "      <th></th>\n",
       "      <th>mother_system</th>\n",
       "      <th>appsflyer_id</th>\n",
       "      <th>af_adset</th>\n",
       "      <th>campaign</th>\n",
       "      <th>event_name</th>\n",
       "      <th>event_time</th>\n",
       "      <th>media_source</th>\n",
       "      <th>original_url</th>\n",
       "    </tr>\n",
       "  </thead>\n",
       "  <tbody>\n",
       "    <tr>\n",
       "      <th>0</th>\n",
       "      <td>VTP</td>\n",
       "      <td>1646382907280-3863150</td>\n",
       "      <td>GIAONH1_KDVTPAY_VTP_KTM</td>\n",
       "      <td>VTPOST_BH</td>\n",
       "      <td>vtm_transaction_s2s_success</td>\n",
       "      <td>2022-03-26T11:16:28.000+07:00</td>\n",
       "      <td>VTPOST</td>\n",
       "      <td>https://vtmoney.onelink.me/314y?pid=VTPOST&amp;c=V...</td>\n",
       "    </tr>\n",
       "    <tr>\n",
       "      <th>1</th>\n",
       "      <td>VTP</td>\n",
       "      <td>1646382907280-3863150</td>\n",
       "      <td>GIAONH1_KDVTPAY_VTP_KTM</td>\n",
       "      <td>VTPOST_BH</td>\n",
       "      <td>qr_start</td>\n",
       "      <td>2022-03-04T19:47:18.000+07:00</td>\n",
       "      <td>VTPOST</td>\n",
       "      <td>https://vtmoney.onelink.me/314y?pid=VTPOST&amp;c=V...</td>\n",
       "    </tr>\n",
       "    <tr>\n",
       "      <th>2</th>\n",
       "      <td>VTP</td>\n",
       "      <td>1646382907280-3863150</td>\n",
       "      <td>GIAONH1_KDVTPAY_VTP_KTM</td>\n",
       "      <td>VTPOST_BH</td>\n",
       "      <td>transfer_success</td>\n",
       "      <td>2022-03-04T19:47:40.000+07:00</td>\n",
       "      <td>VTPOST</td>\n",
       "      <td>https://vtmoney.onelink.me/314y?pid=VTPOST&amp;c=V...</td>\n",
       "    </tr>\n",
       "    <tr>\n",
       "      <th>3</th>\n",
       "      <td>VTP</td>\n",
       "      <td>1646382907280-3863150</td>\n",
       "      <td>GIAONH1_KDVTPAY_VTP_KTM</td>\n",
       "      <td>VTPOST_BH</td>\n",
       "      <td>login_success</td>\n",
       "      <td>2022-03-04T19:47:12.000+07:00</td>\n",
       "      <td>VTPOST</td>\n",
       "      <td>https://vtmoney.onelink.me/314y?pid=VTPOST&amp;c=V...</td>\n",
       "    </tr>\n",
       "    <tr>\n",
       "      <th>4</th>\n",
       "      <td>VTP</td>\n",
       "      <td>1646382907280-3863150</td>\n",
       "      <td>GIAONH1_KDVTPAY_VTP_KTM</td>\n",
       "      <td>VTPOST_BH</td>\n",
       "      <td>click_tab_bar_screen_home</td>\n",
       "      <td>2022-03-04T19:47:17.000+07:00</td>\n",
       "      <td>VTPOST</td>\n",
       "      <td>https://vtmoney.onelink.me/314y?pid=VTPOST&amp;c=V...</td>\n",
       "    </tr>\n",
       "    <tr>\n",
       "      <th>5</th>\n",
       "      <td>VTP</td>\n",
       "      <td>1646382907280-3863150</td>\n",
       "      <td>GIAONH1_KDVTPAY_VTP_KTM</td>\n",
       "      <td>VTPOST_BH</td>\n",
       "      <td>login_success</td>\n",
       "      <td>2022-03-04T19:47:12.000+07:00</td>\n",
       "      <td>VTPOST</td>\n",
       "      <td>https://vtmoney.onelink.me/314y?pid=VTPOST&amp;c=V...</td>\n",
       "    </tr>\n",
       "    <tr>\n",
       "      <th>6</th>\n",
       "      <td>VTP</td>\n",
       "      <td>1646382907280-3863150</td>\n",
       "      <td>GIAONH1_KDVTPAY_VTP_KTM</td>\n",
       "      <td>VTPOST_BH</td>\n",
       "      <td>transfer_success</td>\n",
       "      <td>2022-03-04T20:41:39.000+07:00</td>\n",
       "      <td>VTPOST</td>\n",
       "      <td>https://vtmoney.onelink.me/314y?pid=VTPOST&amp;c=V...</td>\n",
       "    </tr>\n",
       "    <tr>\n",
       "      <th>7</th>\n",
       "      <td>VTP</td>\n",
       "      <td>1646382907280-3863150</td>\n",
       "      <td>GIAONH1_KDVTPAY_VTP_KTM</td>\n",
       "      <td>VTPOST_BH</td>\n",
       "      <td>login_start</td>\n",
       "      <td>2022-03-04T20:40:56.000+07:00</td>\n",
       "      <td>VTPOST</td>\n",
       "      <td>https://vtmoney.onelink.me/314y?pid=VTPOST&amp;c=V...</td>\n",
       "    </tr>\n",
       "    <tr>\n",
       "      <th>8</th>\n",
       "      <td>VTP</td>\n",
       "      <td>1646382907280-3863150</td>\n",
       "      <td>GIAONH1_KDVTPAY_VTP_KTM</td>\n",
       "      <td>VTPOST_BH</td>\n",
       "      <td>login_success</td>\n",
       "      <td>2022-03-04T20:41:03.000+07:00</td>\n",
       "      <td>VTPOST</td>\n",
       "      <td>https://vtmoney.onelink.me/314y?pid=VTPOST&amp;c=V...</td>\n",
       "    </tr>\n",
       "    <tr>\n",
       "      <th>9</th>\n",
       "      <td>VTP</td>\n",
       "      <td>1646382907280-3863150</td>\n",
       "      <td>GIAONH1_KDVTPAY_VTP_KTM</td>\n",
       "      <td>VTPOST_BH</td>\n",
       "      <td>transfer_success</td>\n",
       "      <td>2022-03-04T20:41:56.000+07:00</td>\n",
       "      <td>VTPOST</td>\n",
       "      <td>https://vtmoney.onelink.me/314y?pid=VTPOST&amp;c=V...</td>\n",
       "    </tr>\n",
       "  </tbody>\n",
       "</table>\n",
       "</div>"
      ],
      "text/plain": [
       "  mother_system           appsflyer_id                 af_adset   campaign  \\\n",
       "0           VTP  1646382907280-3863150  GIAONH1_KDVTPAY_VTP_KTM  VTPOST_BH   \n",
       "1           VTP  1646382907280-3863150  GIAONH1_KDVTPAY_VTP_KTM  VTPOST_BH   \n",
       "2           VTP  1646382907280-3863150  GIAONH1_KDVTPAY_VTP_KTM  VTPOST_BH   \n",
       "3           VTP  1646382907280-3863150  GIAONH1_KDVTPAY_VTP_KTM  VTPOST_BH   \n",
       "4           VTP  1646382907280-3863150  GIAONH1_KDVTPAY_VTP_KTM  VTPOST_BH   \n",
       "5           VTP  1646382907280-3863150  GIAONH1_KDVTPAY_VTP_KTM  VTPOST_BH   \n",
       "6           VTP  1646382907280-3863150  GIAONH1_KDVTPAY_VTP_KTM  VTPOST_BH   \n",
       "7           VTP  1646382907280-3863150  GIAONH1_KDVTPAY_VTP_KTM  VTPOST_BH   \n",
       "8           VTP  1646382907280-3863150  GIAONH1_KDVTPAY_VTP_KTM  VTPOST_BH   \n",
       "9           VTP  1646382907280-3863150  GIAONH1_KDVTPAY_VTP_KTM  VTPOST_BH   \n",
       "\n",
       "                    event_name                     event_time media_source  \\\n",
       "0  vtm_transaction_s2s_success  2022-03-26T11:16:28.000+07:00       VTPOST   \n",
       "1                     qr_start  2022-03-04T19:47:18.000+07:00       VTPOST   \n",
       "2             transfer_success  2022-03-04T19:47:40.000+07:00       VTPOST   \n",
       "3                login_success  2022-03-04T19:47:12.000+07:00       VTPOST   \n",
       "4    click_tab_bar_screen_home  2022-03-04T19:47:17.000+07:00       VTPOST   \n",
       "5                login_success  2022-03-04T19:47:12.000+07:00       VTPOST   \n",
       "6             transfer_success  2022-03-04T20:41:39.000+07:00       VTPOST   \n",
       "7                  login_start  2022-03-04T20:40:56.000+07:00       VTPOST   \n",
       "8                login_success  2022-03-04T20:41:03.000+07:00       VTPOST   \n",
       "9             transfer_success  2022-03-04T20:41:56.000+07:00       VTPOST   \n",
       "\n",
       "                                        original_url  \n",
       "0  https://vtmoney.onelink.me/314y?pid=VTPOST&c=V...  \n",
       "1  https://vtmoney.onelink.me/314y?pid=VTPOST&c=V...  \n",
       "2  https://vtmoney.onelink.me/314y?pid=VTPOST&c=V...  \n",
       "3  https://vtmoney.onelink.me/314y?pid=VTPOST&c=V...  \n",
       "4  https://vtmoney.onelink.me/314y?pid=VTPOST&c=V...  \n",
       "5  https://vtmoney.onelink.me/314y?pid=VTPOST&c=V...  \n",
       "6  https://vtmoney.onelink.me/314y?pid=VTPOST&c=V...  \n",
       "7  https://vtmoney.onelink.me/314y?pid=VTPOST&c=V...  \n",
       "8  https://vtmoney.onelink.me/314y?pid=VTPOST&c=V...  \n",
       "9  https://vtmoney.onelink.me/314y?pid=VTPOST&c=V...  "
      ]
     },
     "execution_count": 106,
     "metadata": {},
     "output_type": "execute_result"
    }
   ],
   "source": [
    "df_dataset.select_dtypes(exclude='number').head(10)"
   ]
  },
  {
   "cell_type": "code",
   "execution_count": 107,
   "metadata": {
    "collapsed": false,
    "pycharm": {
     "name": "#%%\n"
    }
   },
   "outputs": [
    {
     "data": {
      "text/html": [
       "<div>\n",
       "<style scoped>\n",
       "    .dataframe tbody tr th:only-of-type {\n",
       "        vertical-align: middle;\n",
       "    }\n",
       "\n",
       "    .dataframe tbody tr th {\n",
       "        vertical-align: top;\n",
       "    }\n",
       "\n",
       "    .dataframe thead th {\n",
       "        text-align: right;\n",
       "    }\n",
       "</style>\n",
       "<table border=\"1\" class=\"dataframe\">\n",
       "  <thead>\n",
       "    <tr style=\"text-align: right;\">\n",
       "      <th></th>\n",
       "      <th>msisdn</th>\n",
       "      <th>mother_system</th>\n",
       "      <th>af_partition_date</th>\n",
       "      <th>appsflyer_id</th>\n",
       "      <th>af_adset</th>\n",
       "      <th>campaign</th>\n",
       "      <th>event_name</th>\n",
       "      <th>event_time</th>\n",
       "      <th>media_source</th>\n",
       "      <th>original_url</th>\n",
       "      <th>quantity</th>\n",
       "      <th>check</th>\n",
       "    </tr>\n",
       "  </thead>\n",
       "  <tbody>\n",
       "    <tr>\n",
       "      <th>0</th>\n",
       "      <td>8.490192e+10</td>\n",
       "      <td>VTP</td>\n",
       "      <td>20220326</td>\n",
       "      <td>1646382907280-3863150</td>\n",
       "      <td>GIAONH1_KDVTPAY_VTP_KTM</td>\n",
       "      <td>VTPOST_BH</td>\n",
       "      <td>vtm_transaction_s2s_success</td>\n",
       "      <td>2022-03-26T11:16:28.000+07:00</td>\n",
       "      <td>VTPOST</td>\n",
       "      <td>https://vtmoney.onelink.me/314y?pid=VTPOST&amp;c=V...</td>\n",
       "      <td>40</td>\n",
       "      <td>1</td>\n",
       "    </tr>\n",
       "    <tr>\n",
       "      <th>1</th>\n",
       "      <td>8.490192e+10</td>\n",
       "      <td>VTP</td>\n",
       "      <td>20220304</td>\n",
       "      <td>1646382907280-3863150</td>\n",
       "      <td>GIAONH1_KDVTPAY_VTP_KTM</td>\n",
       "      <td>VTPOST_BH</td>\n",
       "      <td>qr_start</td>\n",
       "      <td>2022-03-04T19:47:18.000+07:00</td>\n",
       "      <td>VTPOST</td>\n",
       "      <td>https://vtmoney.onelink.me/314y?pid=VTPOST&amp;c=V...</td>\n",
       "      <td>49</td>\n",
       "      <td>0</td>\n",
       "    </tr>\n",
       "    <tr>\n",
       "      <th>2</th>\n",
       "      <td>8.490192e+10</td>\n",
       "      <td>VTP</td>\n",
       "      <td>20220304</td>\n",
       "      <td>1646382907280-3863150</td>\n",
       "      <td>GIAONH1_KDVTPAY_VTP_KTM</td>\n",
       "      <td>VTPOST_BH</td>\n",
       "      <td>transfer_success</td>\n",
       "      <td>2022-03-04T19:47:40.000+07:00</td>\n",
       "      <td>VTPOST</td>\n",
       "      <td>https://vtmoney.onelink.me/314y?pid=VTPOST&amp;c=V...</td>\n",
       "      <td>14</td>\n",
       "      <td>0</td>\n",
       "    </tr>\n",
       "    <tr>\n",
       "      <th>3</th>\n",
       "      <td>8.490192e+10</td>\n",
       "      <td>VTP</td>\n",
       "      <td>20220304</td>\n",
       "      <td>1646382907280-3863150</td>\n",
       "      <td>GIAONH1_KDVTPAY_VTP_KTM</td>\n",
       "      <td>VTPOST_BH</td>\n",
       "      <td>login_success</td>\n",
       "      <td>2022-03-04T19:47:12.000+07:00</td>\n",
       "      <td>VTPOST</td>\n",
       "      <td>https://vtmoney.onelink.me/314y?pid=VTPOST&amp;c=V...</td>\n",
       "      <td>94</td>\n",
       "      <td>0</td>\n",
       "    </tr>\n",
       "    <tr>\n",
       "      <th>4</th>\n",
       "      <td>8.490192e+10</td>\n",
       "      <td>VTP</td>\n",
       "      <td>20220304</td>\n",
       "      <td>1646382907280-3863150</td>\n",
       "      <td>GIAONH1_KDVTPAY_VTP_KTM</td>\n",
       "      <td>VTPOST_BH</td>\n",
       "      <td>click_tab_bar_screen_home</td>\n",
       "      <td>2022-03-04T19:47:17.000+07:00</td>\n",
       "      <td>VTPOST</td>\n",
       "      <td>https://vtmoney.onelink.me/314y?pid=VTPOST&amp;c=V...</td>\n",
       "      <td>4</td>\n",
       "      <td>0</td>\n",
       "    </tr>\n",
       "    <tr>\n",
       "      <th>5</th>\n",
       "      <td>8.490192e+10</td>\n",
       "      <td>VTP</td>\n",
       "      <td>20220304</td>\n",
       "      <td>1646382907280-3863150</td>\n",
       "      <td>GIAONH1_KDVTPAY_VTP_KTM</td>\n",
       "      <td>VTPOST_BH</td>\n",
       "      <td>login_success</td>\n",
       "      <td>2022-03-04T19:47:12.000+07:00</td>\n",
       "      <td>VTPOST</td>\n",
       "      <td>https://vtmoney.onelink.me/314y?pid=VTPOST&amp;c=V...</td>\n",
       "      <td>97</td>\n",
       "      <td>0</td>\n",
       "    </tr>\n",
       "    <tr>\n",
       "      <th>6</th>\n",
       "      <td>8.490192e+10</td>\n",
       "      <td>VTP</td>\n",
       "      <td>20220304</td>\n",
       "      <td>1646382907280-3863150</td>\n",
       "      <td>GIAONH1_KDVTPAY_VTP_KTM</td>\n",
       "      <td>VTPOST_BH</td>\n",
       "      <td>transfer_success</td>\n",
       "      <td>2022-03-04T20:41:39.000+07:00</td>\n",
       "      <td>VTPOST</td>\n",
       "      <td>https://vtmoney.onelink.me/314y?pid=VTPOST&amp;c=V...</td>\n",
       "      <td>76</td>\n",
       "      <td>0</td>\n",
       "    </tr>\n",
       "    <tr>\n",
       "      <th>7</th>\n",
       "      <td>8.490192e+10</td>\n",
       "      <td>VTP</td>\n",
       "      <td>20220304</td>\n",
       "      <td>1646382907280-3863150</td>\n",
       "      <td>GIAONH1_KDVTPAY_VTP_KTM</td>\n",
       "      <td>VTPOST_BH</td>\n",
       "      <td>login_start</td>\n",
       "      <td>2022-03-04T20:40:56.000+07:00</td>\n",
       "      <td>VTPOST</td>\n",
       "      <td>https://vtmoney.onelink.me/314y?pid=VTPOST&amp;c=V...</td>\n",
       "      <td>20</td>\n",
       "      <td>1</td>\n",
       "    </tr>\n",
       "    <tr>\n",
       "      <th>8</th>\n",
       "      <td>8.490192e+10</td>\n",
       "      <td>VTP</td>\n",
       "      <td>20220304</td>\n",
       "      <td>1646382907280-3863150</td>\n",
       "      <td>GIAONH1_KDVTPAY_VTP_KTM</td>\n",
       "      <td>VTPOST_BH</td>\n",
       "      <td>login_success</td>\n",
       "      <td>2022-03-04T20:41:03.000+07:00</td>\n",
       "      <td>VTPOST</td>\n",
       "      <td>https://vtmoney.onelink.me/314y?pid=VTPOST&amp;c=V...</td>\n",
       "      <td>46</td>\n",
       "      <td>0</td>\n",
       "    </tr>\n",
       "    <tr>\n",
       "      <th>9</th>\n",
       "      <td>8.490192e+10</td>\n",
       "      <td>VTP</td>\n",
       "      <td>20220304</td>\n",
       "      <td>1646382907280-3863150</td>\n",
       "      <td>GIAONH1_KDVTPAY_VTP_KTM</td>\n",
       "      <td>VTPOST_BH</td>\n",
       "      <td>transfer_success</td>\n",
       "      <td>2022-03-04T20:41:56.000+07:00</td>\n",
       "      <td>VTPOST</td>\n",
       "      <td>https://vtmoney.onelink.me/314y?pid=VTPOST&amp;c=V...</td>\n",
       "      <td>55</td>\n",
       "      <td>0</td>\n",
       "    </tr>\n",
       "  </tbody>\n",
       "</table>\n",
       "</div>"
      ],
      "text/plain": [
       "         msisdn mother_system  af_partition_date           appsflyer_id  \\\n",
       "0  8.490192e+10           VTP           20220326  1646382907280-3863150   \n",
       "1  8.490192e+10           VTP           20220304  1646382907280-3863150   \n",
       "2  8.490192e+10           VTP           20220304  1646382907280-3863150   \n",
       "3  8.490192e+10           VTP           20220304  1646382907280-3863150   \n",
       "4  8.490192e+10           VTP           20220304  1646382907280-3863150   \n",
       "5  8.490192e+10           VTP           20220304  1646382907280-3863150   \n",
       "6  8.490192e+10           VTP           20220304  1646382907280-3863150   \n",
       "7  8.490192e+10           VTP           20220304  1646382907280-3863150   \n",
       "8  8.490192e+10           VTP           20220304  1646382907280-3863150   \n",
       "9  8.490192e+10           VTP           20220304  1646382907280-3863150   \n",
       "\n",
       "                  af_adset   campaign                   event_name  \\\n",
       "0  GIAONH1_KDVTPAY_VTP_KTM  VTPOST_BH  vtm_transaction_s2s_success   \n",
       "1  GIAONH1_KDVTPAY_VTP_KTM  VTPOST_BH                     qr_start   \n",
       "2  GIAONH1_KDVTPAY_VTP_KTM  VTPOST_BH             transfer_success   \n",
       "3  GIAONH1_KDVTPAY_VTP_KTM  VTPOST_BH                login_success   \n",
       "4  GIAONH1_KDVTPAY_VTP_KTM  VTPOST_BH    click_tab_bar_screen_home   \n",
       "5  GIAONH1_KDVTPAY_VTP_KTM  VTPOST_BH                login_success   \n",
       "6  GIAONH1_KDVTPAY_VTP_KTM  VTPOST_BH             transfer_success   \n",
       "7  GIAONH1_KDVTPAY_VTP_KTM  VTPOST_BH                  login_start   \n",
       "8  GIAONH1_KDVTPAY_VTP_KTM  VTPOST_BH                login_success   \n",
       "9  GIAONH1_KDVTPAY_VTP_KTM  VTPOST_BH             transfer_success   \n",
       "\n",
       "                      event_time media_source  \\\n",
       "0  2022-03-26T11:16:28.000+07:00       VTPOST   \n",
       "1  2022-03-04T19:47:18.000+07:00       VTPOST   \n",
       "2  2022-03-04T19:47:40.000+07:00       VTPOST   \n",
       "3  2022-03-04T19:47:12.000+07:00       VTPOST   \n",
       "4  2022-03-04T19:47:17.000+07:00       VTPOST   \n",
       "5  2022-03-04T19:47:12.000+07:00       VTPOST   \n",
       "6  2022-03-04T20:41:39.000+07:00       VTPOST   \n",
       "7  2022-03-04T20:40:56.000+07:00       VTPOST   \n",
       "8  2022-03-04T20:41:03.000+07:00       VTPOST   \n",
       "9  2022-03-04T20:41:56.000+07:00       VTPOST   \n",
       "\n",
       "                                        original_url  quantity  check  \n",
       "0  https://vtmoney.onelink.me/314y?pid=VTPOST&c=V...        40      1  \n",
       "1  https://vtmoney.onelink.me/314y?pid=VTPOST&c=V...        49      0  \n",
       "2  https://vtmoney.onelink.me/314y?pid=VTPOST&c=V...        14      0  \n",
       "3  https://vtmoney.onelink.me/314y?pid=VTPOST&c=V...        94      0  \n",
       "4  https://vtmoney.onelink.me/314y?pid=VTPOST&c=V...         4      0  \n",
       "5  https://vtmoney.onelink.me/314y?pid=VTPOST&c=V...        97      0  \n",
       "6  https://vtmoney.onelink.me/314y?pid=VTPOST&c=V...        76      0  \n",
       "7  https://vtmoney.onelink.me/314y?pid=VTPOST&c=V...        20      1  \n",
       "8  https://vtmoney.onelink.me/314y?pid=VTPOST&c=V...        46      0  \n",
       "9  https://vtmoney.onelink.me/314y?pid=VTPOST&c=V...        55      0  "
      ]
     },
     "execution_count": 107,
     "metadata": {},
     "output_type": "execute_result"
    }
   ],
   "source": [
    "df_dataset.head(n=10)"
   ]
  },
  {
   "cell_type": "code",
   "execution_count": 108,
   "metadata": {
    "collapsed": false,
    "pycharm": {
     "name": "#%%\n"
    }
   },
   "outputs": [
    {
     "data": {
      "text/html": [
       "<div>\n",
       "<style scoped>\n",
       "    .dataframe tbody tr th:only-of-type {\n",
       "        vertical-align: middle;\n",
       "    }\n",
       "\n",
       "    .dataframe tbody tr th {\n",
       "        vertical-align: top;\n",
       "    }\n",
       "\n",
       "    .dataframe thead th {\n",
       "        text-align: right;\n",
       "    }\n",
       "</style>\n",
       "<table border=\"1\" class=\"dataframe\">\n",
       "  <thead>\n",
       "    <tr style=\"text-align: right;\">\n",
       "      <th></th>\n",
       "      <th>msisdn</th>\n",
       "      <th>mother_system</th>\n",
       "      <th>af_partition_date</th>\n",
       "      <th>appsflyer_id</th>\n",
       "      <th>af_adset</th>\n",
       "      <th>campaign</th>\n",
       "      <th>event_name</th>\n",
       "      <th>event_time</th>\n",
       "      <th>media_source</th>\n",
       "      <th>original_url</th>\n",
       "      <th>quantity</th>\n",
       "      <th>check</th>\n",
       "    </tr>\n",
       "  </thead>\n",
       "  <tbody>\n",
       "    <tr>\n",
       "      <th>0</th>\n",
       "      <td>84901917170</td>\n",
       "      <td>VTP</td>\n",
       "      <td>20220326</td>\n",
       "      <td>1646382907280-3863150</td>\n",
       "      <td>GIAONH1_KDVTPAY_VTP_KTM</td>\n",
       "      <td>VTPOST_BH</td>\n",
       "      <td>vtm_transaction_s2s_success</td>\n",
       "      <td>2022-03-26T11:16:28.000+07:00</td>\n",
       "      <td>VTPOST</td>\n",
       "      <td>https://vtmoney.onelink.me/314y?pid=VTPOST&amp;c=V...</td>\n",
       "      <td>40</td>\n",
       "      <td>1</td>\n",
       "    </tr>\n",
       "    <tr>\n",
       "      <th>1</th>\n",
       "      <td>84901917170</td>\n",
       "      <td>VTP</td>\n",
       "      <td>20220304</td>\n",
       "      <td>1646382907280-3863150</td>\n",
       "      <td>GIAONH1_KDVTPAY_VTP_KTM</td>\n",
       "      <td>VTPOST_BH</td>\n",
       "      <td>qr_start</td>\n",
       "      <td>2022-03-04T19:47:18.000+07:00</td>\n",
       "      <td>VTPOST</td>\n",
       "      <td>https://vtmoney.onelink.me/314y?pid=VTPOST&amp;c=V...</td>\n",
       "      <td>49</td>\n",
       "      <td>0</td>\n",
       "    </tr>\n",
       "    <tr>\n",
       "      <th>2</th>\n",
       "      <td>84901917170</td>\n",
       "      <td>VTP</td>\n",
       "      <td>20220304</td>\n",
       "      <td>1646382907280-3863150</td>\n",
       "      <td>GIAONH1_KDVTPAY_VTP_KTM</td>\n",
       "      <td>VTPOST_BH</td>\n",
       "      <td>transfer_success</td>\n",
       "      <td>2022-03-04T19:47:40.000+07:00</td>\n",
       "      <td>VTPOST</td>\n",
       "      <td>https://vtmoney.onelink.me/314y?pid=VTPOST&amp;c=V...</td>\n",
       "      <td>14</td>\n",
       "      <td>0</td>\n",
       "    </tr>\n",
       "    <tr>\n",
       "      <th>3</th>\n",
       "      <td>84901917170</td>\n",
       "      <td>VTP</td>\n",
       "      <td>20220304</td>\n",
       "      <td>1646382907280-3863150</td>\n",
       "      <td>GIAONH1_KDVTPAY_VTP_KTM</td>\n",
       "      <td>VTPOST_BH</td>\n",
       "      <td>login_success</td>\n",
       "      <td>2022-03-04T19:47:12.000+07:00</td>\n",
       "      <td>VTPOST</td>\n",
       "      <td>https://vtmoney.onelink.me/314y?pid=VTPOST&amp;c=V...</td>\n",
       "      <td>94</td>\n",
       "      <td>0</td>\n",
       "    </tr>\n",
       "    <tr>\n",
       "      <th>4</th>\n",
       "      <td>84901917170</td>\n",
       "      <td>VTP</td>\n",
       "      <td>20220304</td>\n",
       "      <td>1646382907280-3863150</td>\n",
       "      <td>GIAONH1_KDVTPAY_VTP_KTM</td>\n",
       "      <td>VTPOST_BH</td>\n",
       "      <td>click_tab_bar_screen_home</td>\n",
       "      <td>2022-03-04T19:47:17.000+07:00</td>\n",
       "      <td>VTPOST</td>\n",
       "      <td>https://vtmoney.onelink.me/314y?pid=VTPOST&amp;c=V...</td>\n",
       "      <td>4</td>\n",
       "      <td>0</td>\n",
       "    </tr>\n",
       "    <tr>\n",
       "      <th>5</th>\n",
       "      <td>84901917170</td>\n",
       "      <td>VTP</td>\n",
       "      <td>20220304</td>\n",
       "      <td>1646382907280-3863150</td>\n",
       "      <td>GIAONH1_KDVTPAY_VTP_KTM</td>\n",
       "      <td>VTPOST_BH</td>\n",
       "      <td>login_success</td>\n",
       "      <td>2022-03-04T19:47:12.000+07:00</td>\n",
       "      <td>VTPOST</td>\n",
       "      <td>https://vtmoney.onelink.me/314y?pid=VTPOST&amp;c=V...</td>\n",
       "      <td>97</td>\n",
       "      <td>0</td>\n",
       "    </tr>\n",
       "    <tr>\n",
       "      <th>6</th>\n",
       "      <td>84901917170</td>\n",
       "      <td>VTP</td>\n",
       "      <td>20220304</td>\n",
       "      <td>1646382907280-3863150</td>\n",
       "      <td>GIAONH1_KDVTPAY_VTP_KTM</td>\n",
       "      <td>VTPOST_BH</td>\n",
       "      <td>transfer_success</td>\n",
       "      <td>2022-03-04T20:41:39.000+07:00</td>\n",
       "      <td>VTPOST</td>\n",
       "      <td>https://vtmoney.onelink.me/314y?pid=VTPOST&amp;c=V...</td>\n",
       "      <td>76</td>\n",
       "      <td>0</td>\n",
       "    </tr>\n",
       "    <tr>\n",
       "      <th>7</th>\n",
       "      <td>84901917170</td>\n",
       "      <td>VTP</td>\n",
       "      <td>20220304</td>\n",
       "      <td>1646382907280-3863150</td>\n",
       "      <td>GIAONH1_KDVTPAY_VTP_KTM</td>\n",
       "      <td>VTPOST_BH</td>\n",
       "      <td>login_start</td>\n",
       "      <td>2022-03-04T20:40:56.000+07:00</td>\n",
       "      <td>VTPOST</td>\n",
       "      <td>https://vtmoney.onelink.me/314y?pid=VTPOST&amp;c=V...</td>\n",
       "      <td>20</td>\n",
       "      <td>1</td>\n",
       "    </tr>\n",
       "    <tr>\n",
       "      <th>8</th>\n",
       "      <td>84901917170</td>\n",
       "      <td>VTP</td>\n",
       "      <td>20220304</td>\n",
       "      <td>1646382907280-3863150</td>\n",
       "      <td>GIAONH1_KDVTPAY_VTP_KTM</td>\n",
       "      <td>VTPOST_BH</td>\n",
       "      <td>login_success</td>\n",
       "      <td>2022-03-04T20:41:03.000+07:00</td>\n",
       "      <td>VTPOST</td>\n",
       "      <td>https://vtmoney.onelink.me/314y?pid=VTPOST&amp;c=V...</td>\n",
       "      <td>46</td>\n",
       "      <td>0</td>\n",
       "    </tr>\n",
       "    <tr>\n",
       "      <th>9</th>\n",
       "      <td>84901917170</td>\n",
       "      <td>VTP</td>\n",
       "      <td>20220304</td>\n",
       "      <td>1646382907280-3863150</td>\n",
       "      <td>GIAONH1_KDVTPAY_VTP_KTM</td>\n",
       "      <td>VTPOST_BH</td>\n",
       "      <td>transfer_success</td>\n",
       "      <td>2022-03-04T20:41:56.000+07:00</td>\n",
       "      <td>VTPOST</td>\n",
       "      <td>https://vtmoney.onelink.me/314y?pid=VTPOST&amp;c=V...</td>\n",
       "      <td>55</td>\n",
       "      <td>0</td>\n",
       "    </tr>\n",
       "  </tbody>\n",
       "</table>\n",
       "</div>"
      ],
      "text/plain": [
       "        msisdn mother_system  af_partition_date           appsflyer_id  \\\n",
       "0  84901917170           VTP           20220326  1646382907280-3863150   \n",
       "1  84901917170           VTP           20220304  1646382907280-3863150   \n",
       "2  84901917170           VTP           20220304  1646382907280-3863150   \n",
       "3  84901917170           VTP           20220304  1646382907280-3863150   \n",
       "4  84901917170           VTP           20220304  1646382907280-3863150   \n",
       "5  84901917170           VTP           20220304  1646382907280-3863150   \n",
       "6  84901917170           VTP           20220304  1646382907280-3863150   \n",
       "7  84901917170           VTP           20220304  1646382907280-3863150   \n",
       "8  84901917170           VTP           20220304  1646382907280-3863150   \n",
       "9  84901917170           VTP           20220304  1646382907280-3863150   \n",
       "\n",
       "                  af_adset   campaign                   event_name  \\\n",
       "0  GIAONH1_KDVTPAY_VTP_KTM  VTPOST_BH  vtm_transaction_s2s_success   \n",
       "1  GIAONH1_KDVTPAY_VTP_KTM  VTPOST_BH                     qr_start   \n",
       "2  GIAONH1_KDVTPAY_VTP_KTM  VTPOST_BH             transfer_success   \n",
       "3  GIAONH1_KDVTPAY_VTP_KTM  VTPOST_BH                login_success   \n",
       "4  GIAONH1_KDVTPAY_VTP_KTM  VTPOST_BH    click_tab_bar_screen_home   \n",
       "5  GIAONH1_KDVTPAY_VTP_KTM  VTPOST_BH                login_success   \n",
       "6  GIAONH1_KDVTPAY_VTP_KTM  VTPOST_BH             transfer_success   \n",
       "7  GIAONH1_KDVTPAY_VTP_KTM  VTPOST_BH                  login_start   \n",
       "8  GIAONH1_KDVTPAY_VTP_KTM  VTPOST_BH                login_success   \n",
       "9  GIAONH1_KDVTPAY_VTP_KTM  VTPOST_BH             transfer_success   \n",
       "\n",
       "                      event_time media_source  \\\n",
       "0  2022-03-26T11:16:28.000+07:00       VTPOST   \n",
       "1  2022-03-04T19:47:18.000+07:00       VTPOST   \n",
       "2  2022-03-04T19:47:40.000+07:00       VTPOST   \n",
       "3  2022-03-04T19:47:12.000+07:00       VTPOST   \n",
       "4  2022-03-04T19:47:17.000+07:00       VTPOST   \n",
       "5  2022-03-04T19:47:12.000+07:00       VTPOST   \n",
       "6  2022-03-04T20:41:39.000+07:00       VTPOST   \n",
       "7  2022-03-04T20:40:56.000+07:00       VTPOST   \n",
       "8  2022-03-04T20:41:03.000+07:00       VTPOST   \n",
       "9  2022-03-04T20:41:56.000+07:00       VTPOST   \n",
       "\n",
       "                                        original_url  quantity  check  \n",
       "0  https://vtmoney.onelink.me/314y?pid=VTPOST&c=V...        40      1  \n",
       "1  https://vtmoney.onelink.me/314y?pid=VTPOST&c=V...        49      0  \n",
       "2  https://vtmoney.onelink.me/314y?pid=VTPOST&c=V...        14      0  \n",
       "3  https://vtmoney.onelink.me/314y?pid=VTPOST&c=V...        94      0  \n",
       "4  https://vtmoney.onelink.me/314y?pid=VTPOST&c=V...         4      0  \n",
       "5  https://vtmoney.onelink.me/314y?pid=VTPOST&c=V...        97      0  \n",
       "6  https://vtmoney.onelink.me/314y?pid=VTPOST&c=V...        76      0  \n",
       "7  https://vtmoney.onelink.me/314y?pid=VTPOST&c=V...        20      1  \n",
       "8  https://vtmoney.onelink.me/314y?pid=VTPOST&c=V...        46      0  \n",
       "9  https://vtmoney.onelink.me/314y?pid=VTPOST&c=V...        55      0  "
      ]
     },
     "execution_count": 108,
     "metadata": {},
     "output_type": "execute_result"
    }
   ],
   "source": [
    "\"\"\"Convert msisdn column from float to str\n",
    "\"\"\"\n",
    "df_dataset['msisdn'] = df_dataset['msisdn'].astype(np.float).astype('Int64').astype(str)\n",
    "df_dataset.head(n=10)"
   ]
  },
  {
   "cell_type": "code",
   "execution_count": 109,
   "metadata": {
    "collapsed": false,
    "pycharm": {
     "name": "#%%\n"
    }
   },
   "outputs": [
    {
     "data": {
      "text/html": [
       "<div>\n",
       "<style scoped>\n",
       "    .dataframe tbody tr th:only-of-type {\n",
       "        vertical-align: middle;\n",
       "    }\n",
       "\n",
       "    .dataframe tbody tr th {\n",
       "        vertical-align: top;\n",
       "    }\n",
       "\n",
       "    .dataframe thead th {\n",
       "        text-align: right;\n",
       "    }\n",
       "</style>\n",
       "<table border=\"1\" class=\"dataframe\">\n",
       "  <thead>\n",
       "    <tr style=\"text-align: right;\">\n",
       "      <th></th>\n",
       "      <th>msisdn</th>\n",
       "      <th>mother_system</th>\n",
       "      <th>appsflyer_id</th>\n",
       "      <th>af_adset</th>\n",
       "      <th>campaign</th>\n",
       "      <th>event_name</th>\n",
       "      <th>event_time</th>\n",
       "      <th>media_source</th>\n",
       "      <th>original_url</th>\n",
       "    </tr>\n",
       "  </thead>\n",
       "  <tbody>\n",
       "    <tr>\n",
       "      <th>0</th>\n",
       "      <td>84901917170</td>\n",
       "      <td>VTP</td>\n",
       "      <td>1646382907280-3863150</td>\n",
       "      <td>GIAONH1_KDVTPAY_VTP_KTM</td>\n",
       "      <td>VTPOST_BH</td>\n",
       "      <td>vtm_transaction_s2s_success</td>\n",
       "      <td>2022-03-26T11:16:28.000+07:00</td>\n",
       "      <td>VTPOST</td>\n",
       "      <td>https://vtmoney.onelink.me/314y?pid=VTPOST&amp;c=V...</td>\n",
       "    </tr>\n",
       "    <tr>\n",
       "      <th>1</th>\n",
       "      <td>84901917170</td>\n",
       "      <td>VTP</td>\n",
       "      <td>1646382907280-3863150</td>\n",
       "      <td>GIAONH1_KDVTPAY_VTP_KTM</td>\n",
       "      <td>VTPOST_BH</td>\n",
       "      <td>qr_start</td>\n",
       "      <td>2022-03-04T19:47:18.000+07:00</td>\n",
       "      <td>VTPOST</td>\n",
       "      <td>https://vtmoney.onelink.me/314y?pid=VTPOST&amp;c=V...</td>\n",
       "    </tr>\n",
       "    <tr>\n",
       "      <th>2</th>\n",
       "      <td>84901917170</td>\n",
       "      <td>VTP</td>\n",
       "      <td>1646382907280-3863150</td>\n",
       "      <td>GIAONH1_KDVTPAY_VTP_KTM</td>\n",
       "      <td>VTPOST_BH</td>\n",
       "      <td>transfer_success</td>\n",
       "      <td>2022-03-04T19:47:40.000+07:00</td>\n",
       "      <td>VTPOST</td>\n",
       "      <td>https://vtmoney.onelink.me/314y?pid=VTPOST&amp;c=V...</td>\n",
       "    </tr>\n",
       "    <tr>\n",
       "      <th>3</th>\n",
       "      <td>84901917170</td>\n",
       "      <td>VTP</td>\n",
       "      <td>1646382907280-3863150</td>\n",
       "      <td>GIAONH1_KDVTPAY_VTP_KTM</td>\n",
       "      <td>VTPOST_BH</td>\n",
       "      <td>login_success</td>\n",
       "      <td>2022-03-04T19:47:12.000+07:00</td>\n",
       "      <td>VTPOST</td>\n",
       "      <td>https://vtmoney.onelink.me/314y?pid=VTPOST&amp;c=V...</td>\n",
       "    </tr>\n",
       "    <tr>\n",
       "      <th>4</th>\n",
       "      <td>84901917170</td>\n",
       "      <td>VTP</td>\n",
       "      <td>1646382907280-3863150</td>\n",
       "      <td>GIAONH1_KDVTPAY_VTP_KTM</td>\n",
       "      <td>VTPOST_BH</td>\n",
       "      <td>click_tab_bar_screen_home</td>\n",
       "      <td>2022-03-04T19:47:17.000+07:00</td>\n",
       "      <td>VTPOST</td>\n",
       "      <td>https://vtmoney.onelink.me/314y?pid=VTPOST&amp;c=V...</td>\n",
       "    </tr>\n",
       "    <tr>\n",
       "      <th>5</th>\n",
       "      <td>84901917170</td>\n",
       "      <td>VTP</td>\n",
       "      <td>1646382907280-3863150</td>\n",
       "      <td>GIAONH1_KDVTPAY_VTP_KTM</td>\n",
       "      <td>VTPOST_BH</td>\n",
       "      <td>login_success</td>\n",
       "      <td>2022-03-04T19:47:12.000+07:00</td>\n",
       "      <td>VTPOST</td>\n",
       "      <td>https://vtmoney.onelink.me/314y?pid=VTPOST&amp;c=V...</td>\n",
       "    </tr>\n",
       "    <tr>\n",
       "      <th>6</th>\n",
       "      <td>84901917170</td>\n",
       "      <td>VTP</td>\n",
       "      <td>1646382907280-3863150</td>\n",
       "      <td>GIAONH1_KDVTPAY_VTP_KTM</td>\n",
       "      <td>VTPOST_BH</td>\n",
       "      <td>transfer_success</td>\n",
       "      <td>2022-03-04T20:41:39.000+07:00</td>\n",
       "      <td>VTPOST</td>\n",
       "      <td>https://vtmoney.onelink.me/314y?pid=VTPOST&amp;c=V...</td>\n",
       "    </tr>\n",
       "    <tr>\n",
       "      <th>7</th>\n",
       "      <td>84901917170</td>\n",
       "      <td>VTP</td>\n",
       "      <td>1646382907280-3863150</td>\n",
       "      <td>GIAONH1_KDVTPAY_VTP_KTM</td>\n",
       "      <td>VTPOST_BH</td>\n",
       "      <td>login_start</td>\n",
       "      <td>2022-03-04T20:40:56.000+07:00</td>\n",
       "      <td>VTPOST</td>\n",
       "      <td>https://vtmoney.onelink.me/314y?pid=VTPOST&amp;c=V...</td>\n",
       "    </tr>\n",
       "    <tr>\n",
       "      <th>8</th>\n",
       "      <td>84901917170</td>\n",
       "      <td>VTP</td>\n",
       "      <td>1646382907280-3863150</td>\n",
       "      <td>GIAONH1_KDVTPAY_VTP_KTM</td>\n",
       "      <td>VTPOST_BH</td>\n",
       "      <td>login_success</td>\n",
       "      <td>2022-03-04T20:41:03.000+07:00</td>\n",
       "      <td>VTPOST</td>\n",
       "      <td>https://vtmoney.onelink.me/314y?pid=VTPOST&amp;c=V...</td>\n",
       "    </tr>\n",
       "    <tr>\n",
       "      <th>9</th>\n",
       "      <td>84901917170</td>\n",
       "      <td>VTP</td>\n",
       "      <td>1646382907280-3863150</td>\n",
       "      <td>GIAONH1_KDVTPAY_VTP_KTM</td>\n",
       "      <td>VTPOST_BH</td>\n",
       "      <td>transfer_success</td>\n",
       "      <td>2022-03-04T20:41:56.000+07:00</td>\n",
       "      <td>VTPOST</td>\n",
       "      <td>https://vtmoney.onelink.me/314y?pid=VTPOST&amp;c=V...</td>\n",
       "    </tr>\n",
       "  </tbody>\n",
       "</table>\n",
       "</div>"
      ],
      "text/plain": [
       "        msisdn mother_system           appsflyer_id                 af_adset  \\\n",
       "0  84901917170           VTP  1646382907280-3863150  GIAONH1_KDVTPAY_VTP_KTM   \n",
       "1  84901917170           VTP  1646382907280-3863150  GIAONH1_KDVTPAY_VTP_KTM   \n",
       "2  84901917170           VTP  1646382907280-3863150  GIAONH1_KDVTPAY_VTP_KTM   \n",
       "3  84901917170           VTP  1646382907280-3863150  GIAONH1_KDVTPAY_VTP_KTM   \n",
       "4  84901917170           VTP  1646382907280-3863150  GIAONH1_KDVTPAY_VTP_KTM   \n",
       "5  84901917170           VTP  1646382907280-3863150  GIAONH1_KDVTPAY_VTP_KTM   \n",
       "6  84901917170           VTP  1646382907280-3863150  GIAONH1_KDVTPAY_VTP_KTM   \n",
       "7  84901917170           VTP  1646382907280-3863150  GIAONH1_KDVTPAY_VTP_KTM   \n",
       "8  84901917170           VTP  1646382907280-3863150  GIAONH1_KDVTPAY_VTP_KTM   \n",
       "9  84901917170           VTP  1646382907280-3863150  GIAONH1_KDVTPAY_VTP_KTM   \n",
       "\n",
       "    campaign                   event_name                     event_time  \\\n",
       "0  VTPOST_BH  vtm_transaction_s2s_success  2022-03-26T11:16:28.000+07:00   \n",
       "1  VTPOST_BH                     qr_start  2022-03-04T19:47:18.000+07:00   \n",
       "2  VTPOST_BH             transfer_success  2022-03-04T19:47:40.000+07:00   \n",
       "3  VTPOST_BH                login_success  2022-03-04T19:47:12.000+07:00   \n",
       "4  VTPOST_BH    click_tab_bar_screen_home  2022-03-04T19:47:17.000+07:00   \n",
       "5  VTPOST_BH                login_success  2022-03-04T19:47:12.000+07:00   \n",
       "6  VTPOST_BH             transfer_success  2022-03-04T20:41:39.000+07:00   \n",
       "7  VTPOST_BH                  login_start  2022-03-04T20:40:56.000+07:00   \n",
       "8  VTPOST_BH                login_success  2022-03-04T20:41:03.000+07:00   \n",
       "9  VTPOST_BH             transfer_success  2022-03-04T20:41:56.000+07:00   \n",
       "\n",
       "  media_source                                       original_url  \n",
       "0       VTPOST  https://vtmoney.onelink.me/314y?pid=VTPOST&c=V...  \n",
       "1       VTPOST  https://vtmoney.onelink.me/314y?pid=VTPOST&c=V...  \n",
       "2       VTPOST  https://vtmoney.onelink.me/314y?pid=VTPOST&c=V...  \n",
       "3       VTPOST  https://vtmoney.onelink.me/314y?pid=VTPOST&c=V...  \n",
       "4       VTPOST  https://vtmoney.onelink.me/314y?pid=VTPOST&c=V...  \n",
       "5       VTPOST  https://vtmoney.onelink.me/314y?pid=VTPOST&c=V...  \n",
       "6       VTPOST  https://vtmoney.onelink.me/314y?pid=VTPOST&c=V...  \n",
       "7       VTPOST  https://vtmoney.onelink.me/314y?pid=VTPOST&c=V...  \n",
       "8       VTPOST  https://vtmoney.onelink.me/314y?pid=VTPOST&c=V...  \n",
       "9       VTPOST  https://vtmoney.onelink.me/314y?pid=VTPOST&c=V...  "
      ]
     },
     "execution_count": 109,
     "metadata": {},
     "output_type": "execute_result"
    }
   ],
   "source": [
    "df_dataset.select_dtypes(exclude='number').head(10)"
   ]
  },
  {
   "cell_type": "code",
   "execution_count": 110,
   "metadata": {
    "collapsed": false,
    "pycharm": {
     "name": "#%%\n"
    }
   },
   "outputs": [
    {
     "data": {
      "text/html": [
       "<div>\n",
       "<style scoped>\n",
       "    .dataframe tbody tr th:only-of-type {\n",
       "        vertical-align: middle;\n",
       "    }\n",
       "\n",
       "    .dataframe tbody tr th {\n",
       "        vertical-align: top;\n",
       "    }\n",
       "\n",
       "    .dataframe thead th {\n",
       "        text-align: right;\n",
       "    }\n",
       "</style>\n",
       "<table border=\"1\" class=\"dataframe\">\n",
       "  <thead>\n",
       "    <tr style=\"text-align: right;\">\n",
       "      <th></th>\n",
       "      <th>msisdn</th>\n",
       "      <th>mother_system</th>\n",
       "      <th>appsflyer_id</th>\n",
       "      <th>af_adset</th>\n",
       "      <th>campaign</th>\n",
       "      <th>event_name</th>\n",
       "      <th>event_time</th>\n",
       "      <th>media_source</th>\n",
       "      <th>original_url</th>\n",
       "    </tr>\n",
       "  </thead>\n",
       "  <tbody>\n",
       "    <tr>\n",
       "      <th>count</th>\n",
       "      <td>156517</td>\n",
       "      <td>102821</td>\n",
       "      <td>111084</td>\n",
       "      <td>155700</td>\n",
       "      <td>156429</td>\n",
       "      <td>156517</td>\n",
       "      <td>156517</td>\n",
       "      <td>156517</td>\n",
       "      <td>156265</td>\n",
       "    </tr>\n",
       "    <tr>\n",
       "      <th>unique</th>\n",
       "      <td>1014</td>\n",
       "      <td>3</td>\n",
       "      <td>1098</td>\n",
       "      <td>2050</td>\n",
       "      <td>45</td>\n",
       "      <td>83</td>\n",
       "      <td>58520</td>\n",
       "      <td>5</td>\n",
       "      <td>4644</td>\n",
       "    </tr>\n",
       "    <tr>\n",
       "      <th>top</th>\n",
       "      <td>&lt;NA&gt;</td>\n",
       "      <td>VTP</td>\n",
       "      <td>1646983415889-630724921645255252</td>\n",
       "      <td>LANHNT_NDH_HKD</td>\n",
       "      <td>vtpost_bh</td>\n",
       "      <td>click</td>\n",
       "      <td>2022-03-04T07:50:25.000+07:00</td>\n",
       "      <td>BHTT</td>\n",
       "      <td>https://vtmoney.onelink.me/314y?pid=BHTT&amp;c=vtp...</td>\n",
       "    </tr>\n",
       "    <tr>\n",
       "      <th>freq</th>\n",
       "      <td>53696</td>\n",
       "      <td>68592</td>\n",
       "      <td>13769</td>\n",
       "      <td>13869</td>\n",
       "      <td>115391</td>\n",
       "      <td>45433</td>\n",
       "      <td>720</td>\n",
       "      <td>59199</td>\n",
       "      <td>13863</td>\n",
       "    </tr>\n",
       "  </tbody>\n",
       "</table>\n",
       "</div>"
      ],
      "text/plain": [
       "        msisdn mother_system                      appsflyer_id  \\\n",
       "count   156517        102821                            111084   \n",
       "unique    1014             3                              1098   \n",
       "top       <NA>           VTP  1646983415889-630724921645255252   \n",
       "freq     53696         68592                             13769   \n",
       "\n",
       "              af_adset   campaign event_name                     event_time  \\\n",
       "count           155700     156429     156517                         156517   \n",
       "unique            2050         45         83                          58520   \n",
       "top     LANHNT_NDH_HKD  vtpost_bh      click  2022-03-04T07:50:25.000+07:00   \n",
       "freq             13869     115391      45433                            720   \n",
       "\n",
       "       media_source                                       original_url  \n",
       "count        156517                                             156265  \n",
       "unique            5                                               4644  \n",
       "top            BHTT  https://vtmoney.onelink.me/314y?pid=BHTT&c=vtp...  \n",
       "freq          59199                                              13863  "
      ]
     },
     "execution_count": 110,
     "metadata": {},
     "output_type": "execute_result"
    }
   ],
   "source": [
    "df_dataset.describe(exclude='number')"
   ]
  },
  {
   "cell_type": "code",
   "execution_count": 110,
   "metadata": {
    "collapsed": false,
    "pycharm": {
     "name": "#%%\n"
    }
   },
   "outputs": [],
   "source": []
  },
  {
   "cell_type": "markdown",
   "metadata": {
    "collapsed": false,
    "pycharm": {
     "name": "#%% md\n"
    }
   },
   "source": [
    "## 1.2 Structure of numerical features"
   ]
  },
  {
   "cell_type": "code",
   "execution_count": 111,
   "metadata": {
    "collapsed": false,
    "pycharm": {
     "name": "#%%\n"
    }
   },
   "outputs": [
    {
     "data": {
      "text/plain": [
       "pandas.core.series.Series"
      ]
     },
     "execution_count": 111,
     "metadata": {},
     "output_type": "execute_result"
    }
   ],
   "source": [
    "# For each numerical feature compute number of unique entities\n",
    "unique_values = df_dataset.select_dtypes(include='number').nunique().sort_values()\n",
    "type(unique_values)"
   ]
  },
  {
   "cell_type": "code",
   "execution_count": 112,
   "metadata": {
    "collapsed": false,
    "pycharm": {
     "name": "#%%\n"
    }
   },
   "outputs": [
    {
     "data": {
      "text/plain": [
       "check                 2\n",
       "af_partition_date    31\n",
       "quantity             99\n",
       "dtype: int64"
      ]
     },
     "execution_count": 112,
     "metadata": {},
     "output_type": "execute_result"
    }
   ],
   "source": [
    "unique_values"
   ]
  },
  {
   "cell_type": "code",
   "execution_count": 113,
   "metadata": {
    "collapsed": false,
    "pycharm": {
     "name": "#%%\n"
    }
   },
   "outputs": [
    {
     "data": {
      "text/plain": [
       "<AxesSubplot:title={'center':'Unique values per features'}>"
      ]
     },
     "execution_count": 113,
     "metadata": {},
     "output_type": "execute_result"
    },
    {
     "data": {
      "image/png": "[encoded data removed]",
      "text/plain": [
       "<Figure size 1080x288 with 1 Axes>"
      ]
     },
     "metadata": {
      "needs_background": "light"
     },
     "output_type": "display_data"
    }
   ],
   "source": [
    "unique_values.plot.bar(logy=True, figsize=(15, 4), title='Unique values per features')"
   ]
  },
  {
   "cell_type": "code",
   "execution_count": 114,
   "metadata": {
    "collapsed": false,
    "pycharm": {
     "name": "#%%\n"
    }
   },
   "outputs": [
    {
     "data": {
      "text/html": [
       "<div>\n",
       "<style scoped>\n",
       "    .dataframe tbody tr th:only-of-type {\n",
       "        vertical-align: middle;\n",
       "    }\n",
       "\n",
       "    .dataframe tbody tr th {\n",
       "        vertical-align: top;\n",
       "    }\n",
       "\n",
       "    .dataframe thead th {\n",
       "        text-align: right;\n",
       "    }\n",
       "</style>\n",
       "<table border=\"1\" class=\"dataframe\">\n",
       "  <thead>\n",
       "    <tr style=\"text-align: right;\">\n",
       "      <th></th>\n",
       "      <th>af_partition_date</th>\n",
       "      <th>quantity</th>\n",
       "      <th>check</th>\n",
       "    </tr>\n",
       "  </thead>\n",
       "  <tbody>\n",
       "    <tr>\n",
       "      <th>count</th>\n",
       "      <td>1.565170e+05</td>\n",
       "      <td>156517.000000</td>\n",
       "      <td>156517.000000</td>\n",
       "    </tr>\n",
       "    <tr>\n",
       "      <th>mean</th>\n",
       "      <td>2.022032e+07</td>\n",
       "      <td>49.915236</td>\n",
       "      <td>0.497211</td>\n",
       "    </tr>\n",
       "    <tr>\n",
       "      <th>std</th>\n",
       "      <td>6.387248e+00</td>\n",
       "      <td>28.541768</td>\n",
       "      <td>0.499994</td>\n",
       "    </tr>\n",
       "    <tr>\n",
       "      <th>min</th>\n",
       "      <td>2.022030e+07</td>\n",
       "      <td>1.000000</td>\n",
       "      <td>0.000000</td>\n",
       "    </tr>\n",
       "    <tr>\n",
       "      <th>25%</th>\n",
       "      <td>2.022031e+07</td>\n",
       "      <td>25.000000</td>\n",
       "      <td>0.000000</td>\n",
       "    </tr>\n",
       "    <tr>\n",
       "      <th>50%</th>\n",
       "      <td>2.022032e+07</td>\n",
       "      <td>50.000000</td>\n",
       "      <td>0.000000</td>\n",
       "    </tr>\n",
       "    <tr>\n",
       "      <th>75%</th>\n",
       "      <td>2.022032e+07</td>\n",
       "      <td>75.000000</td>\n",
       "      <td>1.000000</td>\n",
       "    </tr>\n",
       "    <tr>\n",
       "      <th>max</th>\n",
       "      <td>2.022033e+07</td>\n",
       "      <td>99.000000</td>\n",
       "      <td>1.000000</td>\n",
       "    </tr>\n",
       "  </tbody>\n",
       "</table>\n",
       "</div>"
      ],
      "text/plain": [
       "       af_partition_date       quantity          check\n",
       "count       1.565170e+05  156517.000000  156517.000000\n",
       "mean        2.022032e+07      49.915236       0.497211\n",
       "std         6.387248e+00      28.541768       0.499994\n",
       "min         2.022030e+07       1.000000       0.000000\n",
       "25%         2.022031e+07      25.000000       0.000000\n",
       "50%         2.022032e+07      50.000000       0.000000\n",
       "75%         2.022032e+07      75.000000       1.000000\n",
       "max         2.022033e+07      99.000000       1.000000"
      ]
     },
     "execution_count": 114,
     "metadata": {},
     "output_type": "execute_result"
    }
   ],
   "source": [
    "df_dataset.describe(include='number')"
   ]
  },
  {
   "cell_type": "markdown",
   "metadata": {
    "collapsed": false,
    "pycharm": {
     "name": "#%% md\n"
    }
   },
   "source": [
    "## 2. Quantity Investigation"
   ]
  },
  {
   "cell_type": "markdown",
   "metadata": {
    "collapsed": false,
    "pycharm": {
     "name": "#%% md\n"
    }
   },
   "source": [
    "## 2.1 Duplicates"
   ]
  },
  {
   "cell_type": "code",
   "execution_count": 115,
   "metadata": {
    "collapsed": false,
    "pycharm": {
     "name": "#%%\n"
    }
   },
   "outputs": [
    {
     "data": {
      "text/plain": [
       "13751"
      ]
     },
     "execution_count": 115,
     "metadata": {},
     "output_type": "execute_result"
    }
   ],
   "source": [
    "n_dups = df_dataset.duplicated().sum()\n",
    "n_dups"
   ]
  },
  {
   "cell_type": "code",
   "execution_count": 118,
   "metadata": {
    "collapsed": false,
    "pycharm": {
     "name": "#%%\n"
    }
   },
   "outputs": [
    {
     "data": {
      "text/plain": [
       "(156517, 12)"
      ]
     },
     "execution_count": 118,
     "metadata": {},
     "output_type": "execute_result"
    }
   ],
   "source": [
    "df_dataset.shape"
   ]
  },
  {
   "cell_type": "code",
   "execution_count": 119,
   "metadata": {
    "collapsed": false,
    "pycharm": {
     "name": "#%%\n"
    }
   },
   "outputs": [
    {
     "data": {
      "text/plain": [
       "(142766, 12)"
      ]
     },
     "execution_count": 119,
     "metadata": {},
     "output_type": "execute_result"
    }
   ],
   "source": [
    "li_cols = df_dataset.columns\n",
    "df_dataset = df_dataset.drop_duplicates(subset=li_cols)\n",
    "df_dataset.shape"
   ]
  },
  {
   "cell_type": "markdown",
   "metadata": {
    "collapsed": false,
    "pycharm": {
     "name": "#%% md\n"
    }
   },
   "source": [
    "## 2.2 Missing values"
   ]
  },
  {
   "cell_type": "code",
   "execution_count": 120,
   "metadata": {
    "collapsed": false,
    "pycharm": {
     "name": "#%%\n"
    }
   },
   "outputs": [
    {
     "data": {
      "text/plain": [
       "msisdn                   0\n",
       "mother_system        49959\n",
       "af_partition_date        0\n",
       "appsflyer_id         41698\n",
       "af_adset               744\n",
       "campaign                87\n",
       "event_name               0\n",
       "event_time               0\n",
       "media_source             0\n",
       "original_url           252\n",
       "quantity                 0\n",
       "check                    0\n",
       "dtype: int64"
      ]
     },
     "execution_count": 120,
     "metadata": {},
     "output_type": "execute_result"
    }
   ],
   "source": [
    "df_dataset.isnull().sum()"
   ]
  },
  {
   "cell_type": "markdown",
   "metadata": {
    "collapsed": false,
    "pycharm": {
     "name": "#%% md\n"
    }
   },
   "source": [
    "## 2.2.1 Per sample"
   ]
  },
  {
   "cell_type": "code",
   "execution_count": 128,
   "metadata": {
    "collapsed": false,
    "pycharm": {
     "name": "#%%\n"
    }
   },
   "outputs": [
    {
     "data": {
      "image/png": "[encoded data removed]",
      "text/plain": [
       "<Figure size 720x576 with 1 Axes>"
      ]
     },
     "metadata": {
      "needs_background": "light"
     },
     "output_type": "display_data"
    }
   ],
   "source": [
    "import matplotlib.pyplot as plt\n",
    "\n",
    "plt.figure(figsize=(10, 8))\n",
    "plt.imshow(df_dataset.isna(), aspect=\"auto\", interpolation=\"nearest\", cmap=\"gray\")\n",
    "plt.xlabel(\"Column Number\")\n",
    "plt.ylabel(\"Sample Number\");"
   ]
  },
  {
   "cell_type": "code",
   "execution_count": 129,
   "metadata": {
    "collapsed": false,
    "pycharm": {
     "name": "#%%\n"
    }
   },
   "outputs": [
    {
     "data": {
      "image/png": "[encoded data removed]",
      "text/plain": [
       "<Figure size 1800x720 with 2 Axes>"
      ]
     },
     "metadata": {
      "needs_background": "light"
     },
     "output_type": "display_data"
    }
   ],
   "source": [
    "import missingno as msno\n",
    "\n",
    "msno.matrix(df_dataset, labels=True, sort=\"descending\");"
   ]
  },
  {
   "cell_type": "markdown",
   "metadata": {
    "collapsed": false,
    "pycharm": {
     "name": "#%% md\n"
    }
   },
   "source": [
    "## 2.2.2 Per feature"
   ]
  },
  {
   "cell_type": "code",
   "execution_count": 139,
   "metadata": {
    "collapsed": false,
    "pycharm": {
     "name": "#%%\n"
    }
   },
   "outputs": [
    {
     "data": {
      "text/plain": [
       "msisdn               0.000000\n",
       "mother_system        0.349936\n",
       "af_partition_date    0.000000\n",
       "appsflyer_id         0.292072\n",
       "af_adset             0.005211\n",
       "campaign             0.000609\n",
       "event_name           0.000000\n",
       "event_time           0.000000\n",
       "media_source         0.000000\n",
       "original_url         0.001765\n",
       "quantity             0.000000\n",
       "check                0.000000\n",
       "dtype: float64"
      ]
     },
     "execution_count": 139,
     "metadata": {},
     "output_type": "execute_result"
    }
   ],
   "source": [
    "df_dataset.isna().mean()"
   ]
  },
  {
   "cell_type": "code",
   "execution_count": 138,
   "metadata": {
    "collapsed": false,
    "pycharm": {
     "name": "#%%\n"
    }
   },
   "outputs": [
    {
     "data": {
      "text/plain": [
       "<AxesSubplot:title={'center':'Percentage of missing values per feature'}, ylabel='Ratio of missing values per feature'>"
      ]
     },
     "execution_count": 138,
     "metadata": {},
     "output_type": "execute_result"
    },
    {
     "data": {
      "image/png": "[encoded data removed]",
      "text/plain": [
       "<Figure size 1080x288 with 1 Axes>"
      ]
     },
     "metadata": {
      "needs_background": "light"
     },
     "output_type": "display_data"
    }
   ],
   "source": [
    "df_dataset.isna().mean().sort_values().plot(\n",
    "    kind=\"bar\", figsize=(15, 4),\n",
    "    title=\"Percentage of missing values per feature\",\n",
    "    ylabel=\"Ratio of missing values per feature\")"
   ]
  },
  {
   "cell_type": "markdown",
   "metadata": {
    "collapsed": false,
    "pycharm": {
     "name": "#%% md\n"
    }
   },
   "source": [
    "## 2.3.1 Numerical features"
   ]
  },
  {
   "cell_type": "markdown",
   "metadata": {
    "collapsed": false,
    "pycharm": {
     "name": "#%% md\n"
    }
   },
   "source": [
    "To plot this global view of the dataset, at least for the numerical features, you can use pandas' .plot() function and combine it with the following parameters:\n",
    "\n",
    "- lw=0: lw stands for line width. 0 means that we don't want to show any lines\n",
    "- marker=\".\": Instead of lines, we tell the plot to use . as markers for each data point\n",
    "- subplots=True: subplots tells pandas to plot each feature in a separate subplot\n",
    "- layout=(-1, 4): This parameter tells pandas how many rows and columns to use for the subplots. The -1 means \"as many as needed\", while the 2 means to use 2 columns per row.\n",
    "- figsize=(15, 30), markersize=1: To make sure that the figure is big enough we recommend to have a figure height of roughly the number of features, and to adjust the markersize accordingly."
   ]
  },
  {
   "cell_type": "code",
   "execution_count": 141,
   "metadata": {
    "collapsed": false,
    "pycharm": {
     "name": "#%%\n"
    }
   },
   "outputs": [
    {
     "data": {
      "image/png": "[encoded data removed]",
      "text/plain": [
       "<Figure size 1080x2160 with 4 Axes>"
      ]
     },
     "metadata": {
      "needs_background": "light"
     },
     "output_type": "display_data"
    }
   ],
   "source": [
    "df_dataset.plot(lw=0,\n",
    "                marker=\".\",\n",
    "                subplots=True,\n",
    "                layout=(-1, 4),\n",
    "                figsize=(15, 30),\n",
    "                markersize=1);"
   ]
  },
  {
   "cell_type": "markdown",
   "metadata": {
    "collapsed": false,
    "pycharm": {
     "name": "#%% md\n"
    }
   },
   "source": [
    "## 2.3.3 Non-numerical features"
   ]
  },
  {
   "cell_type": "code",
   "execution_count": 143,
   "metadata": {
    "collapsed": false,
    "pycharm": {
     "name": "#%%\n"
    }
   },
   "outputs": [
    {
     "data": {
      "text/html": [
       "<div>\n",
       "<style scoped>\n",
       "    .dataframe tbody tr th:only-of-type {\n",
       "        vertical-align: middle;\n",
       "    }\n",
       "\n",
       "    .dataframe tbody tr th {\n",
       "        vertical-align: top;\n",
       "    }\n",
       "\n",
       "    .dataframe thead th {\n",
       "        text-align: right;\n",
       "    }\n",
       "</style>\n",
       "<table border=\"1\" class=\"dataframe\">\n",
       "  <thead>\n",
       "    <tr style=\"text-align: right;\">\n",
       "      <th></th>\n",
       "      <th>msisdn</th>\n",
       "      <th>mother_system</th>\n",
       "      <th>appsflyer_id</th>\n",
       "      <th>af_adset</th>\n",
       "      <th>campaign</th>\n",
       "      <th>event_name</th>\n",
       "      <th>event_time</th>\n",
       "      <th>media_source</th>\n",
       "      <th>original_url</th>\n",
       "    </tr>\n",
       "  </thead>\n",
       "  <tbody>\n",
       "    <tr>\n",
       "      <th>count</th>\n",
       "      <td>142766</td>\n",
       "      <td>92807</td>\n",
       "      <td>101068</td>\n",
       "      <td>142022</td>\n",
       "      <td>142679</td>\n",
       "      <td>142766</td>\n",
       "      <td>142766</td>\n",
       "      <td>142766</td>\n",
       "      <td>142514</td>\n",
       "    </tr>\n",
       "    <tr>\n",
       "      <th>unique</th>\n",
       "      <td>1014</td>\n",
       "      <td>3</td>\n",
       "      <td>1098</td>\n",
       "      <td>2050</td>\n",
       "      <td>45</td>\n",
       "      <td>83</td>\n",
       "      <td>58520</td>\n",
       "      <td>5</td>\n",
       "      <td>4644</td>\n",
       "    </tr>\n",
       "    <tr>\n",
       "      <th>top</th>\n",
       "      <td>&lt;NA&gt;</td>\n",
       "      <td>VTP</td>\n",
       "      <td>1646983415889-630724921645255252</td>\n",
       "      <td>LANHNT_NDH_HKD</td>\n",
       "      <td>vtpost_bh</td>\n",
       "      <td>click</td>\n",
       "      <td>2022-03-19T22:02:53.000+07:00</td>\n",
       "      <td>BHTT</td>\n",
       "      <td>https://vtmoney.onelink.me/314y?pid=BHTT&amp;c=vtp...</td>\n",
       "    </tr>\n",
       "    <tr>\n",
       "      <th>freq</th>\n",
       "      <td>49959</td>\n",
       "      <td>61553</td>\n",
       "      <td>11276</td>\n",
       "      <td>11376</td>\n",
       "      <td>104387</td>\n",
       "      <td>41698</td>\n",
       "      <td>209</td>\n",
       "      <td>51802</td>\n",
       "      <td>11370</td>\n",
       "    </tr>\n",
       "  </tbody>\n",
       "</table>\n",
       "</div>"
      ],
      "text/plain": [
       "        msisdn mother_system                      appsflyer_id  \\\n",
       "count   142766         92807                            101068   \n",
       "unique    1014             3                              1098   \n",
       "top       <NA>           VTP  1646983415889-630724921645255252   \n",
       "freq     49959         61553                             11276   \n",
       "\n",
       "              af_adset   campaign event_name                     event_time  \\\n",
       "count           142022     142679     142766                         142766   \n",
       "unique            2050         45         83                          58520   \n",
       "top     LANHNT_NDH_HKD  vtpost_bh      click  2022-03-19T22:02:53.000+07:00   \n",
       "freq             11376     104387      41698                            209   \n",
       "\n",
       "       media_source                                       original_url  \n",
       "count        142766                                             142514  \n",
       "unique            5                                               4644  \n",
       "top            BHTT  https://vtmoney.onelink.me/314y?pid=BHTT&c=vtp...  \n",
       "freq          51802                                              11370  "
      ]
     },
     "execution_count": 143,
     "metadata": {},
     "output_type": "execute_result"
    }
   ],
   "source": [
    "# Extract descriptive properties of non-numerical features\n",
    "df_dataset.describe(exclude=[\"number\", \"datetime\"])"
   ]
  },
  {
   "cell_type": "code",
   "execution_count": 144,
   "metadata": {
    "collapsed": false,
    "pycharm": {
     "name": "#%%\n"
    }
   },
   "outputs": [
    {
     "data": {
      "image/png": "[encoded data removed]",
      "text/plain": [
       "<Figure size 864x576 with 3 Axes>"
      ]
     },
     "metadata": {
      "needs_background": "light"
     },
     "output_type": "display_data"
    }
   ],
   "source": [
    "# Create figure object with 3 subplots\n",
    "fig, axes = plt.subplots(ncols=1, nrows=3, figsize=(12, 8))\n",
    "\n",
    "# Identify non-numerical features\n",
    "df_non_numerical = df_dataset.select_dtypes(exclude=[\"number\", \"datetime\"])\n",
    "\n",
    "# Loop through features and put each subplot on a matplotlib axis object\n",
    "for col, ax in zip(df_non_numerical.columns, axes.ravel()):\n",
    "\n",
    "    # Selects one single feature and counts number of occurrences per unique value\n",
    "    df_non_numerical[col].value_counts().plot(\n",
    "\n",
    "        # Plots this information in a figure with log-scaled y-axis\n",
    "        logy=True, title=col, lw=0, marker=\".\", ax=ax)\n",
    "\n",
    "plt.tight_layout();"
   ]
  },
  {
   "cell_type": "code",
   "execution_count": null,
   "metadata": {
    "collapsed": false,
    "pycharm": {
     "name": "#%%\n"
    }
   },
   "outputs": [],
   "source": []
  },
  {
   "cell_type": "markdown",
   "metadata": {
    "collapsed": false,
    "pycharm": {
     "name": "#%% md\n"
    }
   },
   "source": [
    "## 3. Content Investigation"
   ]
  },
  {
   "cell_type": "markdown",
   "metadata": {
    "collapsed": false,
    "pycharm": {
     "name": "#%% md\n"
    }
   },
   "source": [
    "## 3.1 Feature distribution"
   ]
  },
  {
   "cell_type": "code",
   "execution_count": 151,
   "metadata": {
    "collapsed": false,
    "pycharm": {
     "name": "#%%\n"
    }
   },
   "outputs": [
    {
     "data": {
      "image/png": "[encoded data removed]",
      "text/plain": [
       "<Figure size 2160x720 with 3 Axes>"
      ]
     },
     "metadata": {
      "needs_background": "light"
     },
     "output_type": "display_data"
    }
   ],
   "source": [
    "# Plots the histogram for each numerical feature in a separate subplot\n",
    "df_dataset.hist(bins=25, figsize=(30, 10), layout=(-1, 3), edgecolor=\"black\")\n",
    "plt.tight_layout();"
   ]
  },
  {
   "cell_type": "code",
   "execution_count": 154,
   "metadata": {
    "collapsed": false,
    "pycharm": {
     "name": "#%%\n"
    }
   },
   "outputs": [
    {
     "data": {
      "text/html": [
       "<div>\n",
       "<style scoped>\n",
       "    .dataframe tbody tr th:only-of-type {\n",
       "        vertical-align: middle;\n",
       "    }\n",
       "\n",
       "    .dataframe tbody tr th {\n",
       "        vertical-align: top;\n",
       "    }\n",
       "\n",
       "    .dataframe thead th {\n",
       "        text-align: right;\n",
       "    }\n",
       "</style>\n",
       "<table border=\"1\" class=\"dataframe\">\n",
       "  <thead>\n",
       "    <tr style=\"text-align: right;\">\n",
       "      <th></th>\n",
       "      <th>msisdn</th>\n",
       "      <th>mother_system</th>\n",
       "      <th>af_partition_date</th>\n",
       "      <th>appsflyer_id</th>\n",
       "      <th>af_adset</th>\n",
       "      <th>campaign</th>\n",
       "      <th>event_name</th>\n",
       "      <th>event_time</th>\n",
       "      <th>media_source</th>\n",
       "      <th>original_url</th>\n",
       "      <th>quantity</th>\n",
       "      <th>check</th>\n",
       "    </tr>\n",
       "  </thead>\n",
       "  <tbody>\n",
       "    <tr>\n",
       "      <th>0</th>\n",
       "      <td>&lt;NA&gt;</td>\n",
       "      <td>VTP</td>\n",
       "      <td>20220319</td>\n",
       "      <td>1646983415889-630724921645255252</td>\n",
       "      <td>LANHNT_NDH_HKD</td>\n",
       "      <td>vtpost_bh</td>\n",
       "      <td>click</td>\n",
       "      <td>2022-03-19T22:02:53.000+07:00</td>\n",
       "      <td>BHTT</td>\n",
       "      <td>https://vtmoney.onelink.me/314y?pid=BHTT&amp;c=vtp...</td>\n",
       "      <td>41</td>\n",
       "      <td>0</td>\n",
       "    </tr>\n",
       "  </tbody>\n",
       "</table>\n",
       "</div>"
      ],
      "text/plain": [
       "  msisdn mother_system  af_partition_date                      appsflyer_id  \\\n",
       "0   <NA>           VTP           20220319  1646983415889-630724921645255252   \n",
       "\n",
       "         af_adset   campaign event_name                     event_time  \\\n",
       "0  LANHNT_NDH_HKD  vtpost_bh      click  2022-03-19T22:02:53.000+07:00   \n",
       "\n",
       "  media_source                                       original_url  quantity  \\\n",
       "0         BHTT  https://vtmoney.onelink.me/314y?pid=BHTT&c=vtp...        41   \n",
       "\n",
       "   check  \n",
       "0      0  "
      ]
     },
     "execution_count": 154,
     "metadata": {},
     "output_type": "execute_result"
    }
   ],
   "source": [
    "# Collects for each feature the most frequent entry\n",
    "most_frequent_entry = df_dataset.mode()\n",
    "most_frequent_entry"
   ]
  },
  {
   "cell_type": "code",
   "execution_count": 155,
   "metadata": {
    "collapsed": false,
    "pycharm": {
     "name": "#%%\n"
    }
   },
   "outputs": [
    {
     "data": {
      "text/plain": [
       "campaign         0.731175\n",
       "check            0.502262\n",
       "mother_system    0.431146\n",
       "media_source     0.362845\n",
       "msisdn           0.349936\n",
       "dtype: float64"
      ]
     },
     "metadata": {},
     "output_type": "display_data"
    },
    {
     "data": {
      "image/png": "[encoded data removed]",
      "text/plain": [
       "<Figure size 1080x288 with 1 Axes>"
      ]
     },
     "metadata": {
      "needs_background": "light"
     },
     "output_type": "display_data"
    }
   ],
   "source": [
    "# Checks for each entry if it contains the most frequent entry\n",
    "df_freq = df_dataset.eq(most_frequent_entry.values, axis=1)\n",
    "\n",
    "# Computes the mean of the 'is_most_frequent' occurrence\n",
    "df_freq = df_freq.mean().sort_values(ascending=False)\n",
    "\n",
    "# Show the 5 top features with the highest ratio of singular value content\n",
    "display(df_freq.head())\n",
    "\n",
    "# Visualize the 'df_freq' table\n",
    "df_freq.plot.bar(figsize=(15, 4));"
   ]
  },
  {
   "cell_type": "markdown",
   "metadata": {
    "collapsed": false,
    "pycharm": {
     "name": "#%% md\n"
    }
   },
   "source": [
    "## 3.2. Feature patterns"
   ]
  },
  {
   "cell_type": "markdown",
   "metadata": {
    "collapsed": false,
    "pycharm": {
     "name": "#%% md\n"
    }
   },
   "source": [
    "## 3.2.1 Continuous features"
   ]
  },
  {
   "cell_type": "code",
   "execution_count": 158,
   "metadata": {
    "collapsed": false,
    "pycharm": {
     "name": "#%%\n"
    }
   },
   "outputs": [
    {
     "data": {
      "text/plain": [
       "af_partition_date     True\n",
       "quantity              True\n",
       "check                False\n",
       "dtype: bool"
      ]
     },
     "execution_count": 158,
     "metadata": {},
     "output_type": "execute_result"
    }
   ],
   "source": [
    "# Creates mask to identify numerical features with more or less than 25 unique features\n",
    "cols_continuous = df_dataset.select_dtypes(include=\"number\").nunique() >= 25\n",
    "cols_continuous"
   ]
  },
  {
   "cell_type": "code",
   "execution_count": 160,
   "metadata": {
    "collapsed": false,
    "pycharm": {
     "name": "#%%\n"
    }
   },
   "outputs": [
    {
     "data": {
      "text/plain": [
       "(142766, 2)"
      ]
     },
     "execution_count": 160,
     "metadata": {},
     "output_type": "execute_result"
    }
   ],
   "source": [
    "# Create a new dataframe which only contains the continuous features\n",
    "df_continuous = df_dataset[cols_continuous[cols_continuous].index]\n",
    "df_continuous.shape"
   ]
  },
  {
   "cell_type": "code",
   "execution_count": 164,
   "metadata": {
    "collapsed": false,
    "pycharm": {
     "name": "#%%\n"
    }
   },
   "outputs": [
    {
     "data": {
      "image/png": "[encoded data removed]",
      "text/plain": [
       "<Figure size 720x720 with 6 Axes>"
      ]
     },
     "metadata": {
      "needs_background": "light"
     },
     "output_type": "display_data"
    }
   ],
   "source": [
    "import seaborn as sns\n",
    "\n",
    "sns.pairplot(df_continuous, height=5, plot_kws={\"s\": 2, \"alpha\": 0.2});"
   ]
  },
  {
   "cell_type": "markdown",
   "metadata": {
    "collapsed": false,
    "pycharm": {
     "name": "#%% md\n"
    }
   },
   "source": [
    "## 3.2.2. Discrete and ordinal feaures"
   ]
  },
  {
   "cell_type": "code",
   "execution_count": 165,
   "metadata": {
    "collapsed": false,
    "pycharm": {
     "name": "#%%\n"
    }
   },
   "outputs": [
    {
     "data": {
      "text/plain": [
       "(142766, 1)"
      ]
     },
     "execution_count": 165,
     "metadata": {},
     "output_type": "execute_result"
    }
   ],
   "source": [
    "# Create a new dataframe which doesn't contain the numerical continuous features\n",
    "df_discrete = df_dataset[cols_continuous[~cols_continuous].index]\n",
    "df_discrete.shape"
   ]
  },
  {
   "cell_type": "code",
   "execution_count": 166,
   "metadata": {
    "collapsed": false,
    "pycharm": {
     "name": "#%%\n"
    }
   },
   "outputs": [
    {
     "data": {
      "image/png": "[encoded data removed]",
      "text/plain": [
       "<Figure size 1080x180 with 5 Axes>"
      ]
     },
     "metadata": {
      "needs_background": "light"
     },
     "output_type": "display_data"
    }
   ],
   "source": [
    "import numpy as np\n",
    "\n",
    "# Establish number of columns and rows needed to plot all features\n",
    "n_cols = 5\n",
    "n_elements = len(df_discrete.columns)\n",
    "n_rows = np.ceil(n_elements / n_cols).astype(\"int\")\n",
    "\n",
    "# Specify y_value to spread data (ideally a continuous feature)\n",
    "y_value = df_dataset[\"check\"]\n",
    "\n",
    "# Create figure object with as many rows and columns as needed\n",
    "fig, axes = plt.subplots(ncols=n_cols, nrows=n_rows, figsize=(15, n_rows * 2.5))\n",
    "\n",
    "# Loop through features and put each subplot on a matplotlib axis object\n",
    "for col, ax in zip(df_discrete.columns, axes.ravel()):\n",
    "    sns.stripplot(data=df_dataset, x=col, y=y_value, ax=ax, palette=\"tab10\", size=1, alpha=0.5)\n",
    "plt.tight_layout();"
   ]
  },
  {
   "cell_type": "markdown",
   "metadata": {
    "collapsed": false,
    "pycharm": {
     "name": "#%% md\n"
    }
   },
   "source": [
    "## 3.3. Features relationships"
   ]
  },
  {
   "cell_type": "code",
   "execution_count": 168,
   "metadata": {
    "collapsed": false,
    "pycharm": {
     "name": "#%%\n"
    }
   },
   "outputs": [
    {
     "data": {
      "text/html": [
       "<div>\n",
       "<style scoped>\n",
       "    .dataframe tbody tr th:only-of-type {\n",
       "        vertical-align: middle;\n",
       "    }\n",
       "\n",
       "    .dataframe tbody tr th {\n",
       "        vertical-align: top;\n",
       "    }\n",
       "\n",
       "    .dataframe thead th {\n",
       "        text-align: right;\n",
       "    }\n",
       "</style>\n",
       "<table border=\"1\" class=\"dataframe\">\n",
       "  <thead>\n",
       "    <tr style=\"text-align: right;\">\n",
       "      <th></th>\n",
       "      <th>af_partition_date</th>\n",
       "      <th>quantity</th>\n",
       "      <th>check</th>\n",
       "    </tr>\n",
       "  </thead>\n",
       "  <tbody>\n",
       "    <tr>\n",
       "      <th>af_partition_date</th>\n",
       "      <td>1.000000</td>\n",
       "      <td>0.000961</td>\n",
       "      <td>0.001443</td>\n",
       "    </tr>\n",
       "    <tr>\n",
       "      <th>quantity</th>\n",
       "      <td>0.000961</td>\n",
       "      <td>1.000000</td>\n",
       "      <td>0.000541</td>\n",
       "    </tr>\n",
       "    <tr>\n",
       "      <th>check</th>\n",
       "      <td>0.001443</td>\n",
       "      <td>0.000541</td>\n",
       "      <td>1.000000</td>\n",
       "    </tr>\n",
       "  </tbody>\n",
       "</table>\n",
       "</div>"
      ],
      "text/plain": [
       "                   af_partition_date  quantity     check\n",
       "af_partition_date           1.000000  0.000961  0.001443\n",
       "quantity                    0.000961  1.000000  0.000541\n",
       "check                       0.001443  0.000541  1.000000"
      ]
     },
     "execution_count": 168,
     "metadata": {},
     "output_type": "execute_result"
    }
   ],
   "source": [
    "# Computes feature correlation\n",
    "df_corr = df_dataset.corr(method=\"pearson\")\n",
    "df_corr"
   ]
  },
  {
   "cell_type": "code",
   "execution_count": 169,
   "metadata": {
    "collapsed": false,
    "pycharm": {
     "name": "#%%\n"
    }
   },
   "outputs": [
    {
     "data": {
      "image/png": "[encoded data removed]",
      "text/plain": [
       "<Figure size 1080x1080 with 2 Axes>"
      ]
     },
     "metadata": {
      "needs_background": "light"
     },
     "output_type": "display_data"
    }
   ],
   "source": [
    "# Create labels for the correlation matrix\n",
    "labels = np.where(np.abs(df_corr)>0.75, \"S\",\n",
    "                  np.where(np.abs(df_corr)>0.5, \"M\",\n",
    "                           np.where(np.abs(df_corr)>0.25, \"W\", \"\")))\n",
    "\n",
    "# Plot correlation matrix\n",
    "plt.figure(figsize=(15, 15))\n",
    "sns.heatmap(df_corr, mask=np.eye(len(df_corr)), square=True,\n",
    "            center=0, annot=labels, fmt='', linewidths=.5,\n",
    "            cmap=\"vlag\", cbar_kws={\"shrink\": 0.8});"
   ]
  },
  {
   "cell_type": "code",
   "execution_count": 170,
   "metadata": {
    "collapsed": false,
    "pycharm": {
     "name": "#%%\n"
    }
   },
   "outputs": [
    {
     "data": {
      "text/plain": [
       "check     quantity             0.000541\n",
       "quantity  af_partition_date    0.000961\n",
       "check     af_partition_date    0.001443\n",
       "dtype: float64"
      ]
     },
     "metadata": {},
     "output_type": "display_data"
    }
   ],
   "source": [
    "#  Creates a mask to remove the diagonal and the upper triangle.\n",
    "lower_triangle_mask = np.tril(np.ones(df_corr.shape), k=-1).astype(\"bool\")\n",
    "\n",
    "#  Stack all correlations, after applying the mask\n",
    "df_corr_stacked = df_corr.where(lower_triangle_mask).stack().sort_values()\n",
    "\n",
    "#  Showing the lowest and highest correlations in the correlation matrix\n",
    "display(df_corr_stacked)"
   ]
  },
  {
   "cell_type": "code",
   "execution_count": null,
   "metadata": {
    "collapsed": false,
    "pycharm": {
     "name": "#%%\n"
    }
   },
   "outputs": [],
   "source": []
  },
  {
   "cell_type": "code",
   "execution_count": null,
   "metadata": {
    "collapsed": false,
    "pycharm": {
     "name": "#%%\n"
    }
   },
   "outputs": [],
   "source": []
  },
  {
   "cell_type": "code",
   "execution_count": null,
   "metadata": {
    "collapsed": false,
    "pycharm": {
     "name": "#%%\n"
    }
   },
   "outputs": [],
   "source": []
  },
  {
   "cell_type": "code",
   "execution_count": null,
   "metadata": {
    "collapsed": false,
    "pycharm": {
     "name": "#%%\n"
    }
   },
   "outputs": [],
   "source": []
  }
 ],
 "metadata": {
  "kernelspec": {
   "display_name": "Python 3",
   "language": "python",
   "name": "python3"
  },
  "language_info": {
   "codemirror_mode": {
    "name": "ipython",
    "version": 3
   },
   "file_extension": ".py",
   "mimetype": "text/x-python",
   "name": "python",
   "nbconvert_exporter": "python",
   "pygments_lexer": "ipython3",
   "version": "3.11.6"
  }
 },
 "nbformat": 4,
 "nbformat_minor": 0
}
