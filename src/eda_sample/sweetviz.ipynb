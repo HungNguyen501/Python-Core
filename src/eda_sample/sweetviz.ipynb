{
 "cells": [
  {
   "cell_type": "code",
   "execution_count": 1,
   "metadata": {},
   "outputs": [
    {
     "data": {
      "text/html": [
       "\n",
       "<style>\n",
       "    * {\n",
       "        font-family: monospace;\n",
       "        font-size: 12px;\n",
       "        line-height: normal;\n",
       "    }\n",
       "</style>\n"
      ],
      "text/plain": [
       "<IPython.core.display.HTML object>"
      ]
     },
     "execution_count": 1,
     "metadata": {},
     "output_type": "execute_result"
    }
   ],
   "source": [
    "from IPython.core.display import HTML\n",
    "HTML(r\"\"\"\n",
    "<style>\n",
    "    * {\n",
    "        font-family: monospace;\n",
    "        font-size: 12px;\n",
    "        line-height: normal;\n",
    "    }\n",
    "</style>\n",
    "\"\"\")"
   ]
  },
  {
   "cell_type": "code",
   "execution_count": 1,
   "metadata": {
    "collapsed": false,
    "pycharm": {
     "name": "#%%\n"
    }
   },
   "outputs": [],
   "source": [
    "import pandas as pd\n",
    "import sweetviz"
   ]
  },
  {
   "cell_type": "code",
   "execution_count": 2,
   "metadata": {
    "collapsed": false,
    "pycharm": {
     "name": "#%%\n"
    }
   },
   "outputs": [
    {
     "data": {
      "text/html": [
       "<div>\n",
       "<style scoped>\n",
       "    .dataframe tbody tr th:only-of-type {\n",
       "        vertical-align: middle;\n",
       "    }\n",
       "\n",
       "    .dataframe tbody tr th {\n",
       "        vertical-align: top;\n",
       "    }\n",
       "\n",
       "    .dataframe thead th {\n",
       "        text-align: right;\n",
       "    }\n",
       "</style>\n",
       "<table border=\"1\" class=\"dataframe\">\n",
       "  <thead>\n",
       "    <tr style=\"text-align: right;\">\n",
       "      <th></th>\n",
       "      <th>msisdn</th>\n",
       "      <th>mother_system</th>\n",
       "      <th>af_partition_date</th>\n",
       "      <th>appsflyer_id</th>\n",
       "      <th>af_adset</th>\n",
       "      <th>campaign</th>\n",
       "      <th>event_name</th>\n",
       "      <th>event_time</th>\n",
       "      <th>media_source</th>\n",
       "      <th>original_url</th>\n",
       "      <th>quantity</th>\n",
       "      <th>check</th>\n",
       "    </tr>\n",
       "  </thead>\n",
       "  <tbody>\n",
       "    <tr>\n",
       "      <th>0</th>\n",
       "      <td>8.490192e+10</td>\n",
       "      <td>VTP</td>\n",
       "      <td>20220326</td>\n",
       "      <td>1646382907280-3863150</td>\n",
       "      <td>GIAONH1_KDVTPAY_VTP_KTM</td>\n",
       "      <td>VTPOST_BH</td>\n",
       "      <td>vtm_transaction_s2s_success</td>\n",
       "      <td>2022-03-26T11:16:28.000+07:00</td>\n",
       "      <td>VTPOST</td>\n",
       "      <td>https://vtmoney.onelink.me/314y?pid=VTPOST&amp;c=V...</td>\n",
       "      <td>40</td>\n",
       "      <td>1</td>\n",
       "    </tr>\n",
       "    <tr>\n",
       "      <th>1</th>\n",
       "      <td>8.490192e+10</td>\n",
       "      <td>VTP</td>\n",
       "      <td>20220304</td>\n",
       "      <td>1646382907280-3863150</td>\n",
       "      <td>GIAONH1_KDVTPAY_VTP_KTM</td>\n",
       "      <td>VTPOST_BH</td>\n",
       "      <td>qr_start</td>\n",
       "      <td>2022-03-04T19:47:18.000+07:00</td>\n",
       "      <td>VTPOST</td>\n",
       "      <td>https://vtmoney.onelink.me/314y?pid=VTPOST&amp;c=V...</td>\n",
       "      <td>49</td>\n",
       "      <td>0</td>\n",
       "    </tr>\n",
       "    <tr>\n",
       "      <th>2</th>\n",
       "      <td>8.490192e+10</td>\n",
       "      <td>VTP</td>\n",
       "      <td>20220304</td>\n",
       "      <td>1646382907280-3863150</td>\n",
       "      <td>GIAONH1_KDVTPAY_VTP_KTM</td>\n",
       "      <td>VTPOST_BH</td>\n",
       "      <td>transfer_success</td>\n",
       "      <td>2022-03-04T19:47:40.000+07:00</td>\n",
       "      <td>VTPOST</td>\n",
       "      <td>https://vtmoney.onelink.me/314y?pid=VTPOST&amp;c=V...</td>\n",
       "      <td>14</td>\n",
       "      <td>0</td>\n",
       "    </tr>\n",
       "    <tr>\n",
       "      <th>3</th>\n",
       "      <td>8.490192e+10</td>\n",
       "      <td>VTP</td>\n",
       "      <td>20220304</td>\n",
       "      <td>1646382907280-3863150</td>\n",
       "      <td>GIAONH1_KDVTPAY_VTP_KTM</td>\n",
       "      <td>VTPOST_BH</td>\n",
       "      <td>login_success</td>\n",
       "      <td>2022-03-04T19:47:12.000+07:00</td>\n",
       "      <td>VTPOST</td>\n",
       "      <td>https://vtmoney.onelink.me/314y?pid=VTPOST&amp;c=V...</td>\n",
       "      <td>94</td>\n",
       "      <td>0</td>\n",
       "    </tr>\n",
       "    <tr>\n",
       "      <th>4</th>\n",
       "      <td>8.490192e+10</td>\n",
       "      <td>VTP</td>\n",
       "      <td>20220304</td>\n",
       "      <td>1646382907280-3863150</td>\n",
       "      <td>GIAONH1_KDVTPAY_VTP_KTM</td>\n",
       "      <td>VTPOST_BH</td>\n",
       "      <td>click_tab_bar_screen_home</td>\n",
       "      <td>2022-03-04T19:47:17.000+07:00</td>\n",
       "      <td>VTPOST</td>\n",
       "      <td>https://vtmoney.onelink.me/314y?pid=VTPOST&amp;c=V...</td>\n",
       "      <td>4</td>\n",
       "      <td>0</td>\n",
       "    </tr>\n",
       "    <tr>\n",
       "      <th>5</th>\n",
       "      <td>8.490192e+10</td>\n",
       "      <td>VTP</td>\n",
       "      <td>20220304</td>\n",
       "      <td>1646382907280-3863150</td>\n",
       "      <td>GIAONH1_KDVTPAY_VTP_KTM</td>\n",
       "      <td>VTPOST_BH</td>\n",
       "      <td>login_success</td>\n",
       "      <td>2022-03-04T19:47:12.000+07:00</td>\n",
       "      <td>VTPOST</td>\n",
       "      <td>https://vtmoney.onelink.me/314y?pid=VTPOST&amp;c=V...</td>\n",
       "      <td>97</td>\n",
       "      <td>0</td>\n",
       "    </tr>\n",
       "    <tr>\n",
       "      <th>6</th>\n",
       "      <td>8.490192e+10</td>\n",
       "      <td>VTP</td>\n",
       "      <td>20220304</td>\n",
       "      <td>1646382907280-3863150</td>\n",
       "      <td>GIAONH1_KDVTPAY_VTP_KTM</td>\n",
       "      <td>VTPOST_BH</td>\n",
       "      <td>transfer_success</td>\n",
       "      <td>2022-03-04T20:41:39.000+07:00</td>\n",
       "      <td>VTPOST</td>\n",
       "      <td>https://vtmoney.onelink.me/314y?pid=VTPOST&amp;c=V...</td>\n",
       "      <td>76</td>\n",
       "      <td>0</td>\n",
       "    </tr>\n",
       "    <tr>\n",
       "      <th>7</th>\n",
       "      <td>8.490192e+10</td>\n",
       "      <td>VTP</td>\n",
       "      <td>20220304</td>\n",
       "      <td>1646382907280-3863150</td>\n",
       "      <td>GIAONH1_KDVTPAY_VTP_KTM</td>\n",
       "      <td>VTPOST_BH</td>\n",
       "      <td>login_start</td>\n",
       "      <td>2022-03-04T20:40:56.000+07:00</td>\n",
       "      <td>VTPOST</td>\n",
       "      <td>https://vtmoney.onelink.me/314y?pid=VTPOST&amp;c=V...</td>\n",
       "      <td>20</td>\n",
       "      <td>1</td>\n",
       "    </tr>\n",
       "    <tr>\n",
       "      <th>8</th>\n",
       "      <td>8.490192e+10</td>\n",
       "      <td>VTP</td>\n",
       "      <td>20220304</td>\n",
       "      <td>1646382907280-3863150</td>\n",
       "      <td>GIAONH1_KDVTPAY_VTP_KTM</td>\n",
       "      <td>VTPOST_BH</td>\n",
       "      <td>login_success</td>\n",
       "      <td>2022-03-04T20:41:03.000+07:00</td>\n",
       "      <td>VTPOST</td>\n",
       "      <td>https://vtmoney.onelink.me/314y?pid=VTPOST&amp;c=V...</td>\n",
       "      <td>46</td>\n",
       "      <td>0</td>\n",
       "    </tr>\n",
       "    <tr>\n",
       "      <th>9</th>\n",
       "      <td>8.490192e+10</td>\n",
       "      <td>VTP</td>\n",
       "      <td>20220304</td>\n",
       "      <td>1646382907280-3863150</td>\n",
       "      <td>GIAONH1_KDVTPAY_VTP_KTM</td>\n",
       "      <td>VTPOST_BH</td>\n",
       "      <td>transfer_success</td>\n",
       "      <td>2022-03-04T20:41:56.000+07:00</td>\n",
       "      <td>VTPOST</td>\n",
       "      <td>https://vtmoney.onelink.me/314y?pid=VTPOST&amp;c=V...</td>\n",
       "      <td>55</td>\n",
       "      <td>0</td>\n",
       "    </tr>\n",
       "  </tbody>\n",
       "</table>\n",
       "</div>"
      ],
      "text/plain": [
       "         msisdn mother_system  af_partition_date           appsflyer_id  \\\n",
       "0  8.490192e+10           VTP           20220326  1646382907280-3863150   \n",
       "1  8.490192e+10           VTP           20220304  1646382907280-3863150   \n",
       "2  8.490192e+10           VTP           20220304  1646382907280-3863150   \n",
       "3  8.490192e+10           VTP           20220304  1646382907280-3863150   \n",
       "4  8.490192e+10           VTP           20220304  1646382907280-3863150   \n",
       "5  8.490192e+10           VTP           20220304  1646382907280-3863150   \n",
       "6  8.490192e+10           VTP           20220304  1646382907280-3863150   \n",
       "7  8.490192e+10           VTP           20220304  1646382907280-3863150   \n",
       "8  8.490192e+10           VTP           20220304  1646382907280-3863150   \n",
       "9  8.490192e+10           VTP           20220304  1646382907280-3863150   \n",
       "\n",
       "                  af_adset   campaign                   event_name  \\\n",
       "0  GIAONH1_KDVTPAY_VTP_KTM  VTPOST_BH  vtm_transaction_s2s_success   \n",
       "1  GIAONH1_KDVTPAY_VTP_KTM  VTPOST_BH                     qr_start   \n",
       "2  GIAONH1_KDVTPAY_VTP_KTM  VTPOST_BH             transfer_success   \n",
       "3  GIAONH1_KDVTPAY_VTP_KTM  VTPOST_BH                login_success   \n",
       "4  GIAONH1_KDVTPAY_VTP_KTM  VTPOST_BH    click_tab_bar_screen_home   \n",
       "5  GIAONH1_KDVTPAY_VTP_KTM  VTPOST_BH                login_success   \n",
       "6  GIAONH1_KDVTPAY_VTP_KTM  VTPOST_BH             transfer_success   \n",
       "7  GIAONH1_KDVTPAY_VTP_KTM  VTPOST_BH                  login_start   \n",
       "8  GIAONH1_KDVTPAY_VTP_KTM  VTPOST_BH                login_success   \n",
       "9  GIAONH1_KDVTPAY_VTP_KTM  VTPOST_BH             transfer_success   \n",
       "\n",
       "                      event_time media_source  \\\n",
       "0  2022-03-26T11:16:28.000+07:00       VTPOST   \n",
       "1  2022-03-04T19:47:18.000+07:00       VTPOST   \n",
       "2  2022-03-04T19:47:40.000+07:00       VTPOST   \n",
       "3  2022-03-04T19:47:12.000+07:00       VTPOST   \n",
       "4  2022-03-04T19:47:17.000+07:00       VTPOST   \n",
       "5  2022-03-04T19:47:12.000+07:00       VTPOST   \n",
       "6  2022-03-04T20:41:39.000+07:00       VTPOST   \n",
       "7  2022-03-04T20:40:56.000+07:00       VTPOST   \n",
       "8  2022-03-04T20:41:03.000+07:00       VTPOST   \n",
       "9  2022-03-04T20:41:56.000+07:00       VTPOST   \n",
       "\n",
       "                                        original_url  quantity  check  \n",
       "0  https://vtmoney.onelink.me/314y?pid=VTPOST&c=V...        40      1  \n",
       "1  https://vtmoney.onelink.me/314y?pid=VTPOST&c=V...        49      0  \n",
       "2  https://vtmoney.onelink.me/314y?pid=VTPOST&c=V...        14      0  \n",
       "3  https://vtmoney.onelink.me/314y?pid=VTPOST&c=V...        94      0  \n",
       "4  https://vtmoney.onelink.me/314y?pid=VTPOST&c=V...         4      0  \n",
       "5  https://vtmoney.onelink.me/314y?pid=VTPOST&c=V...        97      0  \n",
       "6  https://vtmoney.onelink.me/314y?pid=VTPOST&c=V...        76      0  \n",
       "7  https://vtmoney.onelink.me/314y?pid=VTPOST&c=V...        20      1  \n",
       "8  https://vtmoney.onelink.me/314y?pid=VTPOST&c=V...        46      0  \n",
       "9  https://vtmoney.onelink.me/314y?pid=VTPOST&c=V...        55      0  "
      ]
     },
     "execution_count": 2,
     "metadata": {},
     "output_type": "execute_result"
    }
   ],
   "source": [
    "df_dataset = pd.read_csv('.//data/dataset.csv')\n",
    "df_dataset.head(n=10)"
   ]
  },
  {
   "cell_type": "code",
   "execution_count": 3,
   "metadata": {
    "collapsed": false,
    "pycharm": {
     "name": "#%%\n"
    }
   },
   "outputs": [
    {
     "data": {
      "application/vnd.jupyter.widget-view+json": {
       "model_id": "4ba8e08ac2af45a3bc4b54249b515f62",
       "version_major": 2,
       "version_minor": 0
      },
      "text/plain": [
       "                                             |          | [  0%]   00:00 -> (? left)"
      ]
     },
     "metadata": {},
     "output_type": "display_data"
    },
    {
     "name": "stdout",
     "output_type": "stream",
     "text": [
      "Report SWEETVIZ_REPORT.html was generated! NOTEBOOK/COLAB USERS: the web browser MAY not pop up, regardless, the report IS saved in your notebook/colab files.\n"
     ]
    }
   ],
   "source": [
    "report1 = sweetviz.analyze(source=df_dataset)\n",
    "report1.show_html()"
   ]
  },
  {
   "cell_type": "code",
   "execution_count": null,
   "metadata": {
    "collapsed": true
   },
   "outputs": [],
   "source": []
  }
 ],
 "metadata": {
  "kernelspec": {
   "display_name": "Python 3",
   "language": "python",
   "name": "python3"
  },
  "language_info": {
   "codemirror_mode": {
    "name": "ipython",
    "version": 3
   },
   "file_extension": ".py",
   "mimetype": "text/x-python",
   "name": "python",
   "nbconvert_exporter": "python",
   "pygments_lexer": "ipython3",
   "version": "3.11.6"
  }
 },
 "nbformat": 4,
 "nbformat_minor": 0
}
