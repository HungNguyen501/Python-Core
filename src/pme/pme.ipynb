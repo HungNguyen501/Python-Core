{
 "cells": [
  {
   "cell_type": "code",
   "execution_count": 12,
   "metadata": {},
   "outputs": [
    {
     "data": {
      "text/html": [
       "\n",
       "<style>\n",
       "    * {\n",
       "        font-family: monospace;\n",
       "        font-size: 12px;\n",
       "        line-height: normal;\n",
       "    }\n",
       "</style>\n"
      ],
      "text/plain": [
       "<IPython.core.display.HTML object>"
      ]
     },
     "execution_count": 12,
     "metadata": {},
     "output_type": "execute_result"
    }
   ],
   "source": [
    "from IPython.core.display import HTML\n",
    "HTML(r\"\"\"\n",
    "<style>\n",
    "    * {\n",
    "        font-family: monospace;\n",
    "        font-size: 12px;\n",
    "        line-height: normal;\n",
    "    }\n",
    "</style>\n",
    "\"\"\")"
   ]
  },
  {
   "cell_type": "markdown",
   "metadata": {},
   "source": [
    "# Import this"
   ]
  },
  {
   "cell_type": "code",
   "execution_count": 13,
   "metadata": {},
   "outputs": [],
   "source": [
    "import base64\n",
    "from datetime import timedelta\n",
    "import requests\n",
    "\n",
    "import pandas as pd\n",
    "import pyarrow as pa\n",
    "import pyarrow.parquet as pq\n",
    "import pyarrow.parquet.encryption as pe\n",
    "from pyarrow.tests.parquet.encryption import InMemoryKmsClient"
   ]
  },
  {
   "cell_type": "code",
   "execution_count": 14,
   "metadata": {},
   "outputs": [
    {
     "name": "stdout",
     "output_type": "stream",
     "text": [
      "    name   birth_day favorite_color\n",
      "0   john  1990-01-01            red\n",
      "1    bob  1990-01-01         purple\n",
      "2  alice  1990-01-01           navy\n"
     ]
    }
   ],
   "source": [
    "# pandas dataframe\n",
    "\n",
    "data = {\n",
    "    'name': [\"john\", \"bob\", \"alice\"],\n",
    "    'birth_day': [\"1990-01-01\", \"1990-01-01\", \"1990-01-01\"],\n",
    "    'favorite_color': [\"red\", \"purple\", \"navy\"]\n",
    "}\n",
    "df = pd.DataFrame(data=data)\n",
    "print(df.head())\n",
    "table = pa.Table.from_pandas(df)"
   ]
  },
  {
   "cell_type": "markdown",
   "metadata": {},
   "source": [
    "# KMS Client"
   ]
  },
  {
   "cell_type": "markdown",
   "metadata": {},
   "source": [
    "## Mock KMS Client"
   ]
  },
  {
   "cell_type": "code",
   "execution_count": 15,
   "metadata": {},
   "outputs": [],
   "source": [
    "# secret 128-bit AES key\n",
    "footer_key = b\"1234567890123450\"\n",
    "pii1_key = b\"2345678901234501\"\n",
    "pii2_key = b\"3456789012345012\"\n",
    "\n",
    "kms_connection_config = pe.KmsConnectionConfig(\n",
    "    kms_instance_id=\"python_client\",\n",
    "    kms_instance_url=\"URL1\",\n",
    "    key_access_token=\"MyToken\",\n",
    "    custom_kms_conf={\n",
    "        \"parquet_footer_key\": footer_key.decode(\"UTF-8\"),\n",
    "        \"Confidential,Encrypt,PII1\": pii1_key.decode(\"UTF-8\"),\n",
    "        \"Confidential,Encrypt,PII2\": pii2_key.decode(\"UTF-8\"),\n",
    "    }\n",
    ")\n",
    "\n",
    "def kms_factory(kms_connection_configuration):\n",
    "    return InMemoryKmsClient(kms_connection_configuration)"
   ]
  },
  {
   "cell_type": "markdown",
   "metadata": {},
   "source": [
    "## KMS Implementation"
   ]
  },
  {
   "cell_type": "code",
   "execution_count": 10,
   "metadata": {},
   "outputs": [],
   "source": [
    "class VaultClient(pe.KmsClient):\n",
    "    \"\"\"An example of a KmsClient implementation with master keys\n",
    "    managed by Hashicorp Vault KMS.\n",
    "    See Vault documentation: https://www.vaultproject.io/api/secret/transit\n",
    "    Not for production use!\n",
    "    \"\"\"\n",
    "    JSON_MEDIA_TYPE = \"application/json; charset=utf-8\"\n",
    "    DEFAULT_TRANSIT_ENGINE = \"/v1/transit/\"\n",
    "    WRAP_ENDPOINT = \"encrypt/\"\n",
    "    UNWRAP_ENDPOINT = \"decrypt/\"\n",
    "    TOKEN_HEADER = \"X-Vault-Token\"\n",
    "\n",
    "    def __init__(self, kms_connection_config):\n",
    "        \"\"\"Create a VaultClient instance.\n",
    "\n",
    "        Parameters\n",
    "        ----------\n",
    "        kms_connection_config : KmsConnectionConfig\n",
    "           configuration parameters to connect to vault,\n",
    "           e.g. URL and access token\n",
    "        \"\"\"\n",
    "        pe.KmsClient.__init__(self)\n",
    "        self.kms_url = kms_connection_config.kms_instance_url + \\\n",
    "            VaultClient.DEFAULT_TRANSIT_ENGINE\n",
    "        self.kms_connection_config = kms_connection_config\n",
    "\n",
    "    def wrap_key(self, key_bytes, master_key_identifier):\n",
    "        \"\"\"Call Vault to wrap key key_bytes with key\n",
    "        identified by master_key_identifier.\"\"\"\n",
    "        endpoint = self.kms_url + VaultClient.WRAP_ENDPOINT\n",
    "        headers = {VaultClient.TOKEN_HEADER:\n",
    "                   self.kms_connection_config.key_access_token}\n",
    "        r = requests.post(endpoint + master_key_identifier,\n",
    "                          headers=headers,\n",
    "                          data={'plaintext': base64.b64encode(key_bytes)})\n",
    "        r.raise_for_status()\n",
    "        r_dict = r.json()\n",
    "        wrapped_key = r_dict['data']['ciphertext']\n",
    "        return wrapped_key\n",
    "\n",
    "    def unwrap_key(self, wrapped_key, master_key_identifier):\n",
    "        \"\"\"Call Vault to unwrap wrapped_key with key\n",
    "        identified by master_key_identifier\"\"\"\n",
    "        endpoint = self.kms_url + VaultClient.UNWRAP_ENDPOINT\n",
    "        headers = {VaultClient.TOKEN_HEADER:\n",
    "                   self.kms_connection_config.key_access_token}\n",
    "        r = requests.post(endpoint + master_key_identifier,\n",
    "                          headers=headers,\n",
    "                          data={'ciphertext': wrapped_key})\n",
    "        r.raise_for_status()\n",
    "        r_dict = r.json()\n",
    "        plaintext = r_dict['data']['plaintext']\n",
    "        key_bytes = base64.b64decode(plaintext)\n",
    "        return key_bytes"
   ]
  },
  {
   "cell_type": "code",
   "execution_count": null,
   "metadata": {},
   "outputs": [],
   "source": [
    "kms_connection_config = pe.KmsConnectionConfig(\n",
    "    kms_instance_url=\"https://datainfra-dp-masking-api.zalopay.vn/\",\n",
    "    key_access_token=\"30338e4118d17773515f9e11d0fcf415ff5d344d\",\n",
    ")\n",
    "\n",
    "def kms_factory(kms_connection_configuration):\n",
    "    return VaultClient(kms_connection_configuration)"
   ]
  },
  {
   "cell_type": "markdown",
   "metadata": {},
   "source": [
    "# Encryption"
   ]
  },
  {
   "cell_type": "code",
   "execution_count": 16,
   "metadata": {},
   "outputs": [],
   "source": [
    "encryption_config = pe.EncryptionConfiguration(\n",
    "    footer_key=\"parquet_footer_key\",\n",
    "    encryption_algorithm=\"AES_GCM_CTR_V1\",\n",
    "    plaintext_footer=True,\n",
    "    double_wrapping=True,\n",
    "    column_keys={\n",
    "       \"Confidential,Encrypt,PII1\": [\"name\"],\n",
    "       \"Confidential,Encrypt,PII2\": [\"birth_day\"],\n",
    "    },\n",
    "    cache_lifetime=timedelta(minutes=10.0),\n",
    "    data_key_length_bits=128,)"
   ]
  },
  {
   "cell_type": "code",
   "execution_count": 17,
   "metadata": {},
   "outputs": [],
   "source": [
    "crypto_factory = pe.CryptoFactory(kms_factory)\n",
    "file_encryption_properties = crypto_factory.file_encryption_properties(\n",
    "    kms_connection_config, encryption_config)"
   ]
  },
  {
   "cell_type": "code",
   "execution_count": 18,
   "metadata": {},
   "outputs": [],
   "source": [
    "with pq.ParquetWriter(\n",
    "    \"./data/enrypted_data1.parquet\",\n",
    "    table.schema,\n",
    "    encryption_properties=file_encryption_properties\n",
    ") as writer:\n",
    "    writer.write_table(table)"
   ]
  },
  {
   "cell_type": "code",
   "execution_count": 36,
   "metadata": {},
   "outputs": [
    {
     "name": "stdout",
     "output_type": "stream",
     "text": [
      "<pyarrow._parquet.FileMetaData object at 0x16a729800>\n",
      "  created_by: parquet-cpp-arrow version 16.0.0\n",
      "  num_columns: 3\n",
      "  num_rows: 3\n",
      "  num_row_groups: 1\n",
      "  format_version: 2.6\n",
      "  serialized_size: 3543\n",
      "<pyarrow._parquet.ParquetSchema object at 0x111965580>\n",
      "required group field_id=-1 schema {\n",
      "  optional binary field_id=-1 name (String);\n",
      "  optional binary field_id=-1 birth_day (String);\n",
      "  optional binary field_id=-1 favorite_color (String);\n",
      "}\n",
      "\n"
     ]
    }
   ],
   "source": [
    "# Parquet file with plain text footer\n",
    "print(pq.ParquetFile(source=\"./data/enrypted_data.parquet\").metadata)\n",
    "print(pq.ParquetFile(source=\"./data/enrypted_data.parquet\").schema)"
   ]
  },
  {
   "cell_type": "code",
   "execution_count": 37,
   "metadata": {},
   "outputs": [
    {
     "ename": "OSError",
     "evalue": "Could not read encrypted metadata, no decryption found in reader's properties",
     "output_type": "error",
     "traceback": [
      "\u001b[0;31m---------------------------------------------------------------------------\u001b[0m",
      "\u001b[0;31mOSError\u001b[0m                                   Traceback (most recent call last)",
      "Cell \u001b[0;32mIn[37], line 2\u001b[0m\n\u001b[1;32m      1\u001b[0m \u001b[38;5;66;03m# Parquet file with encrypted footer\u001b[39;00m\n\u001b[0;32m----> 2\u001b[0m \u001b[38;5;28mprint\u001b[39m(\u001b[43mpq\u001b[49m\u001b[38;5;241;43m.\u001b[39;49m\u001b[43mParquetFile\u001b[49m\u001b[43m(\u001b[49m\u001b[43msource\u001b[49m\u001b[38;5;241;43m=\u001b[39;49m\u001b[38;5;124;43m\"\u001b[39;49m\u001b[38;5;124;43m./enrypted_data2.parquet\u001b[39;49m\u001b[38;5;124;43m\"\u001b[39;49m\u001b[43m)\u001b[49m\u001b[38;5;241m.\u001b[39mmetadata)\n\u001b[1;32m      3\u001b[0m \u001b[38;5;28mprint\u001b[39m(pq\u001b[38;5;241m.\u001b[39mParquetFile(source\u001b[38;5;241m=\u001b[39m\u001b[38;5;124m\"\u001b[39m\u001b[38;5;124m./enrypted_data2.parquet\u001b[39m\u001b[38;5;124m\"\u001b[39m)\u001b[38;5;241m.\u001b[39mschema)\n",
      "File \u001b[0;32m/opt/homebrew/lib/python3.11/site-packages/pyarrow/parquet/core.py:317\u001b[0m, in \u001b[0;36mParquetFile.__init__\u001b[0;34m(self, source, metadata, common_metadata, read_dictionary, memory_map, buffer_size, pre_buffer, coerce_int96_timestamp_unit, decryption_properties, thrift_string_size_limit, thrift_container_size_limit, filesystem, page_checksum_verification)\u001b[0m\n\u001b[1;32m    314\u001b[0m     \u001b[38;5;28mself\u001b[39m\u001b[38;5;241m.\u001b[39m_close_source \u001b[38;5;241m=\u001b[39m \u001b[38;5;28;01mTrue\u001b[39;00m  \u001b[38;5;66;03m# We opened it here, ensure we close it.\u001b[39;00m\n\u001b[1;32m    316\u001b[0m \u001b[38;5;28mself\u001b[39m\u001b[38;5;241m.\u001b[39mreader \u001b[38;5;241m=\u001b[39m ParquetReader()\n\u001b[0;32m--> 317\u001b[0m \u001b[38;5;28;43mself\u001b[39;49m\u001b[38;5;241;43m.\u001b[39;49m\u001b[43mreader\u001b[49m\u001b[38;5;241;43m.\u001b[39;49m\u001b[43mopen\u001b[49m\u001b[43m(\u001b[49m\n\u001b[1;32m    318\u001b[0m \u001b[43m    \u001b[49m\u001b[43msource\u001b[49m\u001b[43m,\u001b[49m\u001b[43m \u001b[49m\u001b[43muse_memory_map\u001b[49m\u001b[38;5;241;43m=\u001b[39;49m\u001b[43mmemory_map\u001b[49m\u001b[43m,\u001b[49m\n\u001b[1;32m    319\u001b[0m \u001b[43m    \u001b[49m\u001b[43mbuffer_size\u001b[49m\u001b[38;5;241;43m=\u001b[39;49m\u001b[43mbuffer_size\u001b[49m\u001b[43m,\u001b[49m\u001b[43m \u001b[49m\u001b[43mpre_buffer\u001b[49m\u001b[38;5;241;43m=\u001b[39;49m\u001b[43mpre_buffer\u001b[49m\u001b[43m,\u001b[49m\n\u001b[1;32m    320\u001b[0m \u001b[43m    \u001b[49m\u001b[43mread_dictionary\u001b[49m\u001b[38;5;241;43m=\u001b[39;49m\u001b[43mread_dictionary\u001b[49m\u001b[43m,\u001b[49m\u001b[43m \u001b[49m\u001b[43mmetadata\u001b[49m\u001b[38;5;241;43m=\u001b[39;49m\u001b[43mmetadata\u001b[49m\u001b[43m,\u001b[49m\n\u001b[1;32m    321\u001b[0m \u001b[43m    \u001b[49m\u001b[43mcoerce_int96_timestamp_unit\u001b[49m\u001b[38;5;241;43m=\u001b[39;49m\u001b[43mcoerce_int96_timestamp_unit\u001b[49m\u001b[43m,\u001b[49m\n\u001b[1;32m    322\u001b[0m \u001b[43m    \u001b[49m\u001b[43mdecryption_properties\u001b[49m\u001b[38;5;241;43m=\u001b[39;49m\u001b[43mdecryption_properties\u001b[49m\u001b[43m,\u001b[49m\n\u001b[1;32m    323\u001b[0m \u001b[43m    \u001b[49m\u001b[43mthrift_string_size_limit\u001b[49m\u001b[38;5;241;43m=\u001b[39;49m\u001b[43mthrift_string_size_limit\u001b[49m\u001b[43m,\u001b[49m\n\u001b[1;32m    324\u001b[0m \u001b[43m    \u001b[49m\u001b[43mthrift_container_size_limit\u001b[49m\u001b[38;5;241;43m=\u001b[39;49m\u001b[43mthrift_container_size_limit\u001b[49m\u001b[43m,\u001b[49m\n\u001b[1;32m    325\u001b[0m \u001b[43m    \u001b[49m\u001b[43mpage_checksum_verification\u001b[49m\u001b[38;5;241;43m=\u001b[39;49m\u001b[43mpage_checksum_verification\u001b[49m\u001b[43m,\u001b[49m\n\u001b[1;32m    326\u001b[0m \u001b[43m\u001b[49m\u001b[43m)\u001b[49m\n\u001b[1;32m    327\u001b[0m \u001b[38;5;28mself\u001b[39m\u001b[38;5;241m.\u001b[39mcommon_metadata \u001b[38;5;241m=\u001b[39m common_metadata\n\u001b[1;32m    328\u001b[0m \u001b[38;5;28mself\u001b[39m\u001b[38;5;241m.\u001b[39m_nested_paths_by_prefix \u001b[38;5;241m=\u001b[39m \u001b[38;5;28mself\u001b[39m\u001b[38;5;241m.\u001b[39m_build_nested_paths()\n",
      "File \u001b[0;32m/opt/homebrew/lib/python3.11/site-packages/pyarrow/_parquet.pyx:1480\u001b[0m, in \u001b[0;36mpyarrow._parquet.ParquetReader.open\u001b[0;34m()\u001b[0m\n",
      "File \u001b[0;32m/opt/homebrew/lib/python3.11/site-packages/pyarrow/error.pxi:91\u001b[0m, in \u001b[0;36mpyarrow.lib.check_status\u001b[0;34m()\u001b[0m\n",
      "\u001b[0;31mOSError\u001b[0m: Could not read encrypted metadata, no decryption found in reader's properties"
     ]
    }
   ],
   "source": [
    "# Parquet file with encrypted footer\n",
    "print(pq.ParquetFile(source=\"./enrypted_data2.parquet\").metadata)\n",
    "print(pq.ParquetFile(source=\"./enrypted_data2.parquet\").schema)"
   ]
  },
  {
   "cell_type": "code",
   "execution_count": null,
   "metadata": {},
   "outputs": [],
   "source": []
  },
  {
   "cell_type": "markdown",
   "metadata": {},
   "source": [
    "# Decryption"
   ]
  },
  {
   "cell_type": "code",
   "execution_count": 40,
   "metadata": {},
   "outputs": [],
   "source": [
    "decryption_config = pe.DecryptionConfiguration(\n",
    "    cache_lifetime=timedelta(minutes=5.0))\n",
    "file_decryption_properties = crypto_factory.file_decryption_properties(\n",
    "        kms_connection_config, decryption_config)"
   ]
  },
  {
   "cell_type": "code",
   "execution_count": 45,
   "metadata": {},
   "outputs": [],
   "source": [
    "file_path = \"./enrypted_data2.parquet\"\n",
    "result = pq.ParquetFile(\n",
    "    source=file_path,\n",
    "    decryption_properties=file_decryption_properties)"
   ]
  },
  {
   "cell_type": "code",
   "execution_count": 51,
   "metadata": {},
   "outputs": [
    {
     "data": {
      "text/plain": [
       "<pyarrow._parquet.ParquetSchema object at 0x173008680>\n",
       "required group field_id=-1 schema {\n",
       "  optional binary field_id=-1 name (String);\n",
       "  optional binary field_id=-1 birth_day (String);\n",
       "  optional binary field_id=-1 favorite_color (String);\n",
       "}"
      ]
     },
     "execution_count": 51,
     "metadata": {},
     "output_type": "execute_result"
    }
   ],
   "source": [
    "result.schema"
   ]
  },
  {
   "cell_type": "code",
   "execution_count": 52,
   "metadata": {},
   "outputs": [
    {
     "data": {
      "text/html": [
       "<div>\n",
       "<style scoped>\n",
       "    .dataframe tbody tr th:only-of-type {\n",
       "        vertical-align: middle;\n",
       "    }\n",
       "\n",
       "    .dataframe tbody tr th {\n",
       "        vertical-align: top;\n",
       "    }\n",
       "\n",
       "    .dataframe thead th {\n",
       "        text-align: right;\n",
       "    }\n",
       "</style>\n",
       "<table border=\"1\" class=\"dataframe\">\n",
       "  <thead>\n",
       "    <tr style=\"text-align: right;\">\n",
       "      <th></th>\n",
       "      <th>name</th>\n",
       "      <th>birth_day</th>\n",
       "      <th>favorite_color</th>\n",
       "    </tr>\n",
       "  </thead>\n",
       "  <tbody>\n",
       "    <tr>\n",
       "      <th>0</th>\n",
       "      <td>john</td>\n",
       "      <td>1990-01-01</td>\n",
       "      <td>red</td>\n",
       "    </tr>\n",
       "    <tr>\n",
       "      <th>1</th>\n",
       "      <td>bob</td>\n",
       "      <td>1990-01-01</td>\n",
       "      <td>purple</td>\n",
       "    </tr>\n",
       "    <tr>\n",
       "      <th>2</th>\n",
       "      <td>alice</td>\n",
       "      <td>1990-01-01</td>\n",
       "      <td>navy</td>\n",
       "    </tr>\n",
       "  </tbody>\n",
       "</table>\n",
       "</div>"
      ],
      "text/plain": [
       "    name   birth_day favorite_color\n",
       "0   john  1990-01-01            red\n",
       "1    bob  1990-01-01         purple\n",
       "2  alice  1990-01-01           navy"
      ]
     },
     "execution_count": 52,
     "metadata": {},
     "output_type": "execute_result"
    }
   ],
   "source": [
    "result.read().to_pandas()"
   ]
  },
  {
   "cell_type": "code",
   "execution_count": null,
   "metadata": {},
   "outputs": [],
   "source": []
  },
  {
   "cell_type": "code",
   "execution_count": null,
   "metadata": {},
   "outputs": [],
   "source": []
  },
  {
   "cell_type": "code",
   "execution_count": null,
   "metadata": {},
   "outputs": [],
   "source": []
  }
 ],
 "metadata": {
  "kernelspec": {
   "display_name": "Python 3",
   "language": "python",
   "name": "python3"
  },
  "language_info": {
   "codemirror_mode": {
    "name": "ipython",
    "version": 3
   },
   "file_extension": ".py",
   "mimetype": "text/x-python",
   "name": "python",
   "nbconvert_exporter": "python",
   "pygments_lexer": "ipython3",
   "version": "3.11.6"
  }
 },
 "nbformat": 4,
 "nbformat_minor": 2
}
