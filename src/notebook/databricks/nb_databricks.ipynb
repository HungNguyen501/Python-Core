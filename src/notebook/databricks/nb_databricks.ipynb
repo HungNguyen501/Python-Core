{
 "cells": [
  {
   "cell_type": "code",
   "execution_count": 1,
   "metadata": {},
   "outputs": [
    {
     "data": {
      "text/html": [
       "\n",
       "<style>\n",
       "    * {\n",
       "        font-family: monospace;\n",
       "        font-size: 12px;\n",
       "        line-height: normal;\n",
       "    }\n",
       "</style>\n"
      ],
      "text/plain": [
       "<IPython.core.display.HTML object>"
      ]
     },
     "execution_count": 1,
     "metadata": {},
     "output_type": "execute_result"
    }
   ],
   "source": [
    "from IPython.core.display import HTML\n",
    "HTML(r\"\"\"\n",
    "<style>\n",
    "    * {\n",
    "        font-family: monospace;\n",
    "        font-size: 12px;\n",
    "        line-height: normal;\n",
    "    }\n",
    "</style>\n",
    "\"\"\")"
   ]
  },
  {
   "cell_type": "code",
   "execution_count": null,
   "metadata": {},
   "outputs": [],
   "source": [
    "from pyspark.sql import SparkSession"
   ]
  },
  {
   "cell_type": "code",
   "execution_count": 9,
   "metadata": {},
   "outputs": [],
   "source": [
    "spark = SparkSession.builder.getOrCreate()"
   ]
  },
  {
   "cell_type": "code",
   "execution_count": 15,
   "metadata": {},
   "outputs": [
    {
     "data": {
      "text/plain": [
       "'3.5.2'"
      ]
     },
     "execution_count": 15,
     "metadata": {},
     "output_type": "execute_result"
    }
   ],
   "source": [
    "spark.version"
   ]
  },
  {
   "cell_type": "code",
   "execution_count": 17,
   "metadata": {},
   "outputs": [
    {
     "name": "stdout",
     "output_type": "stream",
     "text": [
      "+---+-----------+--------------------+---------------+-------------+----------------------------------------------------------------------------+------------+------------+\n",
      "|id |location   |location_market_long|location_market|location_city|location_address                                                            |company     |secret_scope|\n",
      "+---+-----------+--------------------+---------------+-------------+----------------------------------------------------------------------------+------------+------------+\n",
      "|1  |Blaine     |Minnesota           |MN             |Blaine       |Blaine 672 County Highway 10, Northcourt Commons, Blaine, MN 55434          |Vireo Health|vireo-health|\n",
      "|2  |Bloomington|Minnesota           |MN             |Bloomington  |Bloomington 5232 W. 84th St. Bloomington, MN 55437                          |Vireo Health|vireo-health|\n",
      "|3  |Burnsville |Minnesota           |MN             |Burnsville   |Burnsville 14334 Burnhaven Drive, Suite 14334, Burnsville, MN 55306         |Vireo Health|vireo-health|\n",
      "|4  |Hermantown |Minnesota           |MN             |Hermantown   |Duluth/Hermantown 4960 Miller Trunk Highway, Suite 300, Hermantown, MN 55811|Vireo Health|vireo-health|\n",
      "|5  |Minneapolis|Minnesota           |MN             |Minneapolis  |Minneapolis 207 S 9th St., Minneapolis, MN 55402                            |Vireo Health|vireo-health|\n",
      "|6  |Moorhead   |Minnesota           |MN             |Moorhead     |Moorhead 104 7th St. S, Moorhead, MN 56560                                  |Vireo Health|vireo-health|\n",
      "|7  |Rochester  |Minnesota           |MN             |Rochester    |Rochester 3456 E. Circle Drive NE, #104, Rochester, MN 55906                |Vireo Health|vireo-health|\n",
      "|8  |Woodbury   |Minnesota           |MN             |Woodbury     |Woodbury 803 Bielenberg Drive, Building F5, Suite 101, Woodbury, MN 55125   |Vireo Health|vireo-health|\n",
      "|9  |Dundalk    |Maryland            |MD             |Baltimore    |Baltimore (Dundalk) 717 North Point Blvd, Baltimore, MD 21224               |Vireo Health|vireo-health|\n",
      "|10 |Frederick  |Maryland            |MD             |Frederick    |Frederick 1080 W. Patrick Street, Suite 13, Frederick, MD 21703             |Vireo Health|vireo-health|\n",
      "+---+-----------+--------------------+---------------+-------------+----------------------------------------------------------------------------+------------+------------+\n",
      "only showing top 10 rows\n"
     ]
    }
   ],
   "source": [
    "df = spark.table(\"vireohealth_com.gold.dim_store_locations\")\n",
    "df.show(n=10, truncate=False)"
   ]
  },
  {
   "cell_type": "code",
   "execution_count": null,
   "metadata": {},
   "outputs": [],
   "source": []
  },
  {
   "cell_type": "code",
   "execution_count": null,
   "metadata": {},
   "outputs": [],
   "source": []
  },
  {
   "cell_type": "code",
   "execution_count": null,
   "metadata": {},
   "outputs": [],
   "source": []
  },
  {
   "cell_type": "code",
   "execution_count": null,
   "metadata": {},
   "outputs": [],
   "source": []
  },
  {
   "cell_type": "code",
   "execution_count": null,
   "metadata": {},
   "outputs": [],
   "source": []
  }
 ],
 "metadata": {
  "kernelspec": {
   "display_name": ".venv",
   "language": "python",
   "name": "python3"
  },
  "language_info": {
   "codemirror_mode": {
    "name": "ipython",
    "version": 3
   },
   "file_extension": ".py",
   "mimetype": "text/x-python",
   "name": "python",
   "nbconvert_exporter": "python",
   "pygments_lexer": "ipython3",
   "version": "3.12.9"
  }
 },
 "nbformat": 4,
 "nbformat_minor": 2
}
